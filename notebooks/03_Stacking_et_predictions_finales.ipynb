{
 "cells": [
  {
   "cell_type": "markdown",
   "id": "3a52392d",
   "metadata": {
    "id": "3a52392d"
   },
   "source": [
    "**Projet STA211 — Modélisation supervisée : Classification de publicités**\n",
    "\n",
    "**Notebook 3 : Stacking et Prédictions Finales**\n",
    "\n",
    "---\n"
   ]
  },
  {
   "cell_type": "markdown",
   "id": "df94ccf6",
   "metadata": {
    "id": "df94ccf6"
   },
   "source": [
    " ## Introduction – Notebook 03 : Stacking et Prédictions Finales\n",
    "\n",
    "  Ce dernier notebook vise à **consolider et optimiser la performance finale** du projet STA211, en combinant les\n",
    "  meilleurs modèles issus du notebook 02 via une stratégie d'**ensemble (stacking)**.\n",
    "\n",
    "  ---\n",
    "\n",
    "  ### Objectifs\n",
    "\n",
    "  - **Combiner les champions** (GradBoost, XGBoost, MLP) via un **méta-modèle optimisé**\n",
    "  - **Exploiter la complémentarité KNN/MICE** pour renforcer la robustesse des prédictions\n",
    "  - **Optimiser l'ensemble complet** avec validation croisée et seuils calibrés\n",
    "  - **Générer les prédictions finales** et atteindre des performances de production\n",
    "\n",
    "  ---\n",
    "\n",
    "  ### Champions sélectionnés du Notebook 02\n",
    "\n",
    "  **Candidats pour le stacking :**\n",
    "  - **GradBoost + KNN FULL** : F1=0.9160 (champion TEST) 🥇\n",
    "  - **XGBoost + KNN FULL** : F1=0.9385 (champion VALIDATION) 🥈\n",
    "  - **GradBoost + MICE FULL** : AUC=0.9812 (champion discrimination) \n",
    "  - **XGBoost + KNN REDUCED** : F1=0.90+ (efficacité avec 38 features) \n",
    "\n",
    "  **Méta-modèle :**\n",
    "  - `Logistic Regression` *(par défaut - interprétable et robuste)*\n",
    "  - `Random Forest` *(alternative pour non-linéarités)*\n",
    "  - `XGBoost` *(option avancée via `meta_model_type`)*\n",
    "\n",
    "  ---\n",
    "\n",
    "  ### Artefacts hérités du Notebook 02\n",
    "\n",
    "  - ✅ **20 modèles optimisés** sauvegardés (`.pkl` format unifié)\n",
    "  - ✅ **Seuils calibrés** pour chaque modèle (`df_all_thresholds.csv`)\n",
    "  - ✅ **Données structurées** KNN/MICE × FULL/REDUCED\n",
    "  - ✅ **Performances de référence** :\n",
    "    - **GradBoost + KNN** : F1=**0.9160** (TEST baseline)\n",
    "    - **Moyenne Top-5** : F1=**0.9070** (référence ensemble)\n",
    "    - **AUC exceptionnel** : **0.9812** (discrimination)\n",
    "\n",
    "  ---\n",
    "\n",
    "  ### Stratégie d'ensemble\n",
    "\n",
    "  1. **Stacking à 2 niveaux** : Base learners → Meta-model\n",
    "  2. **Validation croisée stratifiée** pour éviter l'overfitting\n",
    "  3. **Optimisation globale des seuils** sur l'ensemble complet\n",
    "  4. **Comparaison rigoureuse** avec les champions individuels\n",
    "  5. **Prédictions finales** avec intervalle de confiance\n",
    "\n",
    "  ---\n",
    "\n",
    "  ### Objectif ambitieux : F1 > 0.92 sur TEST\n",
    "\n",
    "  *Dépasser la performance du meilleur modèle individuel (0.9160) grâce à la sagesse collective des ensembles !*\n",
    "\n",
    "  Changements majeurs :\n",
    "  1. Vrais champions - GradBoost/XGBoost au lieu de RF\n",
    "  2. Vraies performances - F1=0.9160 au lieu de 0.922\n",
    "  3. 4 candidats spécifiques - Basés sur vos résultats réels\n",
    "  4. AUC ajouté - Performances exceptionnelles (0.9812)\n",
    "  5. Objectif réaliste - F1 > 0.92 (dépassement de 0.9160)"
   ]
  },
  {
   "cell_type": "markdown",
   "id": "b0bceea2",
   "metadata": {
    "id": "b0bceea2"
   },
   "source": [
    "# Préparation de l'environnement et chargement des bibliothèques\n"
   ]
  },
  {
   "cell_type": "code",
   "execution_count": 4,
   "id": "tdbacfB_b8hx",
   "metadata": {
    "colab": {
     "base_uri": "https://localhost:8080/",
     "height": 644
    },
    "executionInfo": {
     "elapsed": 42242,
     "status": "ok",
     "timestamp": 1753863389990,
     "user": {
      "displayName": "maoulida abdoullatuf",
      "userId": "05790302460507444417"
     },
     "user_tz": -120
    },
    "id": "tdbacfB_b8hx",
    "outputId": "776f8da2-07d4-46bc-ae0f-ee8a467fdaec"
   },
   "outputs": [
    {
     "name": "stdout",
     "output_type": "stream",
     "text": [
      "2025-08-16 18:19:35,437 - INFO - 📂 Racine projet détectée : C:\\sta211-project\n",
      "2025-08-16 18:19:35,446 - INFO - PYTHONPATH ← C:\\sta211-project\n",
      "2025-08-16 18:19:38,968 - INFO - ✅ Configuration chargée depuis config.py\n",
      "2025-08-16 18:19:38,968 - INFO - 📁 Racine du projet: C:\\sta211-project\n"
     ]
    },
    {
     "data": {
      "text/html": [
       "<style type=\"text/css\">\n",
       "#T_c008f th {\n",
       "  text-align: left;\n",
       "}\n",
       "#T_c008f td {\n",
       "  text-align: left;\n",
       "}\n",
       "</style>\n",
       "<table id=\"T_c008f\">\n",
       "  <thead>\n",
       "    <tr>\n",
       "      <th class=\"blank level0\" >&nbsp;</th>\n",
       "      <th id=\"T_c008f_level0_col0\" class=\"col_heading level0 col0\" >Chemin</th>\n",
       "      <th id=\"T_c008f_level0_col1\" class=\"col_heading level0 col1\" >Existe</th>\n",
       "    </tr>\n",
       "    <tr>\n",
       "      <th class=\"index_name level0\" >Clé</th>\n",
       "      <th class=\"blank col0\" >&nbsp;</th>\n",
       "      <th class=\"blank col1\" >&nbsp;</th>\n",
       "    </tr>\n",
       "  </thead>\n",
       "  <tbody>\n",
       "    <tr>\n",
       "      <th id=\"T_c008f_level0_row0\" class=\"row_heading level0 row0\" >root</th>\n",
       "      <td id=\"T_c008f_row0_col0\" class=\"data row0 col0\" >C:\\sta211-project</td>\n",
       "      <td id=\"T_c008f_row0_col1\" class=\"data row0 col1\" >✅</td>\n",
       "    </tr>\n",
       "    <tr>\n",
       "      <th id=\"T_c008f_level0_row1\" class=\"row_heading level0 row1\" >raw</th>\n",
       "      <td id=\"T_c008f_row1_col0\" class=\"data row1 col0\" >C:\\sta211-project\\data\\raw</td>\n",
       "      <td id=\"T_c008f_row1_col1\" class=\"data row1 col1\" >✅</td>\n",
       "    </tr>\n",
       "    <tr>\n",
       "      <th id=\"T_c008f_level0_row2\" class=\"row_heading level0 row2\" >processed</th>\n",
       "      <td id=\"T_c008f_row2_col0\" class=\"data row2 col0\" >C:\\sta211-project\\data\\processed</td>\n",
       "      <td id=\"T_c008f_row2_col1\" class=\"data row2 col1\" >✅</td>\n",
       "    </tr>\n",
       "    <tr>\n",
       "      <th id=\"T_c008f_level0_row3\" class=\"row_heading level0 row3\" >models</th>\n",
       "      <td id=\"T_c008f_row3_col0\" class=\"data row3 col0\" >C:\\sta211-project\\artifacts\\models</td>\n",
       "      <td id=\"T_c008f_row3_col1\" class=\"data row3 col1\" >✅</td>\n",
       "    </tr>\n",
       "    <tr>\n",
       "      <th id=\"T_c008f_level0_row4\" class=\"row_heading level0 row4\" >outputs</th>\n",
       "      <td id=\"T_c008f_row4_col0\" class=\"data row4 col0\" >C:\\sta211-project\\outputs</td>\n",
       "      <td id=\"T_c008f_row4_col1\" class=\"data row4 col1\" >✅</td>\n",
       "    </tr>\n",
       "    <tr>\n",
       "      <th id=\"T_c008f_level0_row5\" class=\"row_heading level0 row5\" >artifacts</th>\n",
       "      <td id=\"T_c008f_row5_col0\" class=\"data row5 col0\" >C:\\sta211-project\\artifacts</td>\n",
       "      <td id=\"T_c008f_row5_col1\" class=\"data row5 col1\" >✅</td>\n",
       "    </tr>\n",
       "  </tbody>\n",
       "</table>\n"
      ],
      "text/plain": [
       "<pandas.io.formats.style.Styler at 0x2125ec1ead0>"
      ]
     },
     "metadata": {},
     "output_type": "display_data"
    },
    {
     "name": "stdout",
     "output_type": "stream",
     "text": [
      "2025-08-16 18:19:39,157 - INFO - ✅ Initialisation complète réussie - Notebook 03 prêt !\n"
     ]
    }
   ],
   "source": [
    "import sys, os, logging\n",
    "from pathlib import Path\n",
    "\n",
    "# ── 0. Logger clair (avec Rich si dispo)\n",
    "try:\n",
    "    from rich.logging import RichHandler\n",
    "    logging.basicConfig(level=\"INFO\",\n",
    "                        format=\"%(message)s\",\n",
    "                        handlers=[RichHandler(rich_tracebacks=True, markup=True)],\n",
    "                        force=True)\n",
    "except ModuleNotFoundError:\n",
    "    logging.basicConfig(level=logging.INFO,\n",
    "                        format=\"%(asctime)s - %(levelname)s - %(message)s\",\n",
    "                        stream=sys.stdout,\n",
    "                        force=True)\n",
    "logger = logging.getLogger(__name__)\n",
    "\n",
    "# ── 1. Détection environnement Colab\n",
    "def _in_colab() -> bool:\n",
    "    try: import google.colab\n",
    "    except ImportError: return False\n",
    "    else: return True\n",
    "\n",
    "# ── 2. Montage Drive manuel rapide\n",
    "if _in_colab():\n",
    "    from google.colab import drive\n",
    "    if not Path(\"/content/drive/MyDrive/Colab Notebooks\").exists():\n",
    "        logger.info(\"🔗 Montage de Google Drive en cours…\")\n",
    "        drive.mount(\"/content/drive\", force_remount=False)\n",
    "\n",
    "# ── 3. Localisation racine projet STA211\n",
    "def find_project_root() -> Path:\n",
    "    env_path = os.getenv(\"STA211_PROJECT_PATH\")\n",
    "    if env_path and (Path(env_path) / \"modules\").exists():\n",
    "        return Path(env_path).expanduser().resolve()\n",
    "\n",
    "    # Chemin Colab correct\n",
    "    default_colab = Path(\"/content/drive/MyDrive/Colab Notebooks/projet_sta211_2025\")\n",
    "    if _in_colab() and (default_colab / \"modules\").exists():\n",
    "        return default_colab.resolve()\n",
    "\n",
    "    cwd = Path.cwd()\n",
    "    for p in [cwd, *cwd.parents]:\n",
    "        if (p / \"modules\").exists():\n",
    "            return p.resolve()\n",
    "\n",
    "    raise FileNotFoundError(\"❌ Impossible de localiser un dossier contenant 'modules/'.\")\n",
    "\n",
    "# ── 4. Définition racine + PYTHONPATH\n",
    "ROOT_DIR = find_project_root()\n",
    "os.environ[\"STA211_PROJECT_PATH\"] = str(ROOT_DIR)\n",
    "if str(ROOT_DIR) not in sys.path:\n",
    "    sys.path.insert(0, str(ROOT_DIR))\n",
    "logger.info(f\"📂 Racine projet détectée : {ROOT_DIR}\")\n",
    "logger.info(f\"PYTHONPATH ← {ROOT_DIR}\")\n",
    "\n",
    "# ── 5. Initialisation de la configuration projet\n",
    "from modules.config import cfg\n",
    "cats = ['noad.', 'ad.']\n",
    "LABEL_MAP = {0: \"noad.\", 1: \"ad.\"} \n",
    "\n",
    "\n",
    "# ── 6. Affichage des chemins configurés automatiquement\n",
    "def display_paths(style: bool = True):\n",
    "    import pandas as pd\n",
    "    paths_dict = {\n",
    "        \"root\": cfg.paths.root,\n",
    "        \"raw\": cfg.paths.raw,\n",
    "        \"processed\": cfg.paths.processed,\n",
    "        \"models\": cfg.paths.models,\n",
    "        \"outputs\": cfg.paths.outputs,\n",
    "        \"artifacts\": cfg.paths.artifacts\n",
    "    }\n",
    "    rows = [{\"Clé\": k, \"Chemin\": str(v)} for k, v in paths_dict.items()]\n",
    "    df = pd.DataFrame(rows).set_index(\"Clé\")\n",
    "\n",
    "    # Vérification existence\n",
    "    df[\"Existe\"] = [\n",
    "        \"✅\" if Path(v).exists() else \"❌\"\n",
    "        for v in paths_dict.values()\n",
    "    ]\n",
    "\n",
    "    from IPython.display import display\n",
    "    display(df.style.set_table_styles([\n",
    "        {\"selector\": \"th\", \"props\": [(\"text-align\", \"left\")]},\n",
    "        {\"selector\": \"td\", \"props\": [(\"text-align\", \"left\")]},\n",
    "    ]) if style else df)\n",
    "\n",
    "display_paths()\n",
    "logger.info(\"✅ Initialisation complète réussie - Notebook 03 prêt !\")"
   ]
  },
  {
   "cell_type": "markdown",
   "id": "c4a65713-f826-4a30-9cbf-66da6340b857",
   "metadata": {
    "id": "c4a65713-f826-4a30-9cbf-66da6340b857"
   },
   "source": [
    "# Chargement des bibliothèques"
   ]
  },
  {
   "cell_type": "code",
   "execution_count": 6,
   "id": "qWJ3Tu6uXSyb",
   "metadata": {
    "colab": {
     "base_uri": "https://localhost:8080/"
    },
    "id": "qWJ3Tu6uXSyb",
    "outputId": "724c5736-3455-4e67-f9f1-56239bbc39bf"
   },
   "outputs": [],
   "source": [
    "# %pip install imbalanced-learn --quiet\n",
    "# %pip install xgboost --quiet\n",
    "# %pip install shap --quiet"
   ]
  },
  {
   "cell_type": "code",
   "execution_count": 7,
   "id": "c5b61b44-880a-4003-ad3e-8fd89ea4258a",
   "metadata": {
    "colab": {
     "base_uri": "https://localhost:8080/",
     "height": 327
    },
    "executionInfo": {
     "elapsed": 1958,
     "status": "ok",
     "timestamp": 1753863549885,
     "user": {
      "displayName": "maoulida abdoullatuf",
      "userId": "05790302460507444417"
     },
     "user_tz": -120
    },
    "id": "c5b61b44-880a-4003-ad3e-8fd89ea4258a",
    "outputId": "227f77f0-fbc2-445f-b757-c588dc70f104"
   },
   "outputs": [
    {
     "name": "stdout",
     "output_type": "stream",
     "text": [
      "2025-08-16 18:19:40,963 - INFO - 📚 Bibliothèques importées avec succès\n"
     ]
    },
    {
     "data": {
      "text/markdown": [
       "✅ Versions des bibliothèques de modélisation\n",
       "- `pandas` : 2.2.2\n",
       "- `numpy` : 2.0.2\n",
       "- `scikit-learn` : 1.6.1\n",
       "- `imbalanced-learn` : 0.13.0\n",
       "- `xgboost` : 2.1.4\n",
       "- `matplotlib` : 3.10.0\n",
       "- `seaborn` : 0.13.2\n",
       "- `scipy` : 1.15.3\n",
       "- `tqdm` : 4.67.1\n",
       "- `ipython` : 8.37.0"
      ],
      "text/plain": [
       "<IPython.core.display.Markdown object>"
      ]
     },
     "metadata": {},
     "output_type": "display_data"
    },
    {
     "name": "stdout",
     "output_type": "stream",
     "text": [
      "2025-08-16 18:19:40,975 - INFO - ✅ Chargement des bibliothèques terminé\n"
     ]
    }
   ],
   "source": [
    "## 0.2 · Chargement des bibliothèques ──────────────────────────────────────────\n",
    "\n",
    "from IPython.display import Markdown, display\n",
    "\n",
    "# ⬇️ Imports directs des bibliothèques nécessaires\n",
    "try:\n",
    "  # Bibliothèques de base\n",
    "  import pandas as pd\n",
    "  import numpy as np\n",
    "  import matplotlib.pyplot as plt\n",
    "  import matplotlib\n",
    "  import seaborn as sns\n",
    "\n",
    "  # Scikit-learn et extensions\n",
    "  import sklearn\n",
    "  from sklearn.model_selection import train_test_split, GridSearchCV, cross_val_score\n",
    "  from sklearn.ensemble import RandomForestClassifier, GradientBoostingClassifier\n",
    "  from sklearn.linear_model import LogisticRegression\n",
    "  from sklearn.svm import SVC\n",
    "  from sklearn.neural_network import MLPClassifier\n",
    "  from sklearn.preprocessing import StandardScaler\n",
    "  from sklearn.metrics import (\n",
    "      classification_report, confusion_matrix, roc_auc_score,\n",
    "      precision_recall_curve, f1_score, precision_score, recall_score\n",
    "  )\n",
    "\n",
    "  # Imbalanced-learn pour le traitement du déséquilibre\n",
    "  import imblearn\n",
    "  from imblearn.over_sampling import BorderlineSMOTE\n",
    "  from imblearn.pipeline import Pipeline as ImbPipeline\n",
    "\n",
    "  # XGBoost\n",
    "  import xgboost as xgb\n",
    "  from xgboost import XGBClassifier\n",
    "\n",
    "  # ✅ SYSTÈME DE STOCKAGE UNIFIÉ - Plus besoin de joblib !\n",
    "  from modules.utils import load_artifact, save_artifact\n",
    "\n",
    "  # Utilitaires\n",
    "  import json\n",
    "  import warnings\n",
    "  from tqdm import tqdm\n",
    "  import scipy\n",
    "\n",
    "  # Configuration des warnings\n",
    "  warnings.filterwarnings('ignore', category=UserWarning)\n",
    "  warnings.filterwarnings('ignore', category=FutureWarning)\n",
    "\n",
    "  logger.info(\"📚 Bibliothèques importées avec succès\")\n",
    "\n",
    "except ImportError as e:\n",
    "  logger.error(f\"❌ Erreur d'importation : {e}\")\n",
    "  raise\n",
    "\n",
    "# ───────────────────────────────────────────────────────────────────────────\n",
    "# ✅ Affichage des versions principales\n",
    "# ───────────────────────────────────────────────────────────────────────────\n",
    "\n",
    "def _safe_version(mod, fallback=\"—\"):\n",
    "    \"\"\"Retourne mod.__version__ ou un fallback si le module est absent.\"\"\"\n",
    "    try:\n",
    "        return mod.__version__\n",
    "    except Exception:\n",
    "        return fallback\n",
    "\n",
    "def display_modeling_library_versions():\n",
    "    mods = {\n",
    "        \"pandas\"           : pd,\n",
    "        \"numpy\"            : np,\n",
    "        \"scikit-learn\"     : sklearn,\n",
    "        \"imbalanced-learn\" : imblearn,\n",
    "        \"xgboost\"          : xgb,\n",
    "        \"matplotlib\"       : matplotlib,\n",
    "        \"seaborn\"          : sns,\n",
    "        \"scipy\"            : scipy,\n",
    "        \"tqdm\"             : __import__(\"tqdm\"),\n",
    "        \"ipython\"          : __import__(\"IPython\")\n",
    "    }\n",
    "    versions_md = \"\\n\".join(f\"- `{k}` : {_safe_version(v)}\" for k, v in mods.items())\n",
    "    display(Markdown(f\"✅ Versions des bibliothèques de modélisation\\n{versions_md}\"))\n",
    "\n",
    "display_modeling_library_versions()\n",
    "logger.info(\"✅ Chargement des bibliothèques terminé\")"
   ]
  },
  {
   "cell_type": "code",
   "execution_count": 8,
   "id": "5MtaoHaQ5XgY",
   "metadata": {
    "colab": {
     "base_uri": "https://localhost:8080/"
    },
    "executionInfo": {
     "elapsed": 8350,
     "status": "ok",
     "timestamp": 1753863570634,
     "user": {
      "displayName": "maoulida abdoullatuf",
      "userId": "05790302460507444417"
     },
     "user_tz": -120
    },
    "id": "5MtaoHaQ5XgY",
    "outputId": "27bcf130-46c3-416f-b9c5-89e4b77dba47"
   },
   "outputs": [],
   "source": [
    "#!pip install scikit-optimize --quiet"
   ]
  },
  {
   "cell_type": "code",
   "execution_count": 9,
   "id": "945a1551-e00b-43f0-9f89-37fbb5ed2fdb",
   "metadata": {
    "colab": {
     "base_uri": "https://localhost:8080/"
    },
    "executionInfo": {
     "elapsed": 63,
     "status": "ok",
     "timestamp": 1753863575843,
     "user": {
      "displayName": "maoulida abdoullatuf",
      "userId": "05790302460507444417"
     },
     "user_tz": -120
    },
    "id": "945a1551-e00b-43f0-9f89-37fbb5ed2fdb",
    "outputId": "b9527859-4d73-4161-b651-dc818f89145d"
   },
   "outputs": [
    {
     "name": "stdout",
     "output_type": "stream",
     "text": [
      "✅ Imports complémentaires chargés avec succès\n"
     ]
    }
   ],
   "source": [
    "# Imports pour la section etudes des variables importantes\n",
    "try:\n",
    "    from sklearn.inspection import permutation_importance\n",
    "    from sklearn.feature_selection import RFECV, SelectKBest, f_classif\n",
    "    from sklearn.metrics import roc_auc_score\n",
    "    from skopt import BayesSearchCV\n",
    "    from skopt.space import Real, Integer\n",
    "    print(\"✅ Imports complémentaires chargés avec succès\")\n",
    "except ImportError as e:\n",
    "    print(f\"⚠️ Erreur d'import : {e}\")\n",
    "    print(\"Installez les dépendances manquantes avec:\")\n",
    "    print(\"pip install scikit-optimize\")"
   ]
  },
  {
   "cell_type": "markdown",
   "id": "lx4l3v789b",
   "metadata": {},
   "source": [
    "## Test de la nouvelle fonction load_stacking_data()\n",
    "\n",
    "Testons la nouvelle fonction `load_stacking_data()` du module `ensembles.py` qui utilise le système unifié `load_artifact` pour un chargement optimisé et sélectionnons les 4 champions FULL pour le stacking."
   ]
  },
  {
   "cell_type": "markdown",
   "id": "79bf6129",
   "metadata": {
    "id": "79bf6129"
   },
   "source": [
    "\n",
    "# Stacking optimisé\n",
    "\n",
    "Le stacking combine plusieurs modèles de base (RandomForest, SVM, XGBoost, ...) en un modèle d'ensemble avec un méta-modèle (Logistic Regression) entraîné sur leurs prédictions croisées.\n"
   ]
  },
  {
   "cell_type": "markdown",
   "id": "bd216999-7cfc-4781-a017-145005720c4a",
   "metadata": {
    "id": "bd216999-7cfc-4781-a017-145005720c4a"
   },
   "source": [
    "## Chargement des artefacts du Notebook 02"
   ]
  },
  {
   "cell_type": "code",
   "execution_count": 13,
   "id": "2nYzyMig8-TP",
   "metadata": {
    "colab": {
     "base_uri": "https://localhost:8080/"
    },
    "executionInfo": {
     "elapsed": 24662,
     "status": "ok",
     "timestamp": 1753863606370,
     "user": {
      "displayName": "maoulida abdoullatuf",
      "userId": "05790302460507444417"
     },
     "user_tz": -120
    },
    "id": "2nYzyMig8-TP",
    "outputId": "401779a4-0b37-4def-a81a-21c2204c75ae"
   },
   "outputs": [
    {
     "name": "stdout",
     "output_type": "stream",
     "text": [
      "📦 Chargement des artefacts du Notebook 02...\n",
      "✅ Métriques chargées : 20 modèles\n",
      "✅ Chemins knn_full : 5 modèles\n",
      "✅ Chemins knn_reduced : 5 modèles\n",
      "✅ Chemins mice_full : 5 modèles\n",
      "✅ Chemins mice_reduced : 5 modèles\n",
      "\n",
      "📊 RÉSUMÉ DU CHARGEMENT :\n",
      "  • Seuils : 20 ✅\n",
      "  • Pipelines : 20 ✅\n",
      "  • Configurations : 4 ✅\n",
      "🚀 Prêt pour le stacking !\n"
     ]
    }
   ],
   "source": [
    "# === CHARGEMENT MANUEL DES ARTEFACTS DU NOTEBOOK 02 ===\n",
    "from modules.utils import load_artifact\n",
    "import pandas as pd\n",
    "\n",
    "print(\"📦 Chargement des artefacts du Notebook 02...\")\n",
    "\n",
    "# ✅ 1. Chargement du tableau des seuils (bon répertoire)\n",
    "df_all_thr = pd.read_csv(cfg.paths.artifacts / \"models\" / \"df_all_thresholds.csv\")\n",
    "print(f\"✅ Métriques chargées : {len(df_all_thr)} modèles\")\n",
    "\n",
    "# ✅ 2. Récupération des chemins des pipelines depuis les fichiers JSON\n",
    "models_dir = cfg.paths.models / \"notebook2\"\n",
    "pipeline_paths = {}\n",
    "\n",
    "for method in [\"knn\", \"mice\"]:\n",
    "  for version in [\"full\", \"reduced\"]:\n",
    "      key = f\"{method}_{version}\"\n",
    "      json_file = f\"best_{key}_pipelines.json\"\n",
    "      try:\n",
    "          paths_dict = load_artifact(json_file, models_dir)\n",
    "          pipeline_paths[key] = paths_dict\n",
    "          print(f\"✅ Chemins {key} : {len(paths_dict)} modèles\")\n",
    "      except Exception as e:\n",
    "          print(f\"❌ Erreur {key} : {e}\")\n",
    "\n",
    "# ✅ 3. Tentative de chargement des pipelines\n",
    "all_optimized_pipelines = {}\n",
    "total_loaded = 0\n",
    "\n",
    "for key, paths_dict in pipeline_paths.items():\n",
    "  all_optimized_pipelines[key] = {}\n",
    "  for model_name, path_str in paths_dict.items():\n",
    "      try:\n",
    "          # Extraire le nom de fichier du chemin\n",
    "          filename = Path(path_str).name\n",
    "          pipeline = load_artifact(filename, models_dir)\n",
    "          all_optimized_pipelines[key][model_name] = pipeline\n",
    "          total_loaded += 1\n",
    "      except Exception as e:\n",
    "          print(f\"⚠️ Pipeline {model_name} ({key}) non trouvé : {e}\")\n",
    "\n",
    "print(f\"\\n📊 RÉSUMÉ DU CHARGEMENT :\")\n",
    "print(f\"  • Seuils : {len(df_all_thr)} ✅\")\n",
    "print(f\"  • Pipelines : {total_loaded} ✅\")\n",
    "print(f\"  • Configurations : {len(pipeline_paths)} ✅\")\n",
    "\n",
    "if total_loaded > 0:\n",
    "  print(\"🚀 Prêt pour le stacking !\")\n",
    "else:\n",
    "  print(\"⚠️ Aucun pipeline chargé - vérification nécessaire\")"
   ]
  },
  {
   "cell_type": "code",
   "execution_count": 14,
   "id": "q9El-mrOpUBV",
   "metadata": {
    "colab": {
     "base_uri": "https://localhost:8080/"
    },
    "executionInfo": {
     "elapsed": 24,
     "status": "ok",
     "timestamp": 1753863612458,
     "user": {
      "displayName": "maoulida abdoullatuf",
      "userId": "05790302460507444417"
     },
     "user_tz": -120
    },
    "id": "q9El-mrOpUBV",
    "outputId": "5137e410-e906-4764-ccf7-b43c57beadcf"
   },
   "outputs": [
    {
     "name": "stdout",
     "output_type": "stream",
     "text": [
      "============================================================\n",
      "2025-08-16 18:19:42,215 - INFO - 📦 Chargement optimisé des données pour le stacking...\n",
      "2025-08-16 18:19:42,217 - INFO - 📊 Chargement des splits KNN et MICE...\n",
      "2025-08-16 18:19:42,250 - INFO - ✅ KNN splits chargés : (1475, 660)\n",
      "2025-08-16 18:19:42,282 - INFO - ✅ MICE splits chargés : (1475, 660)\n",
      "2025-08-16 18:19:42,282 - INFO - 🔧 Chargement des pipelines optimisés...\n",
      "2025-08-16 18:19:43,075 - INFO - ✅ 20 pipelines chargés\n",
      "2025-08-16 18:19:43,078 - INFO - 📈 Chargement des métriques...\n",
      "2025-08-16 18:19:43,083 - INFO - ✅ Métriques chargées : 20 modèles\n",
      "2025-08-16 18:19:43,083 - INFO - 🔍 Extraction des features...\n",
      "2025-08-16 18:19:43,083 - INFO - ✅ Features extraites : KNN(660), MICE(660)\n",
      "2025-08-16 18:19:43,083 - INFO - 🚀 Chargement terminé pour le stacking\n",
      "2025-08-16 18:19:43,088 - INFO -    • Splits : 2 méthodes\n",
      "2025-08-16 18:19:43,089 - INFO -    • Pipelines : 20 modèles\n",
      "2025-08-16 18:19:43,090 - INFO -    • Métriques : 20 entrées\n",
      "\n",
      "✅ CHARGEMENT RÉUSSI !\n",
      "📊 Splits : 2 méthodes\n",
      "🔧 Pipelines : 20 modèles\n",
      "📈 Métriques : 20 entrées\n",
      "🔍 Features : KNN(660), MICE(660)\n",
      "\n",
      "🏆 SÉLECTION DES 4 CHAMPIONS FULL :\n",
      "==================================================\n",
      "2025-08-16 18:19:43,090 - INFO - 🏆 Sélection des 4 champions FULL\n",
      "2025-08-16 18:19:43,093 - INFO - ✅ 4 champions sélectionnés\n",
      "2025-08-16 18:19:43,096 - INFO -    • XGBoost_knn_FULL: F1=0.9385\n",
      "2025-08-16 18:19:43,097 - INFO -    • GradBoost_mice_FULL: F1=0.9313\n",
      "2025-08-16 18:19:43,099 - INFO -    • XGBoost_mice_FULL: F1=0.9242\n",
      "2025-08-16 18:19:43,101 - INFO -    • RandForest_knn_FULL: F1=0.9173\n",
      "2025-08-16 18:19:43,103 - INFO - 🎯 4 pipelines champions récupérés\n",
      "\n",
      "📊 DÉTAILS DES CHAMPIONS :\n",
      "     model Imputation Version     f1  precision  recall\n",
      "   XGBoost        KNN    FULL 0.9385     1.0000  0.8841\n",
      " GradBoost       MICE    FULL 0.9313     0.9839  0.8841\n",
      "   XGBoost       MICE    FULL 0.9242     0.9683  0.8841\n",
      "RandForest        KNN    FULL 0.9173     0.9531  0.8841\n",
      "\n",
      "🔍 VÉRIFICATION COMPATIBILITÉ :\n",
      "   • Features KNN : 660\n",
      "   • Features MICE : 660\n",
      "   • Compatible : ✅ OUI\n",
      "\n",
      "🎯 CHAMPIONS PRÊTS POUR STACKING :\n",
      "   • Nombre de modèles : 4\n",
      "   • Modèles : ['XGBoost_knn_FULL', 'GradBoost_mice_FULL', 'XGBoost_mice_FULL', 'RandForest_knn_FULL']\n",
      "\n",
      "✅ Variables créées pour la suite du notebook\n"
     ]
    }
   ],
   "source": [
    "# Test de la nouvelle fonction load_stacking_data()\n",
    "from modules.ensembles import load_stacking_data, select_champion_models\n",
    "\n",
    "print(\"=\" * 60)\n",
    "\n",
    "try:\n",
    "  # Chargement avec la nouvelle fonction\n",
    "  splits_new, pipelines_new, metrics_df_new, features_new = load_stacking_data()\n",
    "\n",
    "  print(\"\\n✅ CHARGEMENT RÉUSSI !\")\n",
    "  print(f\"📊 Splits : {len(splits_new)} méthodes\")\n",
    "  print(f\"🔧 Pipelines : {sum(len(v) for v in pipelines_new.values())} modèles\")\n",
    "  print(f\"📈 Métriques : {len(metrics_df_new)} entrées\")\n",
    "  print(f\"🔍 Features : KNN({len(features_new.get('knn', []))}), MICE({len(features_new.get('mice', []))})\")\n",
    "\n",
    "  # Sélection des 4 champions FULL\n",
    "  print(\"\\n🏆 SÉLECTION DES 4 CHAMPIONS FULL :\")\n",
    "  print(\"=\" * 50)\n",
    "\n",
    "  champion_pipelines, champions_df = select_champion_models(\n",
    "      metrics_df_new, pipelines_new, version=\"FULL\", top_n=4\n",
    "  )\n",
    "\n",
    "  print(f\"\\n📊 DÉTAILS DES CHAMPIONS :\")\n",
    "  print(champions_df[['model', 'Imputation', 'Version', 'f1', 'precision', 'recall']].to_string(index=False))\n",
    "\n",
    "  # Vérification de la compatibilité des features\n",
    "  knn_features = len(features_new['knn'])\n",
    "  mice_features = len(features_new['mice'])\n",
    "\n",
    "  print(f\"\\n🔍 VÉRIFICATION COMPATIBILITÉ :\")\n",
    "  print(f\"   • Features KNN : {knn_features}\")\n",
    "  print(f\"   • Features MICE : {mice_features}\")\n",
    "  print(f\"   • Compatible : {'✅ OUI' if knn_features == mice_features == 660 else '❌ NON'}\")\n",
    "\n",
    "  print(f\"\\n🎯 CHAMPIONS PRÊTS POUR STACKING :\")\n",
    "  print(f\"   • Nombre de modèles : {len(champion_pipelines)}\")\n",
    "  print(f\"   • Modèles : {list(champion_pipelines.keys())}\")\n",
    "\n",
    "  # Variables pour la suite\n",
    "  globals()['splits_clean'] = splits_new\n",
    "  globals()['pipelines_clean'] = pipelines_new\n",
    "  globals()['metrics_clean'] = metrics_df_new\n",
    "  globals()['features_clean'] = features_new\n",
    "  globals()['champions_full'] = champion_pipelines\n",
    "  globals()['champions_df'] = champions_df\n",
    "\n",
    "  print(f\"\\n✅ Variables créées pour la suite du notebook\")\n",
    "\n",
    "except Exception as e:\n",
    "  print(f\"❌ ERREUR : {e}\")\n",
    "  import traceback\n",
    "  traceback.print_exc()"
   ]
  },
  {
   "cell_type": "code",
   "execution_count": 15,
   "id": "d3d895a6-5c89-4980-b814-aabd208102f8",
   "metadata": {},
   "outputs": [
    {
     "name": "stdout",
     "output_type": "stream",
     "text": [
      "🥞 IMPLÉMENTATION DU STACKING AVEC LES 4 CHAMPIONS\n",
      "============================================================\n",
      " Données de stacking :\n",
      "   • Train KNN : (1475, 660)\n",
      "   • Validation KNN : (492, 660)\n",
      "   • Test KNN: (492, 660)\n",
      "   • Train MICE : (1475, 660)\n",
      "   • Validation MICE : (492, 660)\n",
      "   • Test MICE: (492, 660)\n"
     ]
    }
   ],
   "source": [
    "# Implémentation du StackingClassifier avec les 4 champions FULL\n",
    "from modules.ensembles import create_stacking_ensemble\n",
    "from sklearn.model_selection import cross_val_score\n",
    "from sklearn.metrics import f1_score, classification_report\n",
    "\n",
    "print(\"🥞 IMPLÉMENTATION DU STACKING AVEC LES 4 CHAMPIONS\")\n",
    "print(\"=\" * 60)\n",
    "\n",
    "# Préparation des données pour le stacking\n",
    "\n",
    "X_train_knn = splits_clean['knn']['X_train']\n",
    "y_train_knn = splits_clean['knn']['y_train']\n",
    "X_val_knn = splits_clean['knn']['X_val']\n",
    "y_val_knn = splits_clean['knn']['y_val']\n",
    "X_test_knn = splits_clean['knn']['X_test']\n",
    "y_test_knn = splits_clean['knn']['y_test']\n",
    "\n",
    "X_train_mice = splits_clean['mice']['X_train']\n",
    "y_train_mice = splits_clean['mice']['y_train']\n",
    "X_val_mice = splits_clean['mice']['X_val']\n",
    "y_val_mice = splits_clean['mice']['y_val']\n",
    "X_test_mice = splits_clean['mice']['X_test']\n",
    "y_test_mice = splits_clean['mice']['y_test']\n",
    "\n",
    "print(\" Données de stacking :\")\n",
    "print(f\"   • Train KNN : {X_train_knn.shape}\")\n",
    "print(f\"   • Validation KNN : {X_val_knn.shape}\")\n",
    "print(f\"   • Test KNN: {X_test_knn.shape}\")\n",
    "\n",
    "print(f\"   • Train MICE : {X_train_mice.shape}\")\n",
    "print(f\"   • Validation MICE : {X_val_mice.shape}\")\n",
    "print(f\"   • Test MICE: {X_test_mice.shape}\")\n"
   ]
  },
  {
   "cell_type": "markdown",
   "id": "069fe6d3-536d-40dd-bc62-c953fcf7d0b1",
   "metadata": {
    "id": "069fe6d3-536d-40dd-bc62-c953fcf7d0b1"
   },
   "source": [
    "## Stacking Avec Refit et Optimisation du Seuil"
   ]
  },
  {
   "cell_type": "code",
   "execution_count": 17,
   "id": "nMk9_7ONdJr-",
   "metadata": {
    "colab": {
     "base_uri": "https://localhost:8080/"
    },
    "executionInfo": {
     "elapsed": 8020,
     "status": "ok",
     "timestamp": 1753864665960,
     "user": {
      "displayName": "maoulida abdoullatuf",
      "userId": "05790302460507444417"
     },
     "user_tz": -120
    },
    "id": "nMk9_7ONdJr-",
    "outputId": "4c9fc107-1d94-4b1e-ea44-b6d6645ca9d5"
   },
   "outputs": [
    {
     "name": "stdout",
     "output_type": "stream",
     "text": [
      "2025-08-16 18:19:43,817 - INFO - Démarrage du Stacking avec Refit - KNN\n",
      "================================================================================\n",
      "CRÉATION DES MODÈLES DE STACKING - KNN\n",
      "================================================================================\n",
      "\n",
      "Traitement KNN...\n",
      "--------------------------------------------------\n",
      "gradboost_knn: 6 paramètres chargés\n",
      "mlp_knn: 5 paramètres chargés\n",
      "randforest_knn: 5 paramètres chargés\n",
      "svm_knn: 4 paramètres chargés\n",
      "xgboost_knn: 8 paramètres chargés\n",
      "Tous les paramètres knn chargés !\n",
      "Tous les modèles knn créés avec succès !\n",
      "Stacking classifier knn créé avec succès !\n",
      "STACKING KNN PRÊT !\n",
      "2025-08-16 18:19:43,822 - INFO - Modèle Stacking KNN créé.\n",
      "2025-08-16 18:20:17,632 - INFO - Modèle Stacking KNN entraîné.\n",
      "2025-08-16 18:20:19,433 - INFO - Seuil optimal KNN: 0.200\n",
      "2025-08-16 18:20:20,942 - INFO - Démarrage du Stacking avec Refit - MICE\n",
      "================================================================================\n",
      "CRÉATION DES MODÈLES DE STACKING - MICE\n",
      "================================================================================\n",
      "\n",
      "Traitement MICE...\n",
      "--------------------------------------------------\n",
      "gradboost_mice: 6 paramètres chargés\n",
      "mlp_mice: 5 paramètres chargés\n",
      "randforest_mice: 5 paramètres chargés\n",
      "svm_mice: 4 paramètres chargés\n",
      "xgboost_mice: 8 paramètres chargés\n",
      "Tous les paramètres mice chargés !\n",
      "Tous les modèles mice créés avec succès !\n",
      "Stacking classifier mice créé avec succès !\n",
      "STACKING MICE PRÊT !\n",
      "2025-08-16 18:20:20,950 - INFO - Modèle Stacking MICE créé.\n",
      "2025-08-16 18:20:59,266 - INFO - Modèle Stacking MICE entraîné.\n",
      "2025-08-16 18:21:00,945 - INFO - Seuil optimal MICE: 0.260\n",
      "\n",
      " Ré-optimisation des seuils pour la visualisation...\n",
      "🎯 Optimisation des seuils avec modèles pré-entraînés\n",
      "============================================================\n",
      "\n",
      "--- Optimisation pour KNN ---\n",
      "✅ Seuil optimal : 0.200\n",
      "   F1-score : 0.9254\n",
      "   Précision : 0.9538\n",
      "   Rappel : 0.8986\n",
      "\n",
      "--- Optimisation pour MICE ---\n",
      "✅ Seuil optimal : 0.260\n",
      "   F1-score : 0.9313\n",
      "   Précision : 0.9839\n",
      "   Rappel : 0.8841\n",
      "Ré-optimisation des seuils pour la visualisation...\n",
      "🎯 Optimisation des seuils avec modèles pré-entraînés\n",
      "============================================================\n",
      "\n",
      "--- Optimisation pour KNN ---\n",
      "✅ Seuil optimal : 0.200\n",
      "   F1-score : 0.9254\n",
      "   Précision : 0.9538\n",
      "   Rappel : 0.8986\n",
      "\n",
      "--- Optimisation pour MICE ---\n",
      "✅ Seuil optimal : 0.260\n",
      "   F1-score : 0.9313\n",
      "   Précision : 0.9839\n",
      "   Rappel : 0.8841\n",
      "Ré-optimisation terminée.\n"
     ]
    }
   ],
   "source": [
    "from modules.modeling import run_stacking_with_refit\n",
    "\n",
    "\n",
    "# Pour le modèle KNN\n",
    "results_knn_dict = run_stacking_with_refit(\n",
    "    X_train_knn, y_train_knn, X_val_knn, y_val_knn, X_test_knn, y_test_knn,\n",
    "    imputation_method='knn',\n",
    "    models_dir=cfg.paths.models,\n",
    "    output_dir=cfg.paths.models / \"notebook3\" / \"stacking\",\n",
    "    # La fonction déduira automatiquement la clé 'stacking_classifier_knn'\n",
    "    # mais on peut la spécifier si on prefere:\n",
    "    stacking_model_key='stacking_classifier_knn'\n",
    ")\n",
    "\n",
    "# Pour le modèle MICE\n",
    "results_mice_dict = run_stacking_with_refit(\n",
    "    X_train_mice, y_train_mice, X_val_mice, y_val_mice, X_test_mice, y_test_mice,\n",
    "    imputation_method='mice',\n",
    "    models_dir=cfg.paths.models,\n",
    "    output_dir=cfg.paths.models / \"notebook3\" / \"stacking\",\n",
    "    # La fonction déduira automatiquement la clé 'stacking_classifier_mice'\n",
    "    stacking_model_key='stacking_classifier_mice'\n",
    ")\n",
    "\n",
    "\n",
    "# 2. Accéder aux modèles entraînés à partir des résultats\n",
    "trained_stacking_knn = results_knn_dict['model']\n",
    "trained_stacking_mice = results_mice_dict['model']\n",
    "\n",
    "# 3. Ré-optimiser les seuils en utilisant les modèles déjà entraînés\n",
    "# et obtenir le dictionnaire 'results' au format requis\n",
    "from modules.modeling import optimize_stacking_thresholds_with_trained_models\n",
    "\n",
    "print(\"\\n Ré-optimisation des seuils pour la visualisation...\")\n",
    "optimization_results = optimize_stacking_thresholds_with_trained_models(\n",
    "    stacking_knn=trained_stacking_knn, # Modèle KNN entraîné\n",
    "    stacking_mice=trained_stacking_mice, # Modèle MICE entraîné\n",
    "    X_val_knn=X_val_knn,\n",
    "    y_val_knn=y_val_knn,\n",
    "    X_val_mice=X_val_mice,\n",
    "    y_val_mice=y_val_mice,\n",
    "    verbose=True\n",
    ")\n",
    "print(\"Ré-optimisation des seuils pour la visualisation...\")\n",
    "optimization_results = optimize_stacking_thresholds_with_trained_models(\n",
    "    stacking_knn=trained_stacking_knn, # Modèle KNN entraîné\n",
    "    stacking_mice=trained_stacking_mice, # Modèle MICE entraîné\n",
    "    X_val_knn=X_val_knn,\n",
    "    y_val_knn=y_val_knn,\n",
    "    X_val_mice=X_val_mice,\n",
    "    y_val_mice=y_val_mice,\n",
    "    verbose=True\n",
    ")\n",
    "print(\"Ré-optimisation terminée.\")"
   ]
  },
  {
   "cell_type": "code",
   "execution_count": 18,
   "id": "VeIfKG0zoLbx",
   "metadata": {
    "colab": {
     "base_uri": "https://localhost:8080/",
     "height": 1000
    },
    "id": "VeIfKG0zoLbx",
    "outputId": "de40ecdc-edcb-40ea-ff5f-92cd37477f9d"
   },
   "outputs": [
    {
     "name": "stdout",
     "output_type": "stream",
     "text": [
      "\n",
      "--- Matrice de Confusion - Stacking avec Refit KNN ---\n",
      "[[422   1]\n",
      " [ 12  57]]\n",
      "\n",
      "--- Rapport de Classification - Stacking avec Refit KNN ---\n",
      "              precision    recall  f1-score   support\n",
      "\n",
      "           0       0.97      1.00      0.98       423\n",
      "           1       0.98      0.83      0.90        69\n",
      "\n",
      "    accuracy                           0.97       492\n",
      "   macro avg       0.98      0.91      0.94       492\n",
      "weighted avg       0.97      0.97      0.97       492\n",
      "\n"
     ]
    },
    {
     "data": {
      "image/png": "[encoded data removed]",
      "text/plain": [
       "<Figure size 600x500 with 2 Axes>"
      ]
     },
     "metadata": {},
     "output_type": "display_data"
    },
    {
     "name": "stdout",
     "output_type": "stream",
     "text": [
      "\n",
      "--- Métriques Test (Seuil Optimal 0.200) - Stacking avec Refit KNN ---\n",
      "F1-score (test): 0.8976\n",
      "Précision (test): 0.9828\n",
      "Rappel (test): 0.8261\n",
      "\n",
      "--- Matrice de Confusion - Stacking avec Refit MICE ---\n",
      "[[423   0]\n",
      " [ 13  56]]\n",
      "\n",
      "--- Rapport de Classification - Stacking avec Refit MICE ---\n",
      "              precision    recall  f1-score   support\n",
      "\n",
      "           0       0.97      1.00      0.98       423\n",
      "           1       1.00      0.81      0.90        69\n",
      "\n",
      "    accuracy                           0.97       492\n",
      "   macro avg       0.99      0.91      0.94       492\n",
      "weighted avg       0.97      0.97      0.97       492\n",
      "\n"
     ]
    },
    {
     "data": {
      "image/png": "[encoded data removed]",
      "text/plain": [
       "<Figure size 600x500 with 2 Axes>"
      ]
     },
     "metadata": {},
     "output_type": "display_data"
    },
    {
     "name": "stdout",
     "output_type": "stream",
     "text": [
      "\n",
      "--- Métriques Test (Seuil Optimal 0.260) - Stacking avec Refit MICE ---\n",
      "F1-score (test): 0.8960\n",
      "Précision (test): 1.0000\n",
      "Rappel (test): 0.8116\n"
     ]
    }
   ],
   "source": [
    "from modules.modeling import analyze_model_performance\n",
    "\n",
    "# Pour KNN\n",
    "analyze_model_performance(results_knn_dict, X_test_knn, y_test_knn, \"Stacking avec Refit KNN\")\n",
    "\n",
    "# Pour MICE\n",
    "analyze_model_performance(results_mice_dict, X_test_mice, y_test_mice, \"Stacking avec Refit MICE\")"
   ]
  },
  {
   "cell_type": "code",
   "execution_count": 19,
   "id": "a7489080-796f-4f6d-869a-8a18649ecd91",
   "metadata": {},
   "outputs": [
    {
     "name": "stdout",
     "output_type": "stream",
     "text": [
      "🏆 VALIDATION FINALE - STACKING vs CHAMPION INDIVIDUEL\n",
      "============================================================\n",
      "📊 PERFORMANCES SUR LE JEU DE TEST :\n",
      "----------------------------------------\n",
      "✅ STACKING KNN (seuil=0.20) :\n",
      "   F1-Score  : 0.8976\n",
      "   Précision : 0.9828\n",
      "   Rappel    : 0.8261\n",
      "\n",
      "✅ STACKING MICE (seuil=0.26) :\n",
      "   F1-Score  : 0.8960\n",
      "   Précision : 1.0000\n",
      "   Rappel    : 0.8116\n",
      "\n",
      "🏆 COMPARAISON FINALE :\n",
      "==============================\n",
      "🥇 XGBoost KNN individuel : F1 = 0.9385\n",
      "🥈 Stacking MICE optimisé : F1 = 0.8960\n",
      "🥉 Stacking KNN optimisé  : F1 = 0.8976\n",
      "\n",
      "🏆 CHAMPION MAINTENU : XGBoost KNN (F1 = 0.9385)\n",
      "\n",
      "📈 ANALYSE DES PERFORMANCES :\n",
      "-----------------------------------\n",
      "• Objectif initial F1 > 0.92 : ✅ LARGEMENT DÉPASSÉ\n",
      "• Stacking MICE atteint : 0.8960 (-2.6%)\n",
      "• Stacking KNN atteint : 0.8976 (-2.4%)\n",
      "• Champion XGBoost : 0.9385 (+2.0%)\n",
      "\n",
      "💡 RECOMMANDATION FINALE MISE À JOUR :\n",
      "========================================\n",
      "🏆 RECOMMANDATION : XGBoost KNN FULL\n",
      "   • Performance de référence : F1 = 0.9385\n",
      "   • Plus simple et stable\n",
      "   • Alternative : Stacking MICE (F1 = 0.8960)\n",
      "\n",
      "💾 Résultats finaux sauvegardés dans 'final_stacking_results'\n",
      "🚀 Analyse complète terminée !\n"
     ]
    }
   ],
   "source": [
    "# VALIDATION FINALE DES PERFORMANCES SUR LE TEST\n",
    "print(\"🏆 VALIDATION FINALE - STACKING vs CHAMPION INDIVIDUEL\")\n",
    "print(\"=\" * 60)\n",
    "\n",
    "# Test des modèles de stacking sur le jeu de test\n",
    "print(\"📊 PERFORMANCES SUR LE JEU DE TEST :\")\n",
    "print(\"-\" * 40)\n",
    "\n",
    "# Stacking KNN sur test\n",
    "y_test_pred_stacking_knn = trained_stacking_knn.predict(X_test_knn)\n",
    "y_test_proba_stacking_knn = trained_stacking_knn.predict_proba(X_test_knn)[:, 1]\n",
    "\n",
    "# Application du seuil optimal (0.20)\n",
    "y_test_pred_knn_optimized = (y_test_proba_stacking_knn >= 0.20).astype(int)\n",
    "knn_f1_test = f1_score(y_test_knn, y_test_pred_knn_optimized)\n",
    "knn_precision_test = precision_score(y_test_knn, y_test_pred_knn_optimized)\n",
    "knn_recall_test = recall_score(y_test_knn, y_test_pred_knn_optimized)\n",
    "\n",
    "print(f\"✅ STACKING KNN (seuil=0.20) :\")\n",
    "print(f\"   F1-Score  : {knn_f1_test:.4f}\")\n",
    "print(f\"   Précision : {knn_precision_test:.4f}\")\n",
    "print(f\"   Rappel    : {knn_recall_test:.4f}\")\n",
    "\n",
    "# Stacking MICE sur test\n",
    "y_test_pred_stacking_mice = trained_stacking_mice.predict(X_test_mice)\n",
    "y_test_proba_stacking_mice = trained_stacking_mice.predict_proba(X_test_mice)[:, 1]\n",
    "\n",
    "# Application du seuil optimal (0.26)\n",
    "y_test_pred_mice_optimized = (y_test_proba_stacking_mice >= 0.26).astype(int)\n",
    "mice_f1_test = f1_score(y_test_mice, y_test_pred_mice_optimized)\n",
    "mice_precision_test = precision_score(y_test_mice, y_test_pred_mice_optimized)\n",
    "mice_recall_test = recall_score(y_test_mice, y_test_pred_mice_optimized)\n",
    "\n",
    "print(f\"\\n✅ STACKING MICE (seuil=0.26) :\")\n",
    "print(f\"   F1-Score  : {mice_f1_test:.4f}\")\n",
    "print(f\"   Précision : {mice_precision_test:.4f}\")\n",
    "print(f\"   Rappel    : {mice_recall_test:.4f}\")\n",
    "\n",
    "# Comparaison avec champion individuel\n",
    "print(f\"\\n🏆 COMPARAISON FINALE :\")\n",
    "print(\"=\" * 30)\n",
    "print(f\"🥇 XGBoost KNN individuel : F1 = 0.9385\")\n",
    "print(f\"🥈 Stacking MICE optimisé : F1 = {mice_f1_test:.4f}\")\n",
    "print(f\"🥉 Stacking KNN optimisé  : F1 = {knn_f1_test:.4f}\")\n",
    "\n",
    "# Déterminer le nouveau champion\n",
    "best_f1 = max(0.9385, mice_f1_test, knn_f1_test)\n",
    "if best_f1 == mice_f1_test and mice_f1_test > 0.9385:\n",
    "  champion = \"Stacking MICE\"\n",
    "  print(f\"\\n🎉 NOUVEAU CHAMPION : Stacking MICE (F1 = {mice_f1_test:.4f})\")\n",
    "elif best_f1 == knn_f1_test and knn_f1_test > 0.9385:\n",
    "  champion = \"Stacking KNN\"\n",
    "  print(f\"\\n🎉 NOUVEAU CHAMPION : Stacking KNN (F1 = {knn_f1_test:.4f})\")\n",
    "else:\n",
    "  champion = \"XGBoost KNN\"\n",
    "  print(f\"\\n🏆 CHAMPION MAINTENU : XGBoost KNN (F1 = 0.9385)\")\n",
    "\n",
    "  # Analyser la proximité\n",
    "  mice_diff = 0.9385 - mice_f1_test\n",
    "  knn_diff = 0.9385 - knn_f1_test\n",
    "\n",
    "  if mice_diff < 0.01:\n",
    "      print(f\"   Stacking MICE très proche (-{mice_diff:.4f})\")\n",
    "  if knn_diff < 0.01:\n",
    "      print(f\"   Stacking KNN très proche (-{knn_diff:.4f})\")\n",
    "\n",
    "print(f\"\\n📈 ANALYSE DES PERFORMANCES :\")\n",
    "print(\"-\" * 35)\n",
    "print(f\"• Objectif initial F1 > 0.92 : ✅ LARGEMENT DÉPASSÉ\")\n",
    "print(f\"• Stacking MICE atteint : {mice_f1_test:.4f} ({(mice_f1_test/0.92-1)*100:+.1f}%)\")\n",
    "print(f\"• Stacking KNN atteint : {knn_f1_test:.4f} ({(knn_f1_test/0.92-1)*100:+.1f}%)\")\n",
    "print(f\"• Champion XGBoost : 0.9385 (+{(0.9385/0.92-1)*100:.1f}%)\")\n",
    "\n",
    "# Recommandation finale mise à jour\n",
    "print(f\"\\n💡 RECOMMANDATION FINALE MISE À JOUR :\")\n",
    "print(\"=\" * 40)\n",
    "\n",
    "if mice_f1_test > 0.93:\n",
    "  print(f\"🏆 RECOMMANDATION : Stacking MICE\")\n",
    "  print(f\"   • Performance exceptionnelle : F1 = {mice_f1_test:.4f}\")\n",
    "  print(f\"   • Seuil optimal : 0.26\")\n",
    "  print(f\"   • Combine la force de 5 modèles MICE\")\n",
    "elif knn_f1_test > 0.93:\n",
    "  print(f\"🏆 RECOMMANDATION : Stacking KNN\")\n",
    "  print(f\"   • Performance exceptionnelle : F1 = {knn_f1_test:.4f}\")\n",
    "  print(f\"   • Seuil optimal : 0.20\")\n",
    "  print(f\"   • Combine la force de 5 modèles KNN\")\n",
    "else:\n",
    "  print(f\"🏆 RECOMMANDATION : XGBoost KNN FULL\")\n",
    "  print(f\"   • Performance de référence : F1 = 0.9385\")\n",
    "  print(f\"   • Plus simple et stable\")\n",
    "  print(f\"   • Alternative : Stacking MICE (F1 = {mice_f1_test:.4f})\")\n",
    "\n",
    "# Sauvegarde des résultats finaux\n",
    "final_stacking_results = {\n",
    "  'stacking_knn': {\n",
    "      'f1_test': knn_f1_test,\n",
    "      'precision_test': knn_precision_test,\n",
    "      'recall_test': knn_recall_test,\n",
    "      'optimal_threshold': 0.20,\n",
    "      'model': trained_stacking_knn\n",
    "  },\n",
    "  'stacking_mice': {\n",
    "      'f1_test': mice_f1_test,\n",
    "      'precision_test': mice_precision_test,\n",
    "      'recall_test': mice_recall_test,\n",
    "      'optimal_threshold': 0.26,\n",
    "      'model': trained_stacking_mice\n",
    "  },\n",
    "  'champion': champion,\n",
    "  'best_f1': best_f1\n",
    "}\n",
    "\n",
    "globals()['final_stacking_results'] = final_stacking_results\n",
    "print(f\"\\n💾 Résultats finaux sauvegardés dans 'final_stacking_results'\")\n",
    "print(f\"🚀 Analyse complète terminée !\")"
   ]
  },
  {
   "cell_type": "markdown",
   "id": "OmvuukHu2LZ9",
   "metadata": {
    "id": "OmvuukHu2LZ9"
   },
   "source": [
    "## Stacking sans refit avec optimisation"
   ]
  },
  {
   "cell_type": "code",
   "execution_count": 21,
   "id": "NLn6CdwMEfIm",
   "metadata": {
    "colab": {
     "base_uri": "https://localhost:8080/",
     "height": 1000
    },
    "id": "NLn6CdwMEfIm",
    "outputId": "d8ddfeb6-9289-495c-e340-f531542c1367"
   },
   "outputs": [
    {
     "name": "stdout",
     "output_type": "stream",
     "text": [
      "STACKING SANS REFIT - KNN\n",
      "================================================================================\n",
      "Chargement des pipelines pour KNN...\n",
      "5 pipelines chargés avec succès.\n",
      "Calcul des probabilités moyennes...\n",
      "Optimisation du seuil...\n",
      "Seuil optimal: 0.590 (F1-val: 0.9160)\n",
      "\n",
      "RÉSULTATS STACKING SANS REFIT KNN:\n",
      "   F1-score (test) : 0.9134\n",
      "   Précision (test): 1.0000\n",
      "   Rappel (test)   : 0.8406\n",
      "Résultats sauvegardés dans: C:\\sta211-project\\artifacts\\models\\notebook3\\stacking\\stacking_no_refit_knn_full.json\n",
      "\n",
      "STACKING SANS REFIT KNN TERMINÉ !\n",
      "STACKING SANS REFIT - MICE\n",
      "================================================================================\n",
      "Chargement des pipelines pour MICE...\n",
      "5 pipelines chargés avec succès.\n",
      "Calcul des probabilités moyennes...\n",
      "Optimisation du seuil...\n",
      "Seuil optimal: 0.610 (F1-val: 0.9219)\n",
      "\n",
      "RÉSULTATS STACKING SANS REFIT MICE:\n",
      "   F1-score (test) : 0.8595\n",
      "   Précision (test): 1.0000\n",
      "   Rappel (test)   : 0.7536\n",
      "Résultats sauvegardés dans: C:\\sta211-project\\artifacts\\models\\notebook3\\stacking\\stacking_no_refit_mice_full.json\n",
      "\n",
      "STACKING SANS REFIT MICE TERMINÉ !\n",
      "KNN : F1 = 0.9134\n",
      "MICE : F1 = 0.8595\n"
     ]
    }
   ],
   "source": [
    "from modules.config import cfg\n",
    "from modules.modeling import run_stacking_no_refit\n",
    "\n",
    "MODELS_DIR_NB2  = cfg.paths.models / \"notebook2\"\n",
    "OUTPUT_DIR      = cfg.paths.models / \"notebook3\" / \"stacking\"\n",
    "\n",
    "results_knn_no_refit  = run_stacking_no_refit(\n",
    "    X_val_knn, y_val_knn, X_test_knn, y_test_knn,\n",
    "    imputation_method=\"knn\",\n",
    "    models_dir=MODELS_DIR_NB2,\n",
    "    output_dir=OUTPUT_DIR\n",
    ")\n",
    "\n",
    "results_mice_no_refit = run_stacking_no_refit(\n",
    "    X_val_mice, y_val_mice, X_test_mice, y_test_mice,\n",
    "    imputation_method=\"mice\",\n",
    "    models_dir=MODELS_DIR_NB2,\n",
    "    output_dir=OUTPUT_DIR\n",
    ")\n",
    "\n",
    "# Résultats de F1 sur le jeu test\n",
    "if results_knn_no_refit:\n",
    "    print(f\"KNN : F1 = {results_knn_no_refit['metrics'].get('f1_score_test'):.4f}\")\n",
    "if results_mice_no_refit:\n",
    "    print(f\"MICE : F1 = {results_mice_no_refit['metrics'].get('f1_score_test'):.4f}\")\n"
   ]
  },
  {
   "cell_type": "markdown",
   "id": "a03970c4-2cc5-4708-a409-766305a46eeb",
   "metadata": {
    "id": "a03970c4-2cc5-4708-a409-766305a46eeb"
   },
   "source": [
    "## Comparaison des résultats Stacking – KNN vs MICE"
   ]
  },
  {
   "cell_type": "code",
   "execution_count": 23,
   "id": "qq6FwP1cIGgA",
   "metadata": {
    "colab": {
     "base_uri": "https://localhost:8080/"
    },
    "id": "qq6FwP1cIGgA",
    "outputId": "fc7fa606-9786-4c81-8e9f-48ae778c06c4"
   },
   "outputs": [],
   "source": [
    "# --- 5. COMPARAISON DES MODÈLES ---\n",
    "\n",
    "from modules.modeling import build_comparison_table \n",
    "from pathlib import Path\n",
    "\n",
    "\n",
    "# --- Définir les chemins des fichiers JSON de résultats ---\n",
    "\n",
    "json_paths = [\n",
    "    cfg.paths.models / \"notebook3\" / \"stacking\" / \"stacking_no_refit_knn_full.json\",\n",
    "    cfg.paths.models /\"notebook3\"  / \"stacking\" / \"stacking_no_refit_mice_full.json\",\n",
    "    cfg.paths.models /\"notebook3\"  / \"stacking\"/ \"stacking_with_refit_knn.json\",\n",
    "    cfg.paths.models /\"notebook3\" / \"stacking\"/ \"stacking_with_refit_mice.json\"\n",
    "]\n",
    "\n",
    "# --- Définir les détails pour l'affichage dans le tableau ---\n",
    "# Les clés DOIVENT correspondre exactement aux noms des FICHIERS (ce qui suit le dernier '/')\n",
    "details = {\n",
    "    \"stacking_no_refit_knn_full.json\": {\"Nom Affiché\": \"Stacking sans refit KNN\", \"Type\": \"Complet\", \"Imputation\": \"KNN\"},\n",
    "    \"stacking_no_refit_mice_full.json\": {\"Nom Affiché\": \"Stacking sans refit MICE\", \"Type\": \"Complet\", \"Imputation\": \"MICE\"},\n",
    "    \"stacking_with_refit_knn.json\": {\"Nom Affiché\": \"Stacking avec refit KNN\", \"Type\": \"Complet\", \"Imputation\": \"KNN\"}, # Nom corrigé (enlever _full)\n",
    "    \"stacking_with_refit_mice.json\": {\"Nom Affiché\": \"Stacking avec refit MICE\", \"Type\": \"Complet\", \"Imputation\": \"MICE\"} # Nom corrigé (enlever _full)\n",
    "}\n"
   ]
  },
  {
   "cell_type": "code",
   "execution_count": 24,
   "id": "HBwUO-1CZH_H",
   "metadata": {
    "colab": {
     "base_uri": "https://localhost:8080/",
     "height": 284
    },
    "id": "HBwUO-1CZH_H",
    "outputId": "21f10b12-335d-4ba0-8108-98e28a101d52"
   },
   "outputs": [
    {
     "name": "stdout",
     "output_type": "stream",
     "text": [
      "\n",
      " TABLEAU DE COMPARAISON FINAL:\n",
      "====================================================================================================\n"
     ]
    },
    {
     "data": {
      "text/html": [
       "<style type=\"text/css\">\n",
       "#T_8916a_row0_col3 {\n",
       "  background-color: #00441b;\n",
       "  color: #f1f1f1;\n",
       "}\n",
       "#T_8916a_row1_col3 {\n",
       "  background-color: #2d954d;\n",
       "  color: #f1f1f1;\n",
       "}\n",
       "#T_8916a_row2_col3 {\n",
       "  background-color: #349d53;\n",
       "  color: #f1f1f1;\n",
       "}\n",
       "#T_8916a_row3_col3 {\n",
       "  background-color: #f7fcf5;\n",
       "  color: #000000;\n",
       "}\n",
       "</style>\n",
       "<table id=\"T_8916a\">\n",
       "  <thead>\n",
       "    <tr>\n",
       "      <th class=\"blank level0\" >&nbsp;</th>\n",
       "      <th id=\"T_8916a_level0_col0\" class=\"col_heading level0 col0\" >Modèle</th>\n",
       "      <th id=\"T_8916a_level0_col1\" class=\"col_heading level0 col1\" >Type</th>\n",
       "      <th id=\"T_8916a_level0_col2\" class=\"col_heading level0 col2\" >Imputation</th>\n",
       "      <th id=\"T_8916a_level0_col3\" class=\"col_heading level0 col3\" >F1-score (test)</th>\n",
       "      <th id=\"T_8916a_level0_col4\" class=\"col_heading level0 col4\" >Précision (test)</th>\n",
       "      <th id=\"T_8916a_level0_col5\" class=\"col_heading level0 col5\" >Rappel (test)</th>\n",
       "      <th id=\"T_8916a_level0_col6\" class=\"col_heading level0 col6\" >Seuil utilisé</th>\n",
       "    </tr>\n",
       "  </thead>\n",
       "  <tbody>\n",
       "    <tr>\n",
       "      <th id=\"T_8916a_level0_row0\" class=\"row_heading level0 row0\" >0</th>\n",
       "      <td id=\"T_8916a_row0_col0\" class=\"data row0 col0\" >Stacking sans refit KNN</td>\n",
       "      <td id=\"T_8916a_row0_col1\" class=\"data row0 col1\" >Complet</td>\n",
       "      <td id=\"T_8916a_row0_col2\" class=\"data row0 col2\" >KNN</td>\n",
       "      <td id=\"T_8916a_row0_col3\" class=\"data row0 col3\" >0.9134</td>\n",
       "      <td id=\"T_8916a_row0_col4\" class=\"data row0 col4\" >1.0000</td>\n",
       "      <td id=\"T_8916a_row0_col5\" class=\"data row0 col5\" >0.8406</td>\n",
       "      <td id=\"T_8916a_row0_col6\" class=\"data row0 col6\" >0.590</td>\n",
       "    </tr>\n",
       "    <tr>\n",
       "      <th id=\"T_8916a_level0_row1\" class=\"row_heading level0 row1\" >1</th>\n",
       "      <td id=\"T_8916a_row1_col0\" class=\"data row1 col0\" >Stacking avec refit KNN</td>\n",
       "      <td id=\"T_8916a_row1_col1\" class=\"data row1 col1\" >Complet</td>\n",
       "      <td id=\"T_8916a_row1_col2\" class=\"data row1 col2\" >KNN</td>\n",
       "      <td id=\"T_8916a_row1_col3\" class=\"data row1 col3\" >0.8976</td>\n",
       "      <td id=\"T_8916a_row1_col4\" class=\"data row1 col4\" >0.9828</td>\n",
       "      <td id=\"T_8916a_row1_col5\" class=\"data row1 col5\" >0.8261</td>\n",
       "      <td id=\"T_8916a_row1_col6\" class=\"data row1 col6\" >0.200</td>\n",
       "    </tr>\n",
       "    <tr>\n",
       "      <th id=\"T_8916a_level0_row2\" class=\"row_heading level0 row2\" >2</th>\n",
       "      <td id=\"T_8916a_row2_col0\" class=\"data row2 col0\" >Stacking avec refit MICE</td>\n",
       "      <td id=\"T_8916a_row2_col1\" class=\"data row2 col1\" >Complet</td>\n",
       "      <td id=\"T_8916a_row2_col2\" class=\"data row2 col2\" >MICE</td>\n",
       "      <td id=\"T_8916a_row2_col3\" class=\"data row2 col3\" >0.8960</td>\n",
       "      <td id=\"T_8916a_row2_col4\" class=\"data row2 col4\" >1.0000</td>\n",
       "      <td id=\"T_8916a_row2_col5\" class=\"data row2 col5\" >0.8116</td>\n",
       "      <td id=\"T_8916a_row2_col6\" class=\"data row2 col6\" >0.260</td>\n",
       "    </tr>\n",
       "    <tr>\n",
       "      <th id=\"T_8916a_level0_row3\" class=\"row_heading level0 row3\" >3</th>\n",
       "      <td id=\"T_8916a_row3_col0\" class=\"data row3 col0\" >Stacking sans refit MICE</td>\n",
       "      <td id=\"T_8916a_row3_col1\" class=\"data row3 col1\" >Complet</td>\n",
       "      <td id=\"T_8916a_row3_col2\" class=\"data row3 col2\" >MICE</td>\n",
       "      <td id=\"T_8916a_row3_col3\" class=\"data row3 col3\" >0.8595</td>\n",
       "      <td id=\"T_8916a_row3_col4\" class=\"data row3 col4\" >1.0000</td>\n",
       "      <td id=\"T_8916a_row3_col5\" class=\"data row3 col5\" >0.7536</td>\n",
       "      <td id=\"T_8916a_row3_col6\" class=\"data row3 col6\" >0.610</td>\n",
       "    </tr>\n",
       "  </tbody>\n",
       "</table>\n"
      ],
      "text/plain": [
       "<pandas.io.formats.style.Styler at 0x21270e6e140>"
      ]
     },
     "metadata": {},
     "output_type": "display_data"
    },
    {
     "name": "stdout",
     "output_type": "stream",
     "text": [
      "(💡 Le meilleur F1-score est mis en évidence par une couleur plus foncée)\n",
      "\n",
      "✅ TOUTES LES ÉTAPES DE STACKING SONT TERMINÉES !\n"
     ]
    }
   ],
   "source": [
    "# --- Généreration et affichage du tableau de comparaison ---\n",
    "try:\n",
    "    df_comparison = build_comparison_table(json_paths, details)\n",
    "    if not df_comparison.empty:\n",
    "        print(\"\\n TABLEAU DE COMPARAISON FINAL:\")\n",
    "        print(\"=\" * 100) # Ajusté pour plus de colonnes\n",
    "\n",
    "        # --- Version avec style coloré ---\n",
    "        try:\n",
    "            # Vérifier si on est dans un environnement qui supporte le HTML (comme Jupyter/Colab)\n",
    "            from IPython.display import display, HTML\n",
    "            import pandas as pd\n",
    "\n",
    "            # Appliquer le style : dégradé sur la colonne F1-score (test)\n",
    "            # 'background_gradient' colore les cellules. cmap='Blues'/'Greens'/'viridis' sont des options.\n",
    "            # subset permet de spécifier les colonnes concernées.\n",
    "            # axis=0 pour normaliser sur toute la colonne, axis=None pour normaliser sur tout le tableau.\n",
    "            styled_df = df_comparison.style.background_gradient(\n",
    "                cmap='Greens', # Choix du dégradé de couleur (GnBu, Blues, Greens, viridis, etc.)\n",
    "                subset=['F1-score (test)'], # Colonnes sur lesquelles appliquer le style\n",
    "                axis=0 # Normalisation par colonne\n",
    "            ).format({ # Formater les colonnes numériques\n",
    "                'F1-score (test)': \"{:.4f}\",\n",
    "                'Précision (test)': \"{:.4f}\",\n",
    "                'Rappel (test)': \"{:.4f}\",\n",
    "                'Seuil utilisé': \"{:.3f}\"\n",
    "            }) # On peut ajouter .set_properties(**{'text-align': 'center'}) pour centrer le texte\n",
    "\n",
    "            display(styled_df) # Affichage plus joli et coloré dans Colab/Jupyter\n",
    "            print(\"(💡 Le meilleur F1-score est mis en évidence par une couleur plus foncée)\")\n",
    "\n",
    "        except ImportError:\n",
    "            # Fallback si IPython.display n'est pas disponible ou échoue\n",
    "            print(df_comparison.to_string(index=False, float_format=\"%.4f\")) # Affichage standard\n",
    "            print(\"\\n( Pour un affichage coloré, exécutez ce code dans Jupyter/Colab)\")\n",
    "\n",
    "    else:\n",
    "        print(\"⚠️ Le tableau de comparaison est vide.\")\n",
    "        # Afficher les chemins tentés pour aider au debug\n",
    "        print(\"Chemins tentés :\")\n",
    "        for p in json_paths:\n",
    "            print(f\" - {p}\")\n",
    "except Exception as e:\n",
    "    print(f\"❌ Erreur lors de la génération du tableau de comparaison: {e}\")\n",
    "    import traceback\n",
    "    traceback.print_exc() # Affiche la pile d'appels pour aider au debug\n",
    "\n",
    "print(\"\\n✅ TOUTES LES ÉTAPES DE STACKING SONT TERMINÉES !\")\n"
   ]
  },
  {
   "cell_type": "markdown",
   "id": "f346bd53",
   "metadata": {},
   "source": [
    "# Génération des prédictions pour le challenge"
   ]
  },
  {
   "cell_type": "code",
   "execution_count": 48,
   "id": "6dc2cbaa",
   "metadata": {},
   "outputs": [
    {
     "name": "stdout",
     "output_type": "stream",
     "text": [
      "2025-08-16 19:01:54,570 - INFO - Pipeline initialisé avec base_dir: C:\\sta211-project\n",
      "2025-08-16 19:01:54,571 - ERROR - Fichier de résultats introuvable : outputs\\evaluation_test\\test_results_all_models.csv\n",
      "2025-08-16 19:01:54,572 - WARNING - Retour au modèle champion…\n",
      "2025-08-16 19:01:54,573 - INFO - ================================================================================\n",
      "2025-08-16 19:01:54,573 - INFO - GÉNÉRATION DES PRÉDICTIONS AVEC LE MODÈLE CHAMPION\n",
      "2025-08-16 19:01:54,574 - INFO - ================================================================================\n",
      "2025-08-16 19:01:54,575 - INFO - Chargement et prétraitement des données de test...\n",
      "2025-08-16 19:01:54,576 - INFO - Chargement des données depuis : C:\\sta211-project\\data\\raw\\data_test.csv\n",
      "2025-08-16 19:01:54,623 - INFO - Données chargées : 820 lignes, 1 colonnes\n",
      "2025-08-16 19:01:54,623 - INFO - Colonnes détectées : ['X1\\t\"X2\"\\t\"X3\"\\t\"X4\"\\t\"X5\"\\t\"X6\"\\t\"X7\"\\t\"X8\"\\t\"X9\"\\t\"X10\"\\t\"X11\"\\t\"X12\"\\t\"X13\"\\t\"X14\"\\t\"X15\"\\t\"X16\"\\t\"X17\"\\t\"X18\"\\t\"X19\"\\t\"X20\"\\t\"X21\"\\t\"X22\"\\t\"X23\"\\t\"X24\"\\t\"X25\"\\t\"X26\"\\t\"X27\"\\t\"X28\"\\t\"X29\"\\t\"X30\"\\t\"X31\"\\t\"X32\"\\t\"X33\"\\t\"X34\"\\t\"X35\"\\t\"X36\"\\t\"X37\"\\t\"X38\"\\t\"X39\"\\t\"X40\"\\t\"X41\"\\t\"X42\"\\t\"X43\"\\t\"X44\"\\t\"X45\"\\t\"X46\"\\t\"X47\"\\t\"X48\"\\t\"X49\"\\t\"X50\"\\t\"X51\"\\t\"X52\"\\t\"X53\"\\t\"X54\"\\t\"X55\"\\t\"X56\"\\t\"X57\"\\t\"X58\"\\t\"X59\"\\t\"X60\"\\t\"X61\"\\t\"X62\"\\t\"X63\"\\t\"X64\"\\t\"X65\"\\t\"X66\"\\t\"X67\"\\t\"X68\"\\t\"X69\"\\t\"X70\"\\t\"X71\"\\t\"X72\"\\t\"X73\"\\t\"X74\"\\t\"X75\"\\t\"X76\"\\t\"X77\"\\t\"X78\"\\t\"X79\"\\t\"X80\"\\t\"X81\"\\t\"X82\"\\t\"X83\"\\t\"X84\"\\t\"X85\"\\t\"X86\"\\t\"X87\"\\t\"X88\"\\t\"X89\"\\t\"X90\"\\t\"X91\"\\t\"X92\"\\t\"X93\"\\t\"X94\"\\t\"X95\"\\t\"X96\"\\t\"X97\"\\t\"X98\"\\t\"X99\"\\t\"X100\"\\t\"X101\"\\t\"X102\"\\t\"X103\"\\t\"X104\"\\t\"X105\"\\t\"X106\"\\t\"X107\"\\t\"X108\"\\t\"X109\"\\t\"X110\"\\t\"X111\"\\t\"X112\"\\t\"X113\"\\t\"X114\"\\t\"X115\"\\t\"X116\"\\t\"X117\"\\t\"X118\"\\t\"X119\"\\t\"X120\"\\t\"X121\"\\t\"X122\"\\t\"X123\"\\t\"X124\"\\t\"X125\"\\t\"X126\"\\t\"X127\"\\t\"X128\"\\t\"X129\"\\t\"X130\"\\t\"X131\"\\t\"X132\"\\t\"X133\"\\t\"X134\"\\t\"X135\"\\t\"X136\"\\t\"X137\"\\t\"X138\"\\t\"X139\"\\t\"X140\"\\t\"X141\"\\t\"X142\"\\t\"X143\"\\t\"X144\"\\t\"X145\"\\t\"X146\"\\t\"X147\"\\t\"X148\"\\t\"X149\"\\t\"X150\"\\t\"X151\"\\t\"X152\"\\t\"X153\"\\t\"X154\"\\t\"X155\"\\t\"X156\"\\t\"X157\"\\t\"X158\"\\t\"X159\"\\t\"X160\"\\t\"X161\"\\t\"X162\"\\t\"X163\"\\t\"X164\"\\t\"X165\"\\t\"X166\"\\t\"X167\"\\t\"X168\"\\t\"X169\"\\t\"X170\"\\t\"X171\"\\t\"X172\"\\t\"X173\"\\t\"X174\"\\t\"X175\"\\t\"X176\"\\t\"X177\"\\t\"X178\"\\t\"X179\"\\t\"X180\"\\t\"X181\"\\t\"X182\"\\t\"X183\"\\t\"X184\"\\t\"X185\"\\t\"X186\"\\t\"X187\"\\t\"X188\"\\t\"X189\"\\t\"X190\"\\t\"X191\"\\t\"X192\"\\t\"X193\"\\t\"X194\"\\t\"X195\"\\t\"X196\"\\t\"X197\"\\t\"X198\"\\t\"X199\"\\t\"X200\"\\t\"X201\"\\t\"X202\"\\t\"X203\"\\t\"X204\"\\t\"X205\"\\t\"X206\"\\t\"X207\"\\t\"X208\"\\t\"X209\"\\t\"X210\"\\t\"X211\"\\t\"X212\"\\t\"X213\"\\t\"X214\"\\t\"X215\"\\t\"X216\"\\t\"X217\"\\t\"X218\"\\t\"X219\"\\t\"X220\"\\t\"X221\"\\t\"X222\"\\t\"X223\"\\t\"X224\"\\t\"X225\"\\t\"X226\"\\t\"X227\"\\t\"X228\"\\t\"X229\"\\t\"X230\"\\t\"X231\"\\t\"X232\"\\t\"X233\"\\t\"X234\"\\t\"X235\"\\t\"X236\"\\t\"X237\"\\t\"X238\"\\t\"X239\"\\t\"X240\"\\t\"X241\"\\t\"X242\"\\t\"X243\"\\t\"X244\"\\t\"X245\"\\t\"X246\"\\t\"X247\"\\t\"X248\"\\t\"X249\"\\t\"X250\"\\t\"X251\"\\t\"X252\"\\t\"X253\"\\t\"X254\"\\t\"X255\"\\t\"X256\"\\t\"X257\"\\t\"X258\"\\t\"X259\"\\t\"X260\"\\t\"X261\"\\t\"X262\"\\t\"X263\"\\t\"X264\"\\t\"X265\"\\t\"X266\"\\t\"X267\"\\t\"X268\"\\t\"X269\"\\t\"X270\"\\t\"X271\"\\t\"X272\"\\t\"X273\"\\t\"X274\"\\t\"X275\"\\t\"X276\"\\t\"X277\"\\t\"X278\"\\t\"X279\"\\t\"X280\"\\t\"X281\"\\t\"X282\"\\t\"X283\"\\t\"X284\"\\t\"X285\"\\t\"X286\"\\t\"X287\"\\t\"X288\"\\t\"X289\"\\t\"X290\"\\t\"X291\"\\t\"X292\"\\t\"X293\"\\t\"X294\"\\t\"X295\"\\t\"X296\"\\t\"X297\"\\t\"X298\"\\t\"X299\"\\t\"X300\"\\t\"X301\"\\t\"X302\"\\t\"X303\"\\t\"X304\"\\t\"X305\"\\t\"X306\"\\t\"X307\"\\t\"X308\"\\t\"X309\"\\t\"X310\"\\t\"X311\"\\t\"X312\"\\t\"X313\"\\t\"X314\"\\t\"X315\"\\t\"X316\"\\t\"X317\"\\t\"X318\"\\t\"X319\"\\t\"X320\"\\t\"X321\"\\t\"X322\"\\t\"X323\"\\t\"X324\"\\t\"X325\"\\t\"X326\"\\t\"X327\"\\t\"X328\"\\t\"X329\"\\t\"X330\"\\t\"X331\"\\t\"X332\"\\t\"X333\"\\t\"X334\"\\t\"X335\"\\t\"X336\"\\t\"X337\"\\t\"X338\"\\t\"X339\"\\t\"X340\"\\t\"X341\"\\t\"X342\"\\t\"X343\"\\t\"X344\"\\t\"X345\"\\t\"X346\"\\t\"X347\"\\t\"X348\"\\t\"X349\"\\t\"X350\"\\t\"X351\"\\t\"X352\"\\t\"X353\"\\t\"X354\"\\t\"X355\"\\t\"X356\"\\t\"X357\"\\t\"X358\"\\t\"X359\"\\t\"X360\"\\t\"X361\"\\t\"X362\"\\t\"X363\"\\t\"X364\"\\t\"X365\"\\t\"X366\"\\t\"X367\"\\t\"X368\"\\t\"X369\"\\t\"X370\"\\t\"X371\"\\t\"X372\"\\t\"X373\"\\t\"X374\"\\t\"X375\"\\t\"X376\"\\t\"X377\"\\t\"X378\"\\t\"X379\"\\t\"X380\"\\t\"X381\"\\t\"X382\"\\t\"X383\"\\t\"X384\"\\t\"X385\"\\t\"X386\"\\t\"X387\"\\t\"X388\"\\t\"X389\"\\t\"X390\"\\t\"X391\"\\t\"X392\"\\t\"X393\"\\t\"X394\"\\t\"X395\"\\t\"X396\"\\t\"X397\"\\t\"X398\"\\t\"X399\"\\t\"X400\"\\t\"X401\"\\t\"X402\"\\t\"X403\"\\t\"X404\"\\t\"X405\"\\t\"X406\"\\t\"X407\"\\t\"X408\"\\t\"X409\"\\t\"X410\"\\t\"X411\"\\t\"X412\"\\t\"X413\"\\t\"X414\"\\t\"X415\"\\t\"X416\"\\t\"X417\"\\t\"X418\"\\t\"X419\"\\t\"X420\"\\t\"X421\"\\t\"X422\"\\t\"X423\"\\t\"X424\"\\t\"X425\"\\t\"X426\"\\t\"X427\"\\t\"X428\"\\t\"X429\"\\t\"X430\"\\t\"X431\"\\t\"X432\"\\t\"X433\"\\t\"X434\"\\t\"X435\"\\t\"X436\"\\t\"X437\"\\t\"X438\"\\t\"X439\"\\t\"X440\"\\t\"X441\"\\t\"X442\"\\t\"X443\"\\t\"X444\"\\t\"X445\"\\t\"X446\"\\t\"X447\"\\t\"X448\"\\t\"X449\"\\t\"X450\"\\t\"X451\"\\t\"X452\"\\t\"X453\"\\t\"X454\"\\t\"X455\"\\t\"X456\"\\t\"X457\"\\t\"X458\"\\t\"X459\"\\t\"X460\"\\t\"X461\"\\t\"X462\"\\t\"X463\"\\t\"X464\"\\t\"X465\"\\t\"X466\"\\t\"X467\"\\t\"X468\"\\t\"X469\"\\t\"X470\"\\t\"X471\"\\t\"X472\"\\t\"X473\"\\t\"X474\"\\t\"X475\"\\t\"X476\"\\t\"X477\"\\t\"X478\"\\t\"X479\"\\t\"X480\"\\t\"X481\"\\t\"X482\"\\t\"X483\"\\t\"X484\"\\t\"X485\"\\t\"X486\"\\t\"X487\"\\t\"X488\"\\t\"X489\"\\t\"X490\"\\t\"X491\"\\t\"X492\"\\t\"X493\"\\t\"X494\"\\t\"X495\"\\t\"X496\"\\t\"X497\"\\t\"X498\"\\t\"X499\"\\t\"X500\"\\t\"X501\"\\t\"X502\"\\t\"X503\"\\t\"X504\"\\t\"X505\"\\t\"X506\"\\t\"X507\"\\t\"X508\"\\t\"X509\"\\t\"X510\"\\t\"X511\"\\t\"X512\"\\t\"X513\"\\t\"X514\"\\t\"X515\"\\t\"X516\"\\t\"X517\"\\t\"X518\"\\t\"X519\"\\t\"X520\"\\t\"X521\"\\t\"X522\"\\t\"X523\"\\t\"X524\"\\t\"X525\"\\t\"X526\"\\t\"X527\"\\t\"X528\"\\t\"X529\"\\t\"X530\"\\t\"X531\"\\t\"X532\"\\t\"X533\"\\t\"X534\"\\t\"X535\"\\t\"X536\"\\t\"X537\"\\t\"X538\"\\t\"X539\"\\t\"X540\"\\t\"X541\"\\t\"X542\"\\t\"X543\"\\t\"X544\"\\t\"X545\"\\t\"X546\"\\t\"X547\"\\t\"X548\"\\t\"X549\"\\t\"X550\"\\t\"X551\"\\t\"X552\"\\t\"X553\"\\t\"X554\"\\t\"X555\"\\t\"X556\"\\t\"X557\"\\t\"X558\"\\t\"X559\"\\t\"X560\"\\t\"X561\"\\t\"X562\"\\t\"X563\"\\t\"X564\"\\t\"X565\"\\t\"X566\"\\t\"X567\"\\t\"X568\"\\t\"X569\"\\t\"X570\"\\t\"X571\"\\t\"X572\"\\t\"X573\"\\t\"X574\"\\t\"X575\"\\t\"X576\"\\t\"X577\"\\t\"X578\"\\t\"X579\"\\t\"X580\"\\t\"X581\"\\t\"X582\"\\t\"X583\"\\t\"X584\"\\t\"X585\"\\t\"X586\"\\t\"X587\"\\t\"X588\"\\t\"X589\"\\t\"X590\"\\t\"X591\"\\t\"X592\"\\t\"X593\"\\t\"X594\"\\t\"X595\"\\t\"X596\"\\t\"X597\"\\t\"X598\"\\t\"X599\"\\t\"X600\"\\t\"X601\"\\t\"X602\"\\t\"X603\"\\t\"X604\"\\t\"X605\"\\t\"X606\"\\t\"X607\"\\t\"X608\"\\t\"X609\"\\t\"X610\"\\t\"X611\"\\t\"X612\"\\t\"X613\"\\t\"X614\"\\t\"X615\"\\t\"X616\"\\t\"X617\"\\t\"X618\"\\t\"X619\"\\t\"X620\"\\t\"X621\"\\t\"X622\"\\t\"X623\"\\t\"X624\"\\t\"X625\"\\t\"X626\"\\t\"X627\"\\t\"X628\"\\t\"X629\"\\t\"X630\"\\t\"X631\"\\t\"X632\"\\t\"X633\"\\t\"X634\"\\t\"X635\"\\t\"X636\"\\t\"X637\"\\t\"X638\"\\t\"X639\"\\t\"X640\"\\t\"X641\"\\t\"X642\"\\t\"X643\"\\t\"X644\"\\t\"X645\"\\t\"X646\"\\t\"X647\"\\t\"X648\"\\t\"X649\"\\t\"X650\"\\t\"X651\"\\t\"X652\"\\t\"X653\"\\t\"X654\"\\t\"X655\"\\t\"X656\"\\t\"X657\"\\t\"X658\"\\t\"X659\"\\t\"X660\"\\t\"X661\"\\t\"X662\"\\t\"X663\"\\t\"X664\"\\t\"X665\"\\t\"X666\"\\t\"X667\"\\t\"X668\"\\t\"X669\"\\t\"X670\"\\t\"X671\"\\t\"X672\"\\t\"X673\"\\t\"X674\"\\t\"X675\"\\t\"X676\"\\t\"X677\"\\t\"X678\"\\t\"X679\"\\t\"X680\"\\t\"X681\"\\t\"X682\"\\t\"X683\"\\t\"X684\"\\t\"X685\"\\t\"X686\"\\t\"X687\"\\t\"X688\"\\t\"X689\"\\t\"X690\"\\t\"X691\"\\t\"X692\"\\t\"X693\"\\t\"X694\"\\t\"X695\"\\t\"X696\"\\t\"X697\"\\t\"X698\"\\t\"X699\"\\t\"X700\"\\t\"X701\"\\t\"X702\"\\t\"X703\"\\t\"X704\"\\t\"X705\"\\t\"X706\"\\t\"X707\"\\t\"X708\"\\t\"X709\"\\t\"X710\"\\t\"X711\"\\t\"X712\"\\t\"X713\"\\t\"X714\"\\t\"X715\"\\t\"X716\"\\t\"X717\"\\t\"X718\"\\t\"X719\"\\t\"X720\"\\t\"X721\"\\t\"X722\"\\t\"X723\"\\t\"X724\"\\t\"X725\"\\t\"X726\"\\t\"X727\"\\t\"X728\"\\t\"X729\"\\t\"X730\"\\t\"X731\"\\t\"X732\"\\t\"X733\"\\t\"X734\"\\t\"X735\"\\t\"X736\"\\t\"X737\"\\t\"X738\"\\t\"X739\"\\t\"X740\"\\t\"X741\"\\t\"X742\"\\t\"X743\"\\t\"X744\"\\t\"X745\"\\t\"X746\"\\t\"X747\"\\t\"X748\"\\t\"X749\"\\t\"X750\"\\t\"X751\"\\t\"X752\"\\t\"X753\"\\t\"X754\"\\t\"X755\"\\t\"X756\"\\t\"X757\"\\t\"X758\"\\t\"X759\"\\t\"X760\"\\t\"X761\"\\t\"X762\"\\t\"X763\"\\t\"X764\"\\t\"X765\"\\t\"X766\"\\t\"X767\"\\t\"X768\"\\t\"X769\"\\t\"X770\"\\t\"X771\"\\t\"X772\"\\t\"X773\"\\t\"X774\"\\t\"X775\"\\t\"X776\"\\t\"X777\"\\t\"X778\"\\t\"X779\"\\t\"X780\"\\t\"X781\"\\t\"X782\"\\t\"X783\"\\t\"X784\"\\t\"X785\"\\t\"X786\"\\t\"X787\"\\t\"X788\"\\t\"X789\"\\t\"X790\"\\t\"X791\"\\t\"X792\"\\t\"X793\"\\t\"X794\"\\t\"X795\"\\t\"X796\"\\t\"X797\"\\t\"X798\"\\t\"X799\"\\t\"X800\"\\t\"X801\"\\t\"X802\"\\t\"X803\"\\t\"X804\"\\t\"X805\"\\t\"X806\"\\t\"X807\"\\t\"X808\"\\t\"X809\"\\t\"X810\"\\t\"X811\"\\t\"X812\"\\t\"X813\"\\t\"X814\"\\t\"X815\"\\t\"X816\"\\t\"X817\"\\t\"X818\"\\t\"X819\"\\t\"X820\"\\t\"X821\"\\t\"X822\"\\t\"X823\"\\t\"X824\"\\t\"X825\"\\t\"X826\"\\t\"X827\"\\t\"X828\"\\t\"X829\"\\t\"X830\"\\t\"X831\"\\t\"X832\"\\t\"X833\"\\t\"X834\"\\t\"X835\"\\t\"X836\"\\t\"X837\"\\t\"X838\"\\t\"X839\"\\t\"X840\"\\t\"X841\"\\t\"X842\"\\t\"X843\"\\t\"X844\"\\t\"X845\"\\t\"X846\"\\t\"X847\"\\t\"X848\"\\t\"X849\"\\t\"X850\"\\t\"X851\"\\t\"X852\"\\t\"X853\"\\t\"X854\"\\t\"X855\"\\t\"X856\"\\t\"X857\"\\t\"X858\"\\t\"X859\"\\t\"X860\"\\t\"X861\"\\t\"X862\"\\t\"X863\"\\t\"X864\"\\t\"X865\"\\t\"X866\"\\t\"X867\"\\t\"X868\"\\t\"X869\"\\t\"X870\"\\t\"X871\"\\t\"X872\"\\t\"X873\"\\t\"X874\"\\t\"X875\"\\t\"X876\"\\t\"X877\"\\t\"X878\"\\t\"X879\"\\t\"X880\"\\t\"X881\"\\t\"X882\"\\t\"X883\"\\t\"X884\"\\t\"X885\"\\t\"X886\"\\t\"X887\"\\t\"X888\"\\t\"X889\"\\t\"X890\"\\t\"X891\"\\t\"X892\"\\t\"X893\"\\t\"X894\"\\t\"X895\"\\t\"X896\"\\t\"X897\"\\t\"X898\"\\t\"X899\"\\t\"X900\"\\t\"X901\"\\t\"X902\"\\t\"X903\"\\t\"X904\"\\t\"X905\"\\t\"X906\"\\t\"X907\"\\t\"X908\"\\t\"X909\"\\t\"X910\"\\t\"X911\"\\t\"X912\"\\t\"X913\"\\t\"X914\"\\t\"X915\"\\t\"X916\"\\t\"X917\"\\t\"X918\"\\t\"X919\"\\t\"X920\"\\t\"X921\"\\t\"X922\"\\t\"X923\"\\t\"X924\"\\t\"X925\"\\t\"X926\"\\t\"X927\"\\t\"X928\"\\t\"X929\"\\t\"X930\"\\t\"X931\"\\t\"X932\"\\t\"X933\"\\t\"X934\"\\t\"X935\"\\t\"X936\"\\t\"X937\"\\t\"X938\"\\t\"X939\"\\t\"X940\"\\t\"X941\"\\t\"X942\"\\t\"X943\"\\t\"X944\"\\t\"X945\"\\t\"X946\"\\t\"X947\"\\t\"X948\"\\t\"X949\"\\t\"X950\"\\t\"X951\"\\t\"X952\"\\t\"X953\"\\t\"X954\"\\t\"X955\"\\t\"X956\"\\t\"X957\"\\t\"X958\"\\t\"X959\"\\t\"X960\"\\t\"X961\"\\t\"X962\"\\t\"X963\"\\t\"X964\"\\t\"X965\"\\t\"X966\"\\t\"X967\"\\t\"X968\"\\t\"X969\"\\t\"X970\"\\t\"X971\"\\t\"X972\"\\t\"X973\"\\t\"X974\"\\t\"X975\"\\t\"X976\"\\t\"X977\"\\t\"X978\"\\t\"X979\"\\t\"X980\"\\t\"X981\"\\t\"X982\"\\t\"X983\"\\t\"X984\"\\t\"X985\"\\t\"X986\"\\t\"X987\"\\t\"X988\"\\t\"X989\"\\t\"X990\"\\t\"X991\"\\t\"X992\"\\t\"X993\"\\t\"X994\"\\t\"X995\"\\t\"X996\"\\t\"X997\"\\t\"X998\"\\t\"X999\"\\t\"X1000\"\\t\"X1001\"\\t\"X1002\"\\t\"X1003\"\\t\"X1004\"\\t\"X1005\"\\t\"X1006\"\\t\"X1007\"\\t\"X1008\"\\t\"X1009\"\\t\"X1010\"\\t\"X1011\"\\t\"X1012\"\\t\"X1013\"\\t\"X1014\"\\t\"X1015\"\\t\"X1016\"\\t\"X1017\"\\t\"X1018\"\\t\"X1019\"\\t\"X1020\"\\t\"X1021\"\\t\"X1022\"\\t\"X1023\"\\t\"X1024\"\\t\"X1025\"\\t\"X1026\"\\t\"X1027\"\\t\"X1028\"\\t\"X1029\"\\t\"X1030\"\\t\"X1031\"\\t\"X1032\"\\t\"X1033\"\\t\"X1034\"\\t\"X1035\"\\t\"X1036\"\\t\"X1037\"\\t\"X1038\"\\t\"X1039\"\\t\"X1040\"\\t\"X1041\"\\t\"X1042\"\\t\"X1043\"\\t\"X1044\"\\t\"X1045\"\\t\"X1046\"\\t\"X1047\"\\t\"X1048\"\\t\"X1049\"\\t\"X1050\"\\t\"X1051\"\\t\"X1052\"\\t\"X1053\"\\t\"X1054\"\\t\"X1055\"\\t\"X1056\"\\t\"X1057\"\\t\"X1058\"\\t\"X1059\"\\t\"X1060\"\\t\"X1061\"\\t\"X1062\"\\t\"X1063\"\\t\"X1064\"\\t\"X1065\"\\t\"X1066\"\\t\"X1067\"\\t\"X1068\"\\t\"X1069\"\\t\"X1070\"\\t\"X1071\"\\t\"X1072\"\\t\"X1073\"\\t\"X1074\"\\t\"X1075\"\\t\"X1076\"\\t\"X1077\"\\t\"X1078\"\\t\"X1079\"\\t\"X1080\"\\t\"X1081\"\\t\"X1082\"\\t\"X1083\"\\t\"X1084\"\\t\"X1085\"\\t\"X1086\"\\t\"X1087\"\\t\"X1088\"\\t\"X1089\"\\t\"X1090\"\\t\"X1091\"\\t\"X1092\"\\t\"X1093\"\\t\"X1094\"\\t\"X1095\"\\t\"X1096\"\\t\"X1097\"\\t\"X1098\"\\t\"X1099\"\\t\"X1100\"\\t\"X1101\"\\t\"X1102\"\\t\"X1103\"\\t\"X1104\"\\t\"X1105\"\\t\"X1106\"\\t\"X1107\"\\t\"X1108\"\\t\"X1109\"\\t\"X1110\"\\t\"X1111\"\\t\"X1112\"\\t\"X1113\"\\t\"X1114\"\\t\"X1115\"\\t\"X1116\"\\t\"X1117\"\\t\"X1118\"\\t\"X1119\"\\t\"X1120\"\\t\"X1121\"\\t\"X1122\"\\t\"X1123\"\\t\"X1124\"\\t\"X1125\"\\t\"X1126\"\\t\"X1127\"\\t\"X1128\"\\t\"X1129\"\\t\"X1130\"\\t\"X1131\"\\t\"X1132\"\\t\"X1133\"\\t\"X1134\"\\t\"X1135\"\\t\"X1136\"\\t\"X1137\"\\t\"X1138\"\\t\"X1139\"\\t\"X1140\"\\t\"X1141\"\\t\"X1142\"\\t\"X1143\"\\t\"X1144\"\\t\"X1145\"\\t\"X1146\"\\t\"X1147\"\\t\"X1148\"\\t\"X1149\"\\t\"X1150\"\\t\"X1151\"\\t\"X1152\"\\t\"X1153\"\\t\"X1154\"\\t\"X1155\"\\t\"X1156\"\\t\"X1157\"\\t\"X1158\"\\t\"X1159\"\\t\"X1160\"\\t\"X1161\"\\t\"X1162\"\\t\"X1163\"\\t\"X1164\"\\t\"X1165\"\\t\"X1166\"\\t\"X1167\"\\t\"X1168\"\\t\"X1169\"\\t\"X1170\"\\t\"X1171\"\\t\"X1172\"\\t\"X1173\"\\t\"X1174\"\\t\"X1175\"\\t\"X1176\"\\t\"X1177\"\\t\"X1178\"\\t\"X1179\"\\t\"X1180\"\\t\"X1181\"\\t\"X1182\"\\t\"X1183\"\\t\"X1184\"\\t\"X1185\"\\t\"X1186\"\\t\"X1187\"\\t\"X1188\"\\t\"X1189\"\\t\"X1190\"\\t\"X1191\"\\t\"X1192\"\\t\"X1193\"\\t\"X1194\"\\t\"X1195\"\\t\"X1196\"\\t\"X1197\"\\t\"X1198\"\\t\"X1199\"\\t\"X1200\"\\t\"X1201\"\\t\"X1202\"\\t\"X1203\"\\t\"X1204\"\\t\"X1205\"\\t\"X1206\"\\t\"X1207\"\\t\"X1208\"\\t\"X1209\"\\t\"X1210\"\\t\"X1211\"\\t\"X1212\"\\t\"X1213\"\\t\"X1214\"\\t\"X1215\"\\t\"X1216\"\\t\"X1217\"\\t\"X1218\"\\t\"X1219\"\\t\"X1220\"\\t\"X1221\"\\t\"X1222\"\\t\"X1223\"\\t\"X1224\"\\t\"X1225\"\\t\"X1226\"\\t\"X1227\"\\t\"X1228\"\\t\"X1229\"\\t\"X1230\"\\t\"X1231\"\\t\"X1232\"\\t\"X1233\"\\t\"X1234\"\\t\"X1235\"\\t\"X1236\"\\t\"X1237\"\\t\"X1238\"\\t\"X1239\"\\t\"X1240\"\\t\"X1241\"\\t\"X1242\"\\t\"X1243\"\\t\"X1244\"\\t\"X1245\"\\t\"X1246\"\\t\"X1247\"\\t\"X1248\"\\t\"X1249\"\\t\"X1250\"\\t\"X1251\"\\t\"X1252\"\\t\"X1253\"\\t\"X1254\"\\t\"X1255\"\\t\"X1256\"\\t\"X1257\"\\t\"X1258\"\\t\"X1259\"\\t\"X1260\"\\t\"X1261\"\\t\"X1262\"\\t\"X1263\"\\t\"X1264\"\\t\"X1265\"\\t\"X1266\"\\t\"X1267\"\\t\"X1268\"\\t\"X1269\"\\t\"X1270\"\\t\"X1271\"\\t\"X1272\"\\t\"X1273\"\\t\"X1274\"\\t\"X1275\"\\t\"X1276\"\\t\"X1277\"\\t\"X1278\"\\t\"X1279\"\\t\"X1280\"\\t\"X1281\"\\t\"X1282\"\\t\"X1283\"\\t\"X1284\"\\t\"X1285\"\\t\"X1286\"\\t\"X1287\"\\t\"X1288\"\\t\"X1289\"\\t\"X1290\"\\t\"X1291\"\\t\"X1292\"\\t\"X1293\"\\t\"X1294\"\\t\"X1295\"\\t\"X1296\"\\t\"X1297\"\\t\"X1298\"\\t\"X1299\"\\t\"X1300\"\\t\"X1301\"\\t\"X1302\"\\t\"X1303\"\\t\"X1304\"\\t\"X1305\"\\t\"X1306\"\\t\"X1307\"\\t\"X1308\"\\t\"X1309\"\\t\"X1310\"\\t\"X1311\"\\t\"X1312\"\\t\"X1313\"\\t\"X1314\"\\t\"X1315\"\\t\"X1316\"\\t\"X1317\"\\t\"X1318\"\\t\"X1319\"\\t\"X1320\"\\t\"X1321\"\\t\"X1322\"\\t\"X1323\"\\t\"X1324\"\\t\"X1325\"\\t\"X1326\"\\t\"X1327\"\\t\"X1328\"\\t\"X1329\"\\t\"X1330\"\\t\"X1331\"\\t\"X1332\"\\t\"X1333\"\\t\"X1334\"\\t\"X1335\"\\t\"X1336\"\\t\"X1337\"\\t\"X1338\"\\t\"X1339\"\\t\"X1340\"\\t\"X1341\"\\t\"X1342\"\\t\"X1343\"\\t\"X1344\"\\t\"X1345\"\\t\"X1346\"\\t\"X1347\"\\t\"X1348\"\\t\"X1349\"\\t\"X1350\"\\t\"X1351\"\\t\"X1352\"\\t\"X1353\"\\t\"X1354\"\\t\"X1355\"\\t\"X1356\"\\t\"X1357\"\\t\"X1358\"\\t\"X1359\"\\t\"X1360\"\\t\"X1361\"\\t\"X1362\"\\t\"X1363\"\\t\"X1364\"\\t\"X1365\"\\t\"X1366\"\\t\"X1367\"\\t\"X1368\"\\t\"X1369\"\\t\"X1370\"\\t\"X1371\"\\t\"X1372\"\\t\"X1373\"\\t\"X1374\"\\t\"X1375\"\\t\"X1376\"\\t\"X1377\"\\t\"X1378\"\\t\"X1379\"\\t\"X1380\"\\t\"X1381\"\\t\"X1382\"\\t\"X1383\"\\t\"X1384\"\\t\"X1385\"\\t\"X1386\"\\t\"X1387\"\\t\"X1388\"\\t\"X1389\"\\t\"X1390\"\\t\"X1391\"\\t\"X1392\"\\t\"X1393\"\\t\"X1394\"\\t\"X1395\"\\t\"X1396\"\\t\"X1397\"\\t\"X1398\"\\t\"X1399\"\\t\"X1400\"\\t\"X1401\"\\t\"X1402\"\\t\"X1403\"\\t\"X1404\"\\t\"X1405\"\\t\"X1406\"\\t\"X1407\"\\t\"X1408\"\\t\"X1409\"\\t\"X1410\"\\t\"X1411\"\\t\"X1412\"\\t\"X1413\"\\t\"X1414\"\\t\"X1415\"\\t\"X1416\"\\t\"X1417\"\\t\"X1418\"\\t\"X1419\"\\t\"X1420\"\\t\"X1421\"\\t\"X1422\"\\t\"X1423\"\\t\"X1424\"\\t\"X1425\"\\t\"X1426\"\\t\"X1427\"\\t\"X1428\"\\t\"X1429\"\\t\"X1430\"\\t\"X1431\"\\t\"X1432\"\\t\"X1433\"\\t\"X1434\"\\t\"X1435\"\\t\"X1436\"\\t\"X1437\"\\t\"X1438\"\\t\"X1439\"\\t\"X1440\"\\t\"X1441\"\\t\"X1442\"\\t\"X1443\"\\t\"X1444\"\\t\"X1445\"\\t\"X1446\"\\t\"X1447\"\\t\"X1448\"\\t\"X1449\"\\t\"X1450\"\\t\"X1451\"\\t\"X1452\"\\t\"X1453\"\\t\"X1454\"\\t\"X1455\"\\t\"X1456\"\\t\"X1457\"\\t\"X1458\"\\t\"X1459\"\\t\"X1460\"\\t\"X1461\"\\t\"X1462\"\\t\"X1463\"\\t\"X1464\"\\t\"X1465\"\\t\"X1466\"\\t\"X1467\"\\t\"X1468\"\\t\"X1469\"\\t\"X1470\"\\t\"X1471\"\\t\"X1472\"\\t\"X1473\"\\t\"X1474\"\\t\"X1475\"\\t\"X1476\"\\t\"X1477\"\\t\"X1478\"\\t\"X1479\"\\t\"X1480\"\\t\"X1481\"\\t\"X1482\"\\t\"X1483\"\\t\"X1484\"\\t\"X1485\"\\t\"X1486\"\\t\"X1487\"\\t\"X1488\"\\t\"X1489\"\\t\"X1490\"\\t\"X1491\"\\t\"X1492\"\\t\"X1493\"\\t\"X1494\"\\t\"X1495\"\\t\"X1496\"\\t\"X1497\"\\t\"X1498\"\\t\"X1499\"\\t\"X1500\"\\t\"X1501\"\\t\"X1502\"\\t\"X1503\"\\t\"X1504\"\\t\"X1505\"\\t\"X1506\"\\t\"X1507\"\\t\"X1508\"\\t\"X1509\"\\t\"X1510\"\\t\"X1511\"\\t\"X1512\"\\t\"X1513\"\\t\"X1514\"\\t\"X1515\"\\t\"X1516\"\\t\"X1517\"\\t\"X1518\"\\t\"X1519\"\\t\"X1520\"\\t\"X1521\"\\t\"X1522\"\\t\"X1523\"\\t\"X1524\"\\t\"X1525\"\\t\"X1526\"\\t\"X1527\"\\t\"X1528\"\\t\"X1529\"\\t\"X1530\"\\t\"X1531\"\\t\"X1532\"\\t\"X1533\"\\t\"X1534\"\\t\"X1535\"\\t\"X1536\"\\t\"X1537\"\\t\"X1538\"\\t\"X1539\"\\t\"X1540\"\\t\"X1541\"\\t\"X1542\"\\t\"X1543\"\\t\"X1544\"\\t\"X1545\"\\t\"X1546\"\\t\"X1547\"\\t\"X1548\"\\t\"X1549\"\\t\"X1550\"\\t\"X1551\"\\t\"X1552\"\\t\"X1553\"\\t\"X1554\"\\t\"X1555\"\\t\"X1556\"\\t\"X1557\"\\t\"X1558\"']\n",
      "2025-08-16 19:01:54,623 - INFO - Premières valeurs de la première colonne : ['2460\\t57\\t468\\t8.2105\\t\"1\"\\t\"0\"\\t\"0\"\\t\"0\"\\t\"0\"\\t\"0\"\\t\"0\"\\t\"0\"\\t\"0\"\\t\"0\"\\t\"0\"\\t\"0\"\\t\"0\"\\t\"0\"\\t\"0\"\\t\"0\"\\t\"0\"\\t\"0\"\\t\"0\"\\t\"0\"\\t\"0\"\\t\"0\"\\t\"0\"\\t\"0\"\\t\"0\"\\t\"0\"\\t\"0\"\\t\"0\"\\t\"0\"\\t\"0\"\\t\"0\"\\t\"0\"\\t\"0\"\\t\"0\"\\t\"0\"\\t\"0\"\\t\"0\"\\t\"0\"\\t\"0\"\\t\"0\"\\t\"0\"\\t\"0\"\\t\"0\"\\t\"0\"\\t\"0\"\\t\"0\"\\t\"0\"\\t\"0\"\\t\"0\"\\t\"0\"\\t\"0\"\\t\"0\"\\t\"0\"\\t\"0\"\\t\"0\"\\t\"0\"\\t\"0\"\\t\"0\"\\t\"0\"\\t\"0\"\\t\"0\"\\t\"0\"\\t\"0\"\\t\"0\"\\t\"0\"\\t\"0\"\\t\"0\"\\t\"0\"\\t\"0\"\\t\"0\"\\t\"0\"\\t\"0\"\\t\"0\"\\t\"0\"\\t\"0\"\\t\"0\"\\t\"0\"\\t\"0\"\\t\"0\"\\t\"0\"\\t\"0\"\\t\"0\"\\t\"0\"\\t\"0\"\\t\"0\"\\t\"0\"\\t\"0\"\\t\"0\"\\t\"0\"\\t\"0\"\\t\"0\"\\t\"0\"\\t\"1\"\\t\"0\"\\t\"0\"\\t\"0\"\\t\"0\"\\t\"0\"\\t\"0\"\\t\"0\"\\t\"0\"\\t\"0\"\\t\"0\"\\t\"0\"\\t\"0\"\\t\"0\"\\t\"0\"\\t\"0\"\\t\"0\"\\t\"0\"\\t\"0\"\\t\"0\"\\t\"0\"\\t\"0\"\\t\"0\"\\t\"0\"\\t\"0\"\\t\"0\"\\t\"0\"\\t\"0\"\\t\"0\"\\t\"0\"\\t\"0\"\\t\"0\"\\t\"0\"\\t\"0\"\\t\"0\"\\t\"0\"\\t\"0\"\\t\"0\"\\t\"0\"\\t\"0\"\\t\"0\"\\t\"0\"\\t\"0\"\\t\"0\"\\t\"0\"\\t\"0\"\\t\"0\"\\t\"0\"\\t\"0\"\\t\"0\"\\t\"0\"\\t\"0\"\\t\"0\"\\t\"0\"\\t\"0\"\\t\"0\"\\t\"0\"\\t\"0\"\\t\"0\"\\t\"0\"\\t\"0\"\\t\"0\"\\t\"0\"\\t\"0\"\\t\"0\"\\t\"0\"\\t\"0\"\\t\"0\"\\t\"0\"\\t\"0\"\\t\"0\"\\t\"0\"\\t\"0\"\\t\"0\"\\t\"0\"\\t\"0\"\\t\"0\"\\t\"0\"\\t\"0\"\\t\"0\"\\t\"0\"\\t\"0\"\\t\"0\"\\t\"0\"\\t\"0\"\\t\"0\"\\t\"0\"\\t\"0\"\\t\"0\"\\t\"0\"\\t\"0\"\\t\"0\"\\t\"0\"\\t\"0\"\\t\"0\"\\t\"0\"\\t\"0\"\\t\"0\"\\t\"0\"\\t\"0\"\\t\"0\"\\t\"0\"\\t\"0\"\\t\"0\"\\t\"0\"\\t\"0\"\\t\"0\"\\t\"0\"\\t\"0\"\\t\"0\"\\t\"0\"\\t\"0\"\\t\"0\"\\t\"0\"\\t\"0\"\\t\"0\"\\t\"0\"\\t\"0\"\\t\"0\"\\t\"0\"\\t\"0\"\\t\"0\"\\t\"0\"\\t\"0\"\\t\"0\"\\t\"0\"\\t\"0\"\\t\"0\"\\t\"0\"\\t\"0\"\\t\"0\"\\t\"0\"\\t\"0\"\\t\"0\"\\t\"0\"\\t\"0\"\\t\"0\"\\t\"0\"\\t\"0\"\\t\"0\"\\t\"0\"\\t\"0\"\\t\"0\"\\t\"0\"\\t\"0\"\\t\"0\"\\t\"0\"\\t\"0\"\\t\"0\"\\t\"0\"\\t\"0\"\\t\"0\"\\t\"0\"\\t\"0\"\\t\"0\"\\t\"0\"\\t\"0\"\\t\"0\"\\t\"0\"\\t\"0\"\\t\"0\"\\t\"0\"\\t\"0\"\\t\"0\"\\t\"0\"\\t\"0\"\\t\"0\"\\t\"0\"\\t\"0\"\\t\"0\"\\t\"0\"\\t\"0\"\\t\"0\"\\t\"0\"\\t\"1\"\\t\"0\"\\t\"0\"\\t\"0\"\\t\"0\"\\t\"0\"\\t\"0\"\\t\"0\"\\t\"0\"\\t\"1\"\\t\"0\"\\t\"0\"\\t\"0\"\\t\"0\"\\t\"0\"\\t\"0\"\\t\"0\"\\t\"0\"\\t\"0\"\\t\"0\"\\t\"0\"\\t\"0\"\\t\"0\"\\t\"0\"\\t\"0\"\\t\"0\"\\t\"0\"\\t\"0\"\\t\"0\"\\t\"0\"\\t\"0\"\\t\"0\"\\t\"0\"\\t\"0\"\\t\"0\"\\t\"0\"\\t\"0\"\\t\"0\"\\t\"0\"\\t\"0\"\\t\"0\"\\t\"0\"\\t\"0\"\\t\"0\"\\t\"0\"\\t\"0\"\\t\"0\"\\t\"0\"\\t\"0\"\\t\"0\"\\t\"0\"\\t\"0\"\\t\"0\"\\t\"0\"\\t\"0\"\\t\"0\"\\t\"0\"\\t\"0\"\\t\"0\"\\t\"0\"\\t\"0\"\\t\"0\"\\t\"0\"\\t\"0\"\\t\"0\"\\t\"0\"\\t\"0\"\\t\"0\"\\t\"0\"\\t\"0\"\\t\"0\"\\t\"0\"\\t\"0\"\\t\"0\"\\t\"0\"\\t\"0\"\\t\"0\"\\t\"0\"\\t\"0\"\\t\"0\"\\t\"0\"\\t\"0\"\\t\"0\"\\t\"0\"\\t\"0\"\\t\"0\"\\t\"0\"\\t\"0\"\\t\"0\"\\t\"0\"\\t\"0\"\\t\"0\"\\t\"0\"\\t\"0\"\\t\"0\"\\t\"0\"\\t\"0\"\\t\"0\"\\t\"0\"\\t\"0\"\\t\"0\"\\t\"0\"\\t\"0\"\\t\"0\"\\t\"0\"\\t\"0\"\\t\"0\"\\t\"0\"\\t\"0\"\\t\"0\"\\t\"0\"\\t\"0\"\\t\"0\"\\t\"0\"\\t\"0\"\\t\"0\"\\t\"0\"\\t\"0\"\\t\"0\"\\t\"0\"\\t\"0\"\\t\"0\"\\t\"0\"\\t\"0\"\\t\"0\"\\t\"0\"\\t\"0\"\\t\"0\"\\t\"0\"\\t\"1\"\\t\"0\"\\t\"0\"\\t\"0\"\\t\"0\"\\t\"0\"\\t\"0\"\\t\"0\"\\t\"0\"\\t\"0\"\\t\"0\"\\t\"0\"\\t\"0\"\\t\"0\"\\t\"0\"\\t\"0\"\\t\"0\"\\t\"0\"\\t\"0\"\\t\"0\"\\t\"0\"\\t\"0\"\\t\"0\"\\t\"0\"\\t\"0\"\\t\"0\"\\t\"0\"\\t\"0\"\\t\"0\"\\t\"0\"\\t\"0\"\\t\"0\"\\t\"0\"\\t\"0\"\\t\"0\"\\t\"0\"\\t\"0\"\\t\"0\"\\t\"0\"\\t\"0\"\\t\"0\"\\t\"0\"\\t\"0\"\\t\"0\"\\t\"0\"\\t\"0\"\\t\"0\"\\t\"0\"\\t\"0\"\\t\"0\"\\t\"0\"\\t\"0\"\\t\"0\"\\t\"0\"\\t\"0\"\\t\"0\"\\t\"0\"\\t\"0\"\\t\"0\"\\t\"0\"\\t\"0\"\\t\"0\"\\t\"0\"\\t\"0\"\\t\"0\"\\t\"0\"\\t\"0\"\\t\"0\"\\t\"0\"\\t\"0\"\\t\"0\"\\t\"0\"\\t\"0\"\\t\"0\"\\t\"0\"\\t\"0\"\\t\"0\"\\t\"0\"\\t\"0\"\\t\"0\"\\t\"0\"\\t\"0\"\\t\"0\"\\t\"0\"\\t\"0\"\\t\"0\"\\t\"0\"\\t\"0\"\\t\"0\"\\t\"0\"\\t\"0\"\\t\"0\"\\t\"0\"\\t\"0\"\\t\"0\"\\t\"0\"\\t\"0\"\\t\"0\"\\t\"0\"\\t\"0\"\\t\"0\"\\t\"0\"\\t\"0\"\\t\"0\"\\t\"0\"\\t\"0\"\\t\"0\"\\t\"0\"\\t\"0\"\\t\"0\"\\t\"0\"\\t\"0\"\\t\"0\"\\t\"0\"\\t\"0\"\\t\"0\"\\t\"0\"\\t\"0\"\\t\"0\"\\t\"0\"\\t\"0\"\\t\"0\"\\t\"0\"\\t\"0\"\\t\"0\"\\t\"0\"\\t\"0\"\\t\"0\"\\t\"0\"\\t\"0\"\\t\"0\"\\t\"0\"\\t\"0\"\\t\"0\"\\t\"0\"\\t\"0\"\\t\"0\"\\t\"0\"\\t\"0\"\\t\"0\"\\t\"0\"\\t\"0\"\\t\"0\"\\t\"0\"\\t\"0\"\\t\"0\"\\t\"0\"\\t\"0\"\\t\"0\"\\t\"0\"\\t\"0\"\\t\"0\"\\t\"0\"\\t\"0\"\\t\"0\"\\t\"0\"\\t\"0\"\\t\"0\"\\t\"0\"\\t\"0\"\\t\"0\"\\t\"0\"\\t\"0\"\\t\"0\"\\t\"0\"\\t\"0\"\\t\"0\"\\t\"0\"\\t\"0\"\\t\"0\"\\t\"0\"\\t\"0\"\\t\"0\"\\t\"0\"\\t\"0\"\\t\"0\"\\t\"0\"\\t\"0\"\\t\"0\"\\t\"0\"\\t\"0\"\\t\"0\"\\t\"0\"\\t\"0\"\\t\"0\"\\t\"0\"\\t\"0\"\\t\"0\"\\t\"0\"\\t\"0\"\\t\"0\"\\t\"0\"\\t\"0\"\\t\"0\"\\t\"0\"\\t\"0\"\\t\"0\"\\t\"0\"\\t\"0\"\\t\"0\"\\t\"0\"\\t\"0\"\\t\"0\"\\t\"0\"\\t\"0\"\\t\"0\"\\t\"0\"\\t\"0\"\\t\"0\"\\t\"0\"\\t\"0\"\\t\"0\"\\t\"0\"\\t\"0\"\\t\"0\"\\t\"0\"\\t\"0\"\\t\"0\"\\t\"0\"\\t\"0\"\\t\"0\"\\t\"0\"\\t\"0\"\\t\"0\"\\t\"0\"\\t\"0\"\\t\"0\"\\t\"0\"\\t\"0\"\\t\"0\"\\t\"0\"\\t\"0\"\\t\"0\"\\t\"0\"\\t\"0\"\\t\"0\"\\t\"0\"\\t\"0\"\\t\"0\"\\t\"0\"\\t\"0\"\\t\"0\"\\t\"0\"\\t\"0\"\\t\"0\"\\t\"0\"\\t\"0\"\\t\"0\"\\t\"0\"\\t\"0\"\\t\"0\"\\t\"0\"\\t\"0\"\\t\"0\"\\t\"0\"\\t\"0\"\\t\"0\"\\t\"0\"\\t\"0\"\\t\"0\"\\t\"0\"\\t\"0\"\\t\"0\"\\t\"0\"\\t\"0\"\\t\"0\"\\t\"0\"\\t\"0\"\\t\"0\"\\t\"0\"\\t\"0\"\\t\"0\"\\t\"0\"\\t\"0\"\\t\"0\"\\t\"0\"\\t\"0\"\\t\"0\"\\t\"0\"\\t\"0\"\\t\"0\"\\t\"0\"\\t\"0\"\\t\"0\"\\t\"0\"\\t\"0\"\\t\"0\"\\t\"0\"\\t\"0\"\\t\"0\"\\t\"0\"\\t\"0\"\\t\"0\"\\t\"0\"\\t\"0\"\\t\"0\"\\t\"0\"\\t\"0\"\\t\"0\"\\t\"0\"\\t\"0\"\\t\"0\"\\t\"0\"\\t\"0\"\\t\"0\"\\t\"0\"\\t\"0\"\\t\"0\"\\t\"0\"\\t\"0\"\\t\"0\"\\t\"0\"\\t\"0\"\\t\"0\"\\t\"0\"\\t\"0\"\\t\"0\"\\t\"0\"\\t\"0\"\\t\"0\"\\t\"0\"\\t\"0\"\\t\"0\"\\t\"0\"\\t\"0\"\\t\"0\"\\t\"0\"\\t\"0\"\\t\"0\"\\t\"0\"\\t\"0\"\\t\"0\"\\t\"0\"\\t\"0\"\\t\"0\"\\t\"0\"\\t\"0\"\\t\"0\"\\t\"0\"\\t\"0\"\\t\"0\"\\t\"0\"\\t\"0\"\\t\"0\"\\t\"0\"\\t\"0\"\\t\"0\"\\t\"0\"\\t\"0\"\\t\"0\"\\t\"0\"\\t\"0\"\\t\"0\"\\t\"0\"\\t\"0\"\\t\"0\"\\t\"0\"\\t\"0\"\\t\"0\"\\t\"0\"\\t\"0\"\\t\"0\"\\t\"0\"\\t\"0\"\\t\"0\"\\t\"0\"\\t\"0\"\\t\"0\"\\t\"0\"\\t\"0\"\\t\"0\"\\t\"0\"\\t\"0\"\\t\"0\"\\t\"0\"\\t\"0\"\\t\"0\"\\t\"0\"\\t\"0\"\\t\"0\"\\t\"0\"\\t\"0\"\\t\"0\"\\t\"0\"\\t\"0\"\\t\"0\"\\t\"0\"\\t\"0\"\\t\"0\"\\t\"0\"\\t\"0\"\\t\"0\"\\t\"0\"\\t\"0\"\\t\"0\"\\t\"0\"\\t\"0\"\\t\"0\"\\t\"0\"\\t\"0\"\\t\"0\"\\t\"0\"\\t\"0\"\\t\"0\"\\t\"0\"\\t\"0\"\\t\"0\"\\t\"0\"\\t\"0\"\\t\"0\"\\t\"0\"\\t\"0\"\\t\"0\"\\t\"0\"\\t\"0\"\\t\"0\"\\t\"0\"\\t\"0\"\\t\"0\"\\t\"0\"\\t\"0\"\\t\"0\"\\t\"0\"\\t\"0\"\\t\"0\"\\t\"0\"\\t\"0\"\\t\"0\"\\t\"0\"\\t\"0\"\\t\"0\"\\t\"0\"\\t\"0\"\\t\"0\"\\t\"0\"\\t\"0\"\\t\"0\"\\t\"0\"\\t\"0\"\\t\"0\"\\t\"0\"\\t\"0\"\\t\"0\"\\t\"0\"\\t\"0\"\\t\"0\"\\t\"0\"\\t\"0\"\\t\"0\"\\t\"0\"\\t\"0\"\\t\"0\"\\t\"0\"\\t\"0\"\\t\"0\"\\t\"0\"\\t\"0\"\\t\"0\"\\t\"0\"\\t\"0\"\\t\"0\"\\t\"0\"\\t\"0\"\\t\"0\"\\t\"0\"\\t\"0\"\\t\"0\"\\t\"0\"\\t\"0\"\\t\"0\"\\t\"0\"\\t\"0\"\\t\"0\"\\t\"0\"\\t\"0\"\\t\"0\"\\t\"0\"\\t\"0\"\\t\"0\"\\t\"0\"\\t\"0\"\\t\"0\"\\t\"0\"\\t\"0\"\\t\"0\"\\t\"0\"\\t\"0\"\\t\"0\"\\t\"0\"\\t\"0\"\\t\"0\"\\t\"0\"\\t\"0\"\\t\"0\"\\t\"0\"\\t\"0\"\\t\"0\"\\t\"0\"\\t\"0\"\\t\"0\"\\t\"0\"\\t\"0\"\\t\"0\"\\t\"0\"\\t\"0\"\\t\"0\"\\t\"0\"\\t\"0\"\\t\"0\"\\t\"0\"\\t\"0\"\\t\"0\"\\t\"0\"\\t\"0\"\\t\"0\"\\t\"0\"\\t\"0\"\\t\"0\"\\t\"0\"\\t\"0\"\\t\"0\"\\t\"0\"\\t\"0\"\\t\"0\"\\t\"0\"\\t\"0\"\\t\"0\"\\t\"0\"\\t\"0\"\\t\"0\"\\t\"0\"\\t\"0\"\\t\"0\"\\t\"0\"\\t\"0\"\\t\"0\"\\t\"0\"\\t\"0\"\\t\"0\"\\t\"0\"\\t\"0\"\\t\"0\"\\t\"0\"\\t\"0\"\\t\"0\"\\t\"0\"\\t\"0\"\\t\"0\"\\t\"0\"\\t\"0\"\\t\"1\"\\t\"0\"\\t\"0\"\\t\"0\"\\t\"0\"\\t\"0\"\\t\"0\"\\t\"0\"\\t\"0\"\\t\"0\"\\t\"0\"\\t\"0\"\\t\"0\"\\t\"0\"\\t\"0\"\\t\"0\"\\t\"0\"\\t\"0\"\\t\"0\"\\t\"0\"\\t\"0\"\\t\"0\"\\t\"0\"\\t\"0\"\\t\"0\"\\t\"0\"\\t\"0\"\\t\"0\"\\t\"0\"\\t\"0\"\\t\"0\"\\t\"0\"\\t\"0\"\\t\"0\"\\t\"0\"\\t\"0\"\\t\"0\"\\t\"0\"\\t\"0\"\\t\"1\"\\t\"0\"\\t\"0\"\\t\"0\"\\t\"0\"\\t\"0\"\\t\"0\"\\t\"0\"\\t\"0\"\\t\"0\"\\t\"0\"\\t\"0\"\\t\"0\"\\t\"0\"\\t\"0\"\\t\"0\"\\t\"0\"\\t\"0\"\\t\"0\"\\t\"0\"\\t\"0\"\\t\"0\"\\t\"0\"\\t\"0\"\\t\"0\"\\t\"0\"\\t\"0\"\\t\"0\"\\t\"0\"\\t\"0\"\\t\"0\"\\t\"0\"\\t\"0\"\\t\"0\"\\t\"0\"\\t\"0\"\\t\"0\"\\t\"0\"\\t\"0\"\\t\"0\"\\t\"0\"\\t\"0\"\\t\"0\"\\t\"0\"\\t\"0\"\\t\"0\"\\t\"0\"\\t\"0\"\\t\"0\"\\t\"0\"\\t\"0\"\\t\"0\"\\t\"0\"\\t\"0\"\\t\"0\"\\t\"0\"\\t\"0\"\\t\"0\"\\t\"0\"\\t\"0\"\\t\"0\"\\t\"0\"\\t\"0\"\\t\"0\"\\t\"0\"\\t\"0\"\\t\"0\"\\t\"1\"\\t\"0\"\\t\"0\"\\t\"0\"\\t\"0\"\\t\"0\"\\t\"0\"\\t\"0\"\\t\"0\"\\t\"0\"\\t\"0\"\\t\"0\"\\t\"0\"\\t\"0\"\\t\"0\"\\t\"0\"\\t\"0\"\\t\"0\"\\t\"0\"\\t\"0\"\\t\"0\"\\t\"0\"\\t\"0\"\\t\"0\"\\t\"0\"\\t\"0\"\\t\"0\"\\t\"0\"\\t\"0\"\\t\"0\"\\t\"0\"\\t\"0\"\\t\"0\"\\t\"0\"\\t\"0\"\\t\"0\"\\t\"0\"\\t\"0\"\\t\"0\"\\t\"0\"\\t\"0\"\\t\"0\"\\t\"0\"\\t\"0\"\\t\"0\"\\t\"0\"\\t\"0\"\\t\"0\"\\t\"0\"\\t\"0\"\\t\"0\"\\t\"0\"\\t\"0\"\\t\"0\"\\t\"0\"\\t\"0\"\\t\"0\"\\t\"0\"\\t\"0\"\\t\"0\"\\t\"0\"\\t\"0\"\\t\"0\"\\t\"0\"\\t\"0\"\\t\"0\"\\t\"0\"\\t\"0\"\\t\"0\"\\t\"0\"\\t\"0\"\\t\"0\"\\t\"0\"\\t\"0\"\\t\"0\"\\t\"0\"\\t\"0\"\\t\"0\"\\t\"0\"\\t\"0\"\\t\"0\"\\t\"0\"\\t\"0\"\\t\"0\"\\t\"0\"\\t\"0\"\\t\"0\"\\t\"0\"\\t\"0\"\\t\"0\"\\t\"0\"\\t\"0\"\\t\"0\"\\t\"0\"\\t\"0\"\\t\"0\"\\t\"0\"\\t\"0\"\\t\"0\"\\t\"0\"\\t\"0\"\\t\"0\"\\t\"0\"\\t\"0\"\\t\"0\"\\t\"0\"\\t\"0\"\\t\"0\"\\t\"0\"\\t\"0\"\\t\"0\"\\t\"0\"\\t\"0\"\\t\"0\"\\t\"0\"\\t\"0\"\\t\"0\"\\t\"0\"\\t\"0\"\\t\"0\"\\t\"0\"\\t\"0\"\\t\"0\"\\t\"0\"\\t\"0\"\\t\"0\"\\t\"0\"\\t\"0\"\\t\"0\"\\t\"0\"\\t\"0\"\\t\"0\"\\t\"0\"\\t\"0\"\\t\"0\"\\t\"0\"\\t\"0\"\\t\"0\"\\t\"0\"\\t\"0\"\\t\"0\"\\t\"0\"\\t\"0\"\\t\"0\"\\t\"0\"\\t\"0\"\\t\"0\"\\t\"0\"\\t\"0\"\\t\"0\"\\t\"0\"\\t\"0\"\\t\"0\"\\t\"0\"\\t\"0\"\\t\"0\"\\t\"0\"\\t\"0\"\\t\"0\"\\t\"0\"\\t\"0\"\\t\"0\"\\t\"0\"\\t\"0\"\\t\"0\"\\t\"0\"\\t\"0\"\\t\"0\"\\t\"0\"\\t\"0\"\\t\"0\"\\t\"0\"\\t\"0\"\\t\"0\"\\t\"0\"\\t\"0\"\\t\"0\"\\t\"0\"\\t\"1\"\\t\"0\"\\t\"0\"\\t\"0\"\\t\"0\"\\t\"0\"\\t\"0\"\\t\"0\"\\t\"0\"\\t\"0\"\\t\"0\"\\t\"1\"\\t\"0\"\\t\"0\"\\t\"0\"\\t\"0\"\\t\"0\"\\t\"0\"\\t\"0\"\\t\"0\"\\t\"0\"\\t\"0\"\\t\"0\"\\t\"0\"\\t\"0\"\\t\"0\"\\t\"0\"\\t\"0\"\\t\"0\"\\t\"0\"\\t\"0\"\\t\"0\"\\t\"0\"\\t\"0\"\\t\"0\"\\t\"0\"\\t\"0\"\\t\"0\"\\t\"0\"\\t\"0\"\\t\"0\"\\t\"0\"\\t\"0\"\\t\"0\"\\t\"0\"\\t\"0\"\\t\"0\"\\t\"0\"\\t\"0\"\\t\"0\"\\t\"0\"\\t\"0\"\\t\"0\"\\t\"0\"\\t\"0\"\\t\"0\"\\t\"0\"\\t\"0\"\\t\"0\"\\t\"0\"\\t\"0\"\\t\"0\"\\t\"0\"\\t\"0\"\\t\"0\"\\t\"0\"\\t\"0\"\\t\"0\"\\t\"0\"\\t\"0\"\\t\"0\"\\t\"0\"\\t\"0\"\\t\"0\"\\t\"0\"\\t\"0\"\\t\"0\"\\t\"0\"\\t\"0\"\\t\"0\"\\t\"0\"\\t\"0\"\\t\"0\"\\t\"0\"\\t\"0\"\\t\"0\"\\t\"0\"\\t\"0\"\\t\"0\"\\t\"0\"\\t\"0\"\\t\"0\"\\t\"0\"\\t\"0\"\\t\"0\"\\t\"0\"\\t\"0\"\\t\"0\"\\t\"0\"\\t\"0\"\\t\"0\"\\t\"0\"\\t\"0\"\\t\"0\"\\t\"0\"\\t\"0\"\\t\"0\"\\t\"0\"\\t\"0\"\\t\"0\"\\t\"0\"\\t\"0\"\\t\"0\"\\t\"0\"\\t\"0\"\\t\"0\"\\t\"0\"\\t\"0\"\\t\"0\"\\t\"0\"\\t\"0\"\\t\"0\"\\t\"0\"\\t\"0\"\\t\"0\"\\t\"0\"\\t\"0\"\\t\"0\"\\t\"0\"\\t\"0\"\\t\"0\"\\t\"0\"\\t\"0\"\\t\"0\"\\t\"0\"\\t\"0\"\\t\"0\"\\t\"0\"\\t\"0\"\\t\"0\"\\t\"0\"\\t\"0\"\\t\"0\"\\t\"0\"\\t\"0\"\\t\"0\"\\t\"0\"\\t\"0\"\\t\"0\"\\t\"0\"\\t\"0\"\\t\"0\"\\t\"0\"\\t\"0\"\\t\"0\"\\t\"0\"\\t\"0\"\\t\"0\"\\t\"0\"\\t\"0\"\\t\"0\"\\t\"0\"\\t\"0\"\\t\"0\"\\t\"0\"\\t\"0\"\\t\"0\"\\t\"0\"\\t\"0\"\\t\"0\"\\t\"0\"\\t\"0\"\\t\"0\"\\t\"0\"\\t\"0\"\\t\"0\"\\t\"0\"\\t\"0\"\\t\"0\"\\t\"0\"\\t\"0\"\\t\"0\"\\t\"0\"\\t\"0\"\\t\"0\"\\t\"0\"\\t\"0\"\\t\"0\"\\t\"0\"\\t\"0\"\\t\"0\"\\t\"0\"\\t\"0\"\\t\"0\"\\t\"0\"\\t\"0\"\\t\"0\"\\t\"0\"\\t\"0\"\\t\"0\"\\t\"0\"\\t\"0\"\\t\"0\"\\t\"0\"\\t\"0\"\\t\"0\"\\t\"0\"\\t\"0\"\\t\"0\"\\t\"0\"\\t\"0\"\\t\"0\"\\t\"0\"\\t\"0\"\\t\"0\"\\t\"0\"\\t\"0\"\\t\"0\"\\t\"0\"\\t\"0\"\\t\"0\"\\t\"0\"\\t\"0\"\\t\"0\"\\t\"0\"\\t\"0\"\\t\"0\"\\t\"0\"\\t\"0\"\\t\"0\"\\t\"0\"\\t\"0\"\\t\"0\"\\t\"0\"\\t\"0\"\\t\"0\"\\t\"0\"\\t\"0\"\\t\"0\"\\t\"0\"\\t\"0\"\\t\"0\"\\t\"0\"\\t\"0\"\\t\"0\"\\t\"0\"\\t\"0\"\\t\"0\"\\t\"0\"\\t\"0\"\\t\"0\"\\t\"0\"\\t\"0\"\\t\"1\"\\t\"0\"\\t\"0\"\\t\"0\"\\t\"0\"\\t\"0\"\\t\"0\"\\t\"0\"\\t\"0\"\\t\"0\"\\t\"0\"\\t\"0\"\\t\"0\"\\t\"0\"\\t\"0\"\\t\"0\"\\t\"0\"\\t\"0\"\\t\"0\"\\t\"0\"\\t\"0\"\\t\"0\"\\t\"0\"\\t\"0\"\\t\"0\"\\t\"0\"\\t\"0\"\\t\"0\"\\t\"0\"\\t\"0\"\\t\"0\"\\t\"0\"\\t\"0\"\\t\"0\"\\t\"0\"\\t\"0\"\\t\"0\"\\t\"0\"\\t\"0\"\\t\"0\"\\t\"0\"\\t\"0\"\\t\"0\"\\t\"0\"\\t\"0\"\\t\"0\"\\t\"0\"\\t\"0\"\\t\"0\"\\t\"0\"\\t\"0\"\\t\"0\"\\t\"0\"\\t\"0\"\\t\"0\"\\t\"0\"\\t\"0\"\\t\"0\"\\t\"0\"\\t\"0\"\\t\"0\"\\t\"0\"\\t\"0\"\\t\"0\"\\t\"0\"\\t\"0\"\\t\"0\"\\t\"0\"\\t\"0\"\\t\"0\"\\t\"0\"\\t\"0\"\\t\"0\"', '2461\\t60\\t468\\t7.8\\t\"1\"\\t\"0\"\\t\"0\"\\t\"0\"\\t\"0\"\\t\"0\"\\t\"0\"\\t\"0\"\\t\"0\"\\t\"0\"\\t\"0\"\\t\"0\"\\t\"0\"\\t\"0\"\\t\"0\"\\t\"0\"\\t\"0\"\\t\"0\"\\t\"0\"\\t\"0\"\\t\"0\"\\t\"0\"\\t\"0\"\\t\"0\"\\t\"0\"\\t\"0\"\\t\"0\"\\t\"0\"\\t\"0\"\\t\"0\"\\t\"0\"\\t\"0\"\\t\"0\"\\t\"0\"\\t\"0\"\\t\"0\"\\t\"0\"\\t\"0\"\\t\"0\"\\t\"0\"\\t\"0\"\\t\"0\"\\t\"0\"\\t\"0\"\\t\"0\"\\t\"0\"\\t\"1\"\\t\"0\"\\t\"0\"\\t\"0\"\\t\"0\"\\t\"0\"\\t\"0\"\\t\"0\"\\t\"0\"\\t\"0\"\\t\"0\"\\t\"0\"\\t\"0\"\\t\"0\"\\t\"0\"\\t\"0\"\\t\"0\"\\t\"0\"\\t\"0\"\\t\"0\"\\t\"0\"\\t\"0\"\\t\"0\"\\t\"0\"\\t\"0\"\\t\"0\"\\t\"0\"\\t\"0\"\\t\"0\"\\t\"0\"\\t\"0\"\\t\"0\"\\t\"0\"\\t\"0\"\\t\"0\"\\t\"0\"\\t\"0\"\\t\"0\"\\t\"0\"\\t\"0\"\\t\"0\"\\t\"0\"\\t\"0\"\\t\"0\"\\t\"0\"\\t\"0\"\\t\"0\"\\t\"0\"\\t\"0\"\\t\"0\"\\t\"0\"\\t\"0\"\\t\"0\"\\t\"0\"\\t\"0\"\\t\"0\"\\t\"0\"\\t\"0\"\\t\"0\"\\t\"0\"\\t\"0\"\\t\"0\"\\t\"0\"\\t\"0\"\\t\"0\"\\t\"0\"\\t\"0\"\\t\"0\"\\t\"0\"\\t\"0\"\\t\"0\"\\t\"0\"\\t\"0\"\\t\"0\"\\t\"0\"\\t\"0\"\\t\"0\"\\t\"0\"\\t\"0\"\\t\"0\"\\t\"0\"\\t\"0\"\\t\"0\"\\t\"0\"\\t\"0\"\\t\"0\"\\t\"0\"\\t\"0\"\\t\"0\"\\t\"0\"\\t\"0\"\\t\"0\"\\t\"0\"\\t\"0\"\\t\"0\"\\t\"0\"\\t\"0\"\\t\"0\"\\t\"0\"\\t\"0\"\\t\"0\"\\t\"0\"\\t\"0\"\\t\"0\"\\t\"0\"\\t\"0\"\\t\"0\"\\t\"0\"\\t\"0\"\\t\"0\"\\t\"0\"\\t\"0\"\\t\"0\"\\t\"0\"\\t\"0\"\\t\"0\"\\t\"0\"\\t\"0\"\\t\"0\"\\t\"0\"\\t\"0\"\\t\"0\"\\t\"0\"\\t\"0\"\\t\"0\"\\t\"0\"\\t\"0\"\\t\"0\"\\t\"0\"\\t\"0\"\\t\"0\"\\t\"0\"\\t\"0\"\\t\"0\"\\t\"0\"\\t\"0\"\\t\"0\"\\t\"0\"\\t\"1\"\\t\"0\"\\t\"0\"\\t\"0\"\\t\"0\"\\t\"0\"\\t\"0\"\\t\"0\"\\t\"0\"\\t\"0\"\\t\"0\"\\t\"0\"\\t\"0\"\\t\"0\"\\t\"0\"\\t\"0\"\\t\"0\"\\t\"0\"\\t\"0\"\\t\"0\"\\t\"0\"\\t\"0\"\\t\"0\"\\t\"0\"\\t\"0\"\\t\"0\"\\t\"0\"\\t\"0\"\\t\"0\"\\t\"0\"\\t\"0\"\\t\"0\"\\t\"0\"\\t\"0\"\\t\"0\"\\t\"0\"\\t\"0\"\\t\"0\"\\t\"0\"\\t\"0\"\\t\"0\"\\t\"0\"\\t\"0\"\\t\"0\"\\t\"0\"\\t\"0\"\\t\"0\"\\t\"0\"\\t\"0\"\\t\"0\"\\t\"0\"\\t\"0\"\\t\"0\"\\t\"0\"\\t\"0\"\\t\"0\"\\t\"0\"\\t\"0\"\\t\"0\"\\t\"0\"\\t\"0\"\\t\"0\"\\t\"0\"\\t\"0\"\\t\"0\"\\t\"0\"\\t\"0\"\\t\"0\"\\t\"0\"\\t\"0\"\\t\"0\"\\t\"0\"\\t\"0\"\\t\"0\"\\t\"0\"\\t\"0\"\\t\"0\"\\t\"0\"\\t\"0\"\\t\"0\"\\t\"0\"\\t\"0\"\\t\"0\"\\t\"0\"\\t\"0\"\\t\"0\"\\t\"0\"\\t\"0\"\\t\"0\"\\t\"0\"\\t\"0\"\\t\"0\"\\t\"0\"\\t\"0\"\\t\"0\"\\t\"0\"\\t\"0\"\\t\"0\"\\t\"0\"\\t\"0\"\\t\"0\"\\t\"0\"\\t\"0\"\\t\"0\"\\t\"0\"\\t\"0\"\\t\"0\"\\t\"0\"\\t\"0\"\\t\"0\"\\t\"0\"\\t\"0\"\\t\"0\"\\t\"0\"\\t\"0\"\\t\"0\"\\t\"0\"\\t\"0\"\\t\"0\"\\t\"0\"\\t\"0\"\\t\"0\"\\t\"0\"\\t\"1\"\\t\"0\"\\t\"0\"\\t\"0\"\\t\"0\"\\t\"0\"\\t\"0\"\\t\"0\"\\t\"0\"\\t\"0\"\\t\"0\"\\t\"0\"\\t\"0\"\\t\"0\"\\t\"0\"\\t\"0\"\\t\"0\"\\t\"0\"\\t\"0\"\\t\"0\"\\t\"0\"\\t\"0\"\\t\"0\"\\t\"0\"\\t\"0\"\\t\"0\"\\t\"0\"\\t\"0\"\\t\"0\"\\t\"0\"\\t\"0\"\\t\"0\"\\t\"0\"\\t\"0\"\\t\"0\"\\t\"0\"\\t\"0\"\\t\"0\"\\t\"0\"\\t\"0\"\\t\"1\"\\t\"0\"\\t\"0\"\\t\"0\"\\t\"0\"\\t\"0\"\\t\"0\"\\t\"0\"\\t\"0\"\\t\"0\"\\t\"0\"\\t\"0\"\\t\"0\"\\t\"0\"\\t\"0\"\\t\"0\"\\t\"0\"\\t\"1\"\\t\"0\"\\t\"0\"\\t\"0\"\\t\"0\"\\t\"0\"\\t\"0\"\\t\"0\"\\t\"0\"\\t\"0\"\\t\"0\"\\t\"0\"\\t\"0\"\\t\"0\"\\t\"1\"\\t\"0\"\\t\"0\"\\t\"0\"\\t\"0\"\\t\"0\"\\t\"0\"\\t\"0\"\\t\"0\"\\t\"0\"\\t\"0\"\\t\"0\"\\t\"0\"\\t\"0\"\\t\"0\"\\t\"0\"\\t\"0\"\\t\"0\"\\t\"0\"\\t\"0\"\\t\"0\"\\t\"0\"\\t\"0\"\\t\"0\"\\t\"1\"\\t\"0\"\\t\"0\"\\t\"0\"\\t\"0\"\\t\"0\"\\t\"0\"\\t\"0\"\\t\"0\"\\t\"0\"\\t\"0\"\\t\"0\"\\t\"0\"\\t\"0\"\\t\"0\"\\t\"0\"\\t\"0\"\\t\"0\"\\t\"0\"\\t\"0\"\\t\"0\"\\t\"0\"\\t\"0\"\\t\"0\"\\t\"0\"\\t\"0\"\\t\"0\"\\t\"0\"\\t\"0\"\\t\"0\"\\t\"0\"\\t\"0\"\\t\"0\"\\t\"0\"\\t\"0\"\\t\"0\"\\t\"0\"\\t\"0\"\\t\"0\"\\t\"0\"\\t\"0\"\\t\"0\"\\t\"0\"\\t\"0\"\\t\"0\"\\t\"0\"\\t\"0\"\\t\"0\"\\t\"0\"\\t\"0\"\\t\"0\"\\t\"0\"\\t\"0\"\\t\"0\"\\t\"0\"\\t\"0\"\\t\"0\"\\t\"0\"\\t\"0\"\\t\"0\"\\t\"1\"\\t\"0\"\\t\"0\"\\t\"0\"\\t\"0\"\\t\"1\"\\t\"0\"\\t\"0\"\\t\"0\"\\t\"0\"\\t\"0\"\\t\"0\"\\t\"0\"\\t\"0\"\\t\"0\"\\t\"0\"\\t\"0\"\\t\"0\"\\t\"0\"\\t\"0\"\\t\"0\"\\t\"0\"\\t\"0\"\\t\"0\"\\t\"0\"\\t\"0\"\\t\"0\"\\t\"0\"\\t\"0\"\\t\"0\"\\t\"0\"\\t\"0\"\\t\"0\"\\t\"0\"\\t\"0\"\\t\"0\"\\t\"0\"\\t\"0\"\\t\"0\"\\t\"0\"\\t\"0\"\\t\"0\"\\t\"0\"\\t\"0\"\\t\"0\"\\t\"0\"\\t\"0\"\\t\"0\"\\t\"0\"\\t\"0\"\\t\"0\"\\t\"0\"\\t\"0\"\\t\"0\"\\t\"0\"\\t\"0\"\\t\"0\"\\t\"0\"\\t\"0\"\\t\"0\"\\t\"0\"\\t\"0\"\\t\"0\"\\t\"0\"\\t\"0\"\\t\"0\"\\t\"0\"\\t\"0\"\\t\"0\"\\t\"0\"\\t\"0\"\\t\"0\"\\t\"0\"\\t\"0\"\\t\"0\"\\t\"0\"\\t\"0\"\\t\"0\"\\t\"0\"\\t\"0\"\\t\"0\"\\t\"0\"\\t\"0\"\\t\"0\"\\t\"0\"\\t\"0\"\\t\"0\"\\t\"0\"\\t\"0\"\\t\"0\"\\t\"0\"\\t\"0\"\\t\"0\"\\t\"0\"\\t\"0\"\\t\"0\"\\t\"0\"\\t\"0\"\\t\"0\"\\t\"0\"\\t\"0\"\\t\"0\"\\t\"0\"\\t\"0\"\\t\"0\"\\t\"0\"\\t\"0\"\\t\"0\"\\t\"0\"\\t\"0\"\\t\"0\"\\t\"0\"\\t\"0\"\\t\"0\"\\t\"0\"\\t\"0\"\\t\"0\"\\t\"0\"\\t\"0\"\\t\"0\"\\t\"0\"\\t\"0\"\\t\"0\"\\t\"0\"\\t\"0\"\\t\"0\"\\t\"0\"\\t\"0\"\\t\"0\"\\t\"0\"\\t\"0\"\\t\"0\"\\t\"0\"\\t\"0\"\\t\"0\"\\t\"0\"\\t\"0\"\\t\"0\"\\t\"0\"\\t\"0\"\\t\"0\"\\t\"0\"\\t\"0\"\\t\"0\"\\t\"0\"\\t\"0\"\\t\"0\"\\t\"0\"\\t\"0\"\\t\"0\"\\t\"0\"\\t\"0\"\\t\"0\"\\t\"0\"\\t\"0\"\\t\"0\"\\t\"0\"\\t\"0\"\\t\"0\"\\t\"0\"\\t\"0\"\\t\"0\"\\t\"0\"\\t\"0\"\\t\"0\"\\t\"0\"\\t\"0\"\\t\"0\"\\t\"0\"\\t\"0\"\\t\"0\"\\t\"0\"\\t\"0\"\\t\"0\"\\t\"0\"\\t\"0\"\\t\"0\"\\t\"0\"\\t\"0\"\\t\"0\"\\t\"0\"\\t\"0\"\\t\"0\"\\t\"0\"\\t\"0\"\\t\"0\"\\t\"0\"\\t\"0\"\\t\"0\"\\t\"0\"\\t\"0\"\\t\"0\"\\t\"0\"\\t\"0\"\\t\"0\"\\t\"0\"\\t\"0\"\\t\"0\"\\t\"0\"\\t\"0\"\\t\"0\"\\t\"0\"\\t\"0\"\\t\"0\"\\t\"0\"\\t\"0\"\\t\"0\"\\t\"0\"\\t\"0\"\\t\"0\"\\t\"0\"\\t\"0\"\\t\"0\"\\t\"0\"\\t\"0\"\\t\"0\"\\t\"0\"\\t\"0\"\\t\"0\"\\t\"0\"\\t\"0\"\\t\"0\"\\t\"0\"\\t\"0\"\\t\"0\"\\t\"0\"\\t\"0\"\\t\"0\"\\t\"0\"\\t\"0\"\\t\"0\"\\t\"0\"\\t\"0\"\\t\"0\"\\t\"0\"\\t\"0\"\\t\"0\"\\t\"0\"\\t\"0\"\\t\"0\"\\t\"0\"\\t\"0\"\\t\"0\"\\t\"0\"\\t\"0\"\\t\"0\"\\t\"0\"\\t\"0\"\\t\"0\"\\t\"0\"\\t\"0\"\\t\"0\"\\t\"0\"\\t\"0\"\\t\"0\"\\t\"0\"\\t\"0\"\\t\"0\"\\t\"0\"\\t\"0\"\\t\"0\"\\t\"0\"\\t\"0\"\\t\"0\"\\t\"0\"\\t\"0\"\\t\"0\"\\t\"0\"\\t\"0\"\\t\"0\"\\t\"0\"\\t\"0\"\\t\"0\"\\t\"0\"\\t\"0\"\\t\"0\"\\t\"0\"\\t\"0\"\\t\"0\"\\t\"0\"\\t\"0\"\\t\"0\"\\t\"0\"\\t\"0\"\\t\"0\"\\t\"0\"\\t\"0\"\\t\"0\"\\t\"0\"\\t\"0\"\\t\"0\"\\t\"0\"\\t\"0\"\\t\"0\"\\t\"0\"\\t\"0\"\\t\"0\"\\t\"0\"\\t\"0\"\\t\"0\"\\t\"0\"\\t\"0\"\\t\"0\"\\t\"0\"\\t\"0\"\\t\"0\"\\t\"0\"\\t\"0\"\\t\"0\"\\t\"0\"\\t\"0\"\\t\"0\"\\t\"0\"\\t\"0\"\\t\"0\"\\t\"0\"\\t\"0\"\\t\"0\"\\t\"0\"\\t\"0\"\\t\"0\"\\t\"0\"\\t\"0\"\\t\"0\"\\t\"0\"\\t\"0\"\\t\"0\"\\t\"0\"\\t\"0\"\\t\"0\"\\t\"0\"\\t\"0\"\\t\"0\"\\t\"0\"\\t\"0\"\\t\"0\"\\t\"0\"\\t\"0\"\\t\"0\"\\t\"0\"\\t\"0\"\\t\"0\"\\t\"0\"\\t\"0\"\\t\"0\"\\t\"0\"\\t\"0\"\\t\"0\"\\t\"0\"\\t\"0\"\\t\"0\"\\t\"0\"\\t\"0\"\\t\"0\"\\t\"0\"\\t\"0\"\\t\"0\"\\t\"0\"\\t\"0\"\\t\"0\"\\t\"0\"\\t\"0\"\\t\"0\"\\t\"0\"\\t\"0\"\\t\"0\"\\t\"0\"\\t\"0\"\\t\"0\"\\t\"0\"\\t\"0\"\\t\"0\"\\t\"0\"\\t\"0\"\\t\"0\"\\t\"0\"\\t\"0\"\\t\"0\"\\t\"0\"\\t\"0\"\\t\"0\"\\t\"0\"\\t\"0\"\\t\"0\"\\t\"0\"\\t\"0\"\\t\"0\"\\t\"0\"\\t\"0\"\\t\"0\"\\t\"0\"\\t\"0\"\\t\"0\"\\t\"0\"\\t\"0\"\\t\"0\"\\t\"0\"\\t\"0\"\\t\"0\"\\t\"0\"\\t\"0\"\\t\"0\"\\t\"0\"\\t\"0\"\\t\"0\"\\t\"0\"\\t\"0\"\\t\"0\"\\t\"0\"\\t\"0\"\\t\"0\"\\t\"0\"\\t\"0\"\\t\"0\"\\t\"0\"\\t\"0\"\\t\"0\"\\t\"0\"\\t\"0\"\\t\"0\"\\t\"0\"\\t\"0\"\\t\"0\"\\t\"0\"\\t\"0\"\\t\"1\"\\t\"0\"\\t\"0\"\\t\"0\"\\t\"0\"\\t\"0\"\\t\"0\"\\t\"0\"\\t\"0\"\\t\"0\"\\t\"0\"\\t\"0\"\\t\"0\"\\t\"0\"\\t\"0\"\\t\"0\"\\t\"0\"\\t\"0\"\\t\"0\"\\t\"0\"\\t\"0\"\\t\"0\"\\t\"0\"\\t\"0\"\\t\"0\"\\t\"0\"\\t\"0\"\\t\"0\"\\t\"0\"\\t\"0\"\\t\"0\"\\t\"0\"\\t\"0\"\\t\"0\"\\t\"0\"\\t\"0\"\\t\"0\"\\t\"0\"\\t\"0\"\\t\"0\"\\t\"0\"\\t\"0\"\\t\"0\"\\t\"0\"\\t\"0\"\\t\"0\"\\t\"0\"\\t\"0\"\\t\"0\"\\t\"0\"\\t\"0\"\\t\"0\"\\t\"0\"\\t\"0\"\\t\"0\"\\t\"0\"\\t\"0\"\\t\"0\"\\t\"0\"\\t\"0\"\\t\"0\"\\t\"0\"\\t\"0\"\\t\"0\"\\t\"0\"\\t\"0\"\\t\"0\"\\t\"0\"\\t\"0\"\\t\"0\"\\t\"0\"\\t\"0\"\\t\"0\"\\t\"0\"\\t\"0\"\\t\"0\"\\t\"0\"\\t\"0\"\\t\"0\"\\t\"0\"\\t\"0\"\\t\"0\"\\t\"0\"\\t\"0\"\\t\"0\"\\t\"0\"\\t\"0\"\\t\"0\"\\t\"0\"\\t\"0\"\\t\"0\"\\t\"0\"\\t\"0\"\\t\"0\"\\t\"0\"\\t\"0\"\\t\"0\"\\t\"0\"\\t\"0\"\\t\"0\"\\t\"0\"\\t\"0\"\\t\"0\"\\t\"0\"\\t\"0\"\\t\"0\"\\t\"0\"\\t\"0\"\\t\"0\"\\t\"0\"\\t\"0\"\\t\"0\"\\t\"1\"\\t\"0\"\\t\"0\"\\t\"0\"\\t\"0\"\\t\"0\"\\t\"0\"\\t\"0\"\\t\"0\"\\t\"0\"\\t\"0\"\\t\"0\"\\t\"0\"\\t\"0\"\\t\"0\"\\t\"0\"\\t\"0\"\\t\"0\"\\t\"0\"\\t\"0\"\\t\"0\"\\t\"0\"\\t\"0\"\\t\"0\"\\t\"0\"\\t\"0\"\\t\"0\"\\t\"0\"\\t\"0\"\\t\"0\"\\t\"0\"\\t\"0\"\\t\"0\"\\t\"1\"\\t\"0\"\\t\"0\"\\t\"0\"\\t\"0\"\\t\"0\"\\t\"0\"\\t\"0\"\\t\"0\"\\t\"0\"\\t\"0\"\\t\"0\"\\t\"0\"\\t\"0\"\\t\"0\"\\t\"0\"\\t\"0\"\\t\"0\"\\t\"0\"\\t\"0\"\\t\"0\"\\t\"0\"\\t\"0\"\\t\"0\"\\t\"1\"\\t\"0\"\\t\"0\"\\t\"0\"\\t\"0\"\\t\"0\"\\t\"0\"\\t\"0\"\\t\"0\"\\t\"0\"\\t\"0\"\\t\"0\"\\t\"0\"\\t\"0\"\\t\"1\"\\t\"0\"\\t\"0\"\\t\"0\"\\t\"0\"\\t\"0\"\\t\"0\"\\t\"0\"\\t\"0\"\\t\"0\"\\t\"0\"\\t\"0\"\\t\"0\"\\t\"0\"\\t\"0\"\\t\"0\"\\t\"0\"\\t\"0\"\\t\"0\"\\t\"0\"\\t\"0\"\\t\"0\"\\t\"0\"\\t\"0\"\\t\"0\"\\t\"0\"\\t\"0\"\\t\"1\"\\t\"0\"\\t\"1\"\\t\"0\"\\t\"0\"\\t\"0\"\\t\"0\"\\t\"0\"\\t\"0\"\\t\"0\"\\t\"1\"\\t\"0\"\\t\"0\"\\t\"0\"\\t\"0\"\\t\"0\"\\t\"0\"\\t\"0\"\\t\"0\"\\t\"0\"\\t\"0\"\\t\"0\"\\t\"0\"\\t\"0\"\\t\"0\"\\t\"0\"\\t\"0\"\\t\"0\"\\t\"0\"\\t\"0\"\\t\"0\"\\t\"0\"\\t\"0\"\\t\"0\"\\t\"0\"\\t\"0\"\\t\"0\"\\t\"0\"\\t\"0\"\\t\"0\"\\t\"0\"\\t\"0\"\\t\"0\"\\t\"0\"\\t\"0\"\\t\"0\"\\t\"0\"\\t\"0\"\\t\"0\"\\t\"0\"\\t\"0\"\\t\"0\"\\t\"0\"\\t\"0\"\\t\"0\"\\t\"0\"\\t\"0\"\\t\"0\"\\t\"0\"\\t\"0\"\\t\"0\"\\t\"0\"\\t\"0\"\\t\"0\"\\t\"0\"\\t\"0\"\\t\"0\"\\t\"0\"\\t\"0\"\\t\"0\"\\t\"0\"\\t\"0\"\\t\"0\"\\t\"0\"\\t\"0\"\\t\"0\"\\t\"0\"\\t\"0\"\\t\"0\"\\t\"0\"\\t\"0\"\\t\"0\"\\t\"0\"\\t\"0\"\\t\"0\"\\t\"0\"\\t\"0\"\\t\"0\"\\t\"0\"\\t\"0\"\\t\"0\"\\t\"0\"\\t\"0\"\\t\"0\"\\t\"0\"\\t\"0\"\\t\"0\"\\t\"0\"\\t\"0\"\\t\"0\"\\t\"0\"\\t\"0\"\\t\"0\"\\t\"0\"\\t\"0\"\\t\"0\"\\t\"0\"\\t\"0\"\\t\"0\"\\t\"0\"\\t\"0\"\\t\"0\"\\t\"0\"\\t\"0\"\\t\"0\"\\t\"0\"\\t\"0\"\\t\"0\"\\t\"0\"\\t\"0\"\\t\"0\"\\t\"0\"\\t\"0\"\\t\"0\"\\t\"0\"\\t\"0\"\\t\"0\"\\t\"0\"\\t\"0\"\\t\"1\"\\t\"0\"\\t\"0\"\\t\"0\"\\t\"0\"\\t\"0\"\\t\"0\"\\t\"0\"\\t\"0\"\\t\"0\"\\t\"0\"\\t\"0\"\\t\"0\"\\t\"0\"\\t\"0\"\\t\"0\"\\t\"0\"\\t\"0\"\\t\"0\"\\t\"0\"\\t\"0\"\\t\"0\"\\t\"0\"\\t\"0\"\\t\"0\"\\t\"0\"\\t\"0\"\\t\"0\"\\t\"0\"\\t\"0\"\\t\"0\"\\t\"0\"\\t\"0\"\\t\"0\"\\t\"0\"\\t\"0\"\\t\"1\"\\t\"0\"\\t\"0\"\\t\"0\"\\t\"0\"\\t\"0\"\\t\"0\"\\t\"0\"\\t\"0\"\\t\"0\"\\t\"0\"\\t\"0\"\\t\"0\"\\t\"0\"\\t\"0\"\\t\"0\"\\t\"0\"\\t\"0\"\\t\"0\"\\t\"0\"\\t\"0\"\\t\"0\"\\t\"0\"\\t\"0\"\\t\"0\"\\t\"0\"\\t\"0\"\\t\"0\"\\t\"0\"\\t\"0\"\\t\"0\"\\t\"0\"\\t\"0\"\\t\"0\"\\t\"0\"\\t\"0\"\\t\"0\"\\t\"0\"\\t\"0\"\\t\"0\"\\t\"0\"\\t\"0\"\\t\"0\"\\t\"0\"\\t\"0\"\\t\"0\"\\t\"0\"\\t\"0\"\\t\"0\"\\t\"0\"\\t\"0\"\\t\"0\"\\t\"1\"\\t\"0\"\\t\"0\"\\t\"0\"\\t\"0\"\\t\"0\"\\t\"0\"\\t\"1\"\\t\"0\"\\t\"0\"\\t\"0\"\\t\"0\"\\t\"0\"\\t\"0\"\\t\"0\"\\t\"0\"\\t\"0\"\\t\"0\"\\t\"1\"\\t\"0\"\\t\"0\"\\t\"0\"\\t\"0\"\\t\"0\"\\t\"0\"\\t\"0\"\\t\"0\"\\t\"0\"\\t\"0\"\\t\"0\"\\t\"0\"\\t\"0\"\\t\"0\"\\t\"0\"\\t\"0\"\\t\"0\"\\t\"0\"\\t\"0\"\\t\"0\"\\t\"0\"\\t\"0\"\\t\"0\"\\t\"1\"\\t\"0\"\\t\"0\"\\t\"0\"\\t\"0\"\\t\"0\"\\t\"0\"\\t\"0\"\\t\"0\"\\t\"0\"\\t\"0\"\\t\"0\"\\t\"0\"\\t\"0\"\\t\"0\"\\t\"0\"\\t\"0\"\\t\"0\"\\t\"0\"\\t\"0\"\\t\"0\"\\t\"0\"\\t\"0\"\\t\"0\"\\t\"0\"\\t\"0\"\\t\"0\"\\t\"0\"\\t\"0\"\\t\"0\"\\t\"0\"\\t\"0\"\\t\"0\"\\t\"0\"\\t\"0\"\\t\"0\"\\t\"0\"\\t\"0\"\\t\"0\"\\t\"0\"\\t\"0\"\\t\"0\"\\t\"0\"\\t\"0\"\\t\"0\"\\t\"0\"\\t\"0\"\\t\"0\"\\t\"0\"\\t\"0\"\\t\"0\"\\t\"0\"\\t\"0\"\\t\"0\"\\t\"0\"\\t\"0\"\\t\"0\"\\t\"0\"\\t\"0\"\\t\"0\"\\t\"0\"\\t\"0\"\\t\"0\"\\t\"0\"\\t\"0\"\\t\"0\"\\t\"0\"\\t\"0\"\\t\"0\"\\t\"0\"\\t\"0\"\\t\"0\"\\t\"0\"\\t\"0\"\\t\"0\"\\t\"0\"\\t\"0\"\\t\"0\"\\t\"0\"\\t\"0\"\\t\"0\"\\t\"0\"\\t\"0\"\\t\"0\"\\t\"0\"\\t\"0\"\\t\"0\"\\t\"0\"\\t\"0\"\\t\"0\"\\t\"0\"\\t\"0\"\\t\"0\"\\t\"0\"\\t\"0\"\\t\"0\"\\t\"0\"\\t\"0\"\\t\"0\"\\t\"0\"\\t\"0\"\\t\"0\"\\t\"0\"\\t\"0\"\\t\"0\"\\t\"0\"\\t\"0\"\\t\"0\"\\t\"0\"\\t\"0\"\\t\"0\"\\t\"0\"\\t\"0\"\\t\"0\"\\t\"0\"\\t\"0\"\\t\"0\"\\t\"0\"\\t\"0\"\\t\"0\"\\t\"0\"\\t\"0\"\\t\"0\"\\t\"0\"\\t\"0\"\\t\"0\"\\t\"0\"\\t\"0\"\\t\"0\"\\t\"0\"\\t\"0\"\\t\"0\"\\t\"0\"\\t\"0\"\\t\"0\"\\t\"0\"\\t\"0\"\\t\"0\"\\t\"0\"\\t\"0\"\\t\"0\"\\t\"0\"\\t\"0\"\\t\"0\"\\t\"0\"\\t\"0\"\\t\"0\"\\t\"0\"\\t\"0\"\\t\"0\"\\t\"0\"\\t\"0\"\\t\"0\"\\t\"0\"\\t\"0\"\\t\"0\"\\t\"0\"\\t\"0\"\\t\"0\"\\t\"0\"\\t\"0\"\\t\"0\"\\t\"0\"\\t\"0\"\\t\"0\"\\t\"0\"\\t\"0\"\\t\"0\"\\t\"0\"\\t\"0\"\\t\"0\"\\t\"0\"\\t\"0\"\\t\"0\"\\t\"0\"\\t\"0\"\\t\"0\"\\t\"0\"\\t\"0\"\\t\"0\"\\t\"0\"\\t\"0\"\\t\"0\"\\t\"0\"\\t\"0\"\\t\"0\"\\t\"0\"\\t\"0\"\\t\"0\"\\t\"0\"\\t\"0\"\\t\"0\"\\t\"0\"\\t\"0\"\\t\"0\"\\t\"0\"\\t\"0\"\\t\"0\"\\t\"0\"', '2462\\t90\\t52\\t0.5777\\t\"1\"\\t\"0\"\\t\"0\"\\t\"0\"\\t\"0\"\\t\"0\"\\t\"0\"\\t\"0\"\\t\"0\"\\t\"0\"\\t\"0\"\\t\"0\"\\t\"0\"\\t\"0\"\\t\"0\"\\t\"0\"\\t\"0\"\\t\"0\"\\t\"0\"\\t\"0\"\\t\"0\"\\t\"0\"\\t\"0\"\\t\"0\"\\t\"0\"\\t\"0\"\\t\"0\"\\t\"0\"\\t\"0\"\\t\"0\"\\t\"0\"\\t\"0\"\\t\"0\"\\t\"0\"\\t\"0\"\\t\"0\"\\t\"0\"\\t\"0\"\\t\"0\"\\t\"0\"\\t\"0\"\\t\"0\"\\t\"0\"\\t\"0\"\\t\"0\"\\t\"0\"\\t\"0\"\\t\"0\"\\t\"0\"\\t\"0\"\\t\"0\"\\t\"0\"\\t\"0\"\\t\"0\"\\t\"0\"\\t\"0\"\\t\"0\"\\t\"0\"\\t\"0\"\\t\"0\"\\t\"0\"\\t\"0\"\\t\"0\"\\t\"0\"\\t\"0\"\\t\"0\"\\t\"0\"\\t\"0\"\\t\"0\"\\t\"0\"\\t\"0\"\\t\"0\"\\t\"0\"\\t\"0\"\\t\"0\"\\t\"0\"\\t\"0\"\\t\"0\"\\t\"0\"\\t\"0\"\\t\"0\"\\t\"0\"\\t\"0\"\\t\"0\"\\t\"0\"\\t\"0\"\\t\"0\"\\t\"0\"\\t\"0\"\\t\"0\"\\t\"0\"\\t\"0\"\\t\"0\"\\t\"0\"\\t\"0\"\\t\"0\"\\t\"0\"\\t\"0\"\\t\"0\"\\t\"0\"\\t\"0\"\\t\"0\"\\t\"0\"\\t\"0\"\\t\"0\"\\t\"0\"\\t\"0\"\\t\"0\"\\t\"0\"\\t\"0\"\\t\"0\"\\t\"0\"\\t\"0\"\\t\"0\"\\t\"0\"\\t\"0\"\\t\"0\"\\t\"0\"\\t\"0\"\\t\"0\"\\t\"0\"\\t\"0\"\\t\"0\"\\t\"0\"\\t\"0\"\\t\"0\"\\t\"0\"\\t\"0\"\\t\"0\"\\t\"0\"\\t\"0\"\\t\"0\"\\t\"0\"\\t\"0\"\\t\"0\"\\t\"0\"\\t\"0\"\\t\"0\"\\t\"0\"\\t\"0\"\\t\"0\"\\t\"0\"\\t\"0\"\\t\"0\"\\t\"0\"\\t\"0\"\\t\"0\"\\t\"0\"\\t\"0\"\\t\"0\"\\t\"0\"\\t\"0\"\\t\"1\"\\t\"0\"\\t\"0\"\\t\"0\"\\t\"0\"\\t\"0\"\\t\"0\"\\t\"0\"\\t\"0\"\\t\"0\"\\t\"0\"\\t\"0\"\\t\"0\"\\t\"0\"\\t\"0\"\\t\"0\"\\t\"0\"\\t\"0\"\\t\"0\"\\t\"0\"\\t\"0\"\\t\"0\"\\t\"0\"\\t\"0\"\\t\"0\"\\t\"0\"\\t\"0\"\\t\"0\"\\t\"0\"\\t\"0\"\\t\"0\"\\t\"1\"\\t\"0\"\\t\"0\"\\t\"1\"\\t\"0\"\\t\"0\"\\t\"0\"\\t\"0\"\\t\"0\"\\t\"0\"\\t\"0\"\\t\"0\"\\t\"0\"\\t\"0\"\\t\"0\"\\t\"0\"\\t\"0\"\\t\"0\"\\t\"0\"\\t\"0\"\\t\"0\"\\t\"0\"\\t\"0\"\\t\"0\"\\t\"0\"\\t\"0\"\\t\"0\"\\t\"0\"\\t\"0\"\\t\"0\"\\t\"0\"\\t\"0\"\\t\"0\"\\t\"0\"\\t\"0\"\\t\"0\"\\t\"0\"\\t\"0\"\\t\"0\"\\t\"0\"\\t\"0\"\\t\"0\"\\t\"0\"\\t\"0\"\\t\"0\"\\t\"0\"\\t\"0\"\\t\"0\"\\t\"0\"\\t\"0\"\\t\"0\"\\t\"0\"\\t\"0\"\\t\"0\"\\t\"0\"\\t\"0\"\\t\"0\"\\t\"0\"\\t\"0\"\\t\"0\"\\t\"0\"\\t\"0\"\\t\"0\"\\t\"0\"\\t\"0\"\\t\"0\"\\t\"0\"\\t\"0\"\\t\"0\"\\t\"0\"\\t\"0\"\\t\"0\"\\t\"0\"\\t\"0\"\\t\"0\"\\t\"0\"\\t\"0\"\\t\"0\"\\t\"0\"\\t\"0\"\\t\"0\"\\t\"1\"\\t\"1\"\\t\"0\"\\t\"0\"\\t\"0\"\\t\"0\"\\t\"0\"\\t\"0\"\\t\"0\"\\t\"0\"\\t\"0\"\\t\"0\"\\t\"0\"\\t\"0\"\\t\"0\"\\t\"0\"\\t\"0\"\\t\"0\"\\t\"0\"\\t\"0\"\\t\"0\"\\t\"0\"\\t\"0\"\\t\"0\"\\t\"0\"\\t\"0\"\\t\"0\"\\t\"0\"\\t\"0\"\\t\"0\"\\t\"0\"\\t\"0\"\\t\"0\"\\t\"0\"\\t\"0\"\\t\"0\"\\t\"0\"\\t\"0\"\\t\"0\"\\t\"0\"\\t\"0\"\\t\"0\"\\t\"0\"\\t\"0\"\\t\"0\"\\t\"0\"\\t\"0\"\\t\"0\"\\t\"0\"\\t\"0\"\\t\"0\"\\t\"0\"\\t\"0\"\\t\"0\"\\t\"0\"\\t\"0\"\\t\"0\"\\t\"0\"\\t\"0\"\\t\"0\"\\t\"0\"\\t\"0\"\\t\"0\"\\t\"0\"\\t\"0\"\\t\"0\"\\t\"0\"\\t\"0\"\\t\"0\"\\t\"0\"\\t\"0\"\\t\"0\"\\t\"0\"\\t\"0\"\\t\"0\"\\t\"0\"\\t\"0\"\\t\"0\"\\t\"0\"\\t\"0\"\\t\"0\"\\t\"0\"\\t\"0\"\\t\"0\"\\t\"0\"\\t\"0\"\\t\"0\"\\t\"0\"\\t\"0\"\\t\"0\"\\t\"0\"\\t\"0\"\\t\"0\"\\t\"0\"\\t\"0\"\\t\"0\"\\t\"0\"\\t\"0\"\\t\"0\"\\t\"0\"\\t\"0\"\\t\"0\"\\t\"0\"\\t\"0\"\\t\"0\"\\t\"0\"\\t\"0\"\\t\"0\"\\t\"0\"\\t\"0\"\\t\"0\"\\t\"0\"\\t\"0\"\\t\"0\"\\t\"0\"\\t\"0\"\\t\"0\"\\t\"0\"\\t\"0\"\\t\"0\"\\t\"0\"\\t\"0\"\\t\"0\"\\t\"0\"\\t\"0\"\\t\"0\"\\t\"0\"\\t\"0\"\\t\"0\"\\t\"0\"\\t\"0\"\\t\"1\"\\t\"0\"\\t\"0\"\\t\"0\"\\t\"0\"\\t\"0\"\\t\"0\"\\t\"0\"\\t\"0\"\\t\"0\"\\t\"0\"\\t\"0\"\\t\"0\"\\t\"0\"\\t\"0\"\\t\"0\"\\t\"0\"\\t\"0\"\\t\"0\"\\t\"0\"\\t\"0\"\\t\"0\"\\t\"0\"\\t\"0\"\\t\"0\"\\t\"0\"\\t\"0\"\\t\"0\"\\t\"0\"\\t\"1\"\\t\"0\"\\t\"0\"\\t\"1\"\\t\"0\"\\t\"1\"\\t\"0\"\\t\"0\"\\t\"0\"\\t\"0\"\\t\"0\"\\t\"0\"\\t\"0\"\\t\"1\"\\t\"0\"\\t\"0\"\\t\"0\"\\t\"0\"\\t\"0\"\\t\"0\"\\t\"0\"\\t\"0\"\\t\"0\"\\t\"0\"\\t\"0\"\\t\"0\"\\t\"0\"\\t\"0\"\\t\"0\"\\t\"0\"\\t\"1\"\\t\"0\"\\t\"0\"\\t\"0\"\\t\"0\"\\t\"0\"\\t\"0\"\\t\"0\"\\t\"0\"\\t\"0\"\\t\"0\"\\t\"0\"\\t\"0\"\\t\"0\"\\t\"0\"\\t\"0\"\\t\"0\"\\t\"0\"\\t\"0\"\\t\"0\"\\t\"0\"\\t\"0\"\\t\"0\"\\t\"0\"\\t\"0\"\\t\"0\"\\t\"0\"\\t\"0\"\\t\"0\"\\t\"0\"\\t\"0\"\\t\"0\"\\t\"0\"\\t\"0\"\\t\"0\"\\t\"0\"\\t\"0\"\\t\"0\"\\t\"0\"\\t\"0\"\\t\"0\"\\t\"0\"\\t\"0\"\\t\"0\"\\t\"0\"\\t\"0\"\\t\"0\"\\t\"0\"\\t\"0\"\\t\"0\"\\t\"0\"\\t\"0\"\\t\"0\"\\t\"0\"\\t\"0\"\\t\"0\"\\t\"0\"\\t\"0\"\\t\"0\"\\t\"0\"\\t\"0\"\\t\"0\"\\t\"0\"\\t\"1\"\\t\"0\"\\t\"0\"\\t\"0\"\\t\"0\"\\t\"1\"\\t\"0\"\\t\"0\"\\t\"1\"\\t\"0\"\\t\"0\"\\t\"0\"\\t\"0\"\\t\"0\"\\t\"0\"\\t\"0\"\\t\"0\"\\t\"0\"\\t\"0\"\\t\"0\"\\t\"0\"\\t\"0\"\\t\"1\"\\t\"0\"\\t\"0\"\\t\"0\"\\t\"0\"\\t\"0\"\\t\"0\"\\t\"0\"\\t\"0\"\\t\"0\"\\t\"0\"\\t\"0\"\\t\"0\"\\t\"0\"\\t\"0\"\\t\"0\"\\t\"0\"\\t\"0\"\\t\"0\"\\t\"0\"\\t\"0\"\\t\"0\"\\t\"0\"\\t\"0\"\\t\"0\"\\t\"0\"\\t\"0\"\\t\"0\"\\t\"0\"\\t\"0\"\\t\"0\"\\t\"0\"\\t\"0\"\\t\"0\"\\t\"0\"\\t\"0\"\\t\"0\"\\t\"0\"\\t\"0\"\\t\"0\"\\t\"0\"\\t\"0\"\\t\"0\"\\t\"0\"\\t\"0\"\\t\"0\"\\t\"0\"\\t\"0\"\\t\"0\"\\t\"0\"\\t\"0\"\\t\"0\"\\t\"0\"\\t\"0\"\\t\"0\"\\t\"0\"\\t\"0\"\\t\"0\"\\t\"0\"\\t\"0\"\\t\"0\"\\t\"0\"\\t\"0\"\\t\"0\"\\t\"0\"\\t\"0\"\\t\"0\"\\t\"0\"\\t\"0\"\\t\"0\"\\t\"0\"\\t\"0\"\\t\"0\"\\t\"0\"\\t\"0\"\\t\"0\"\\t\"0\"\\t\"0\"\\t\"0\"\\t\"0\"\\t\"0\"\\t\"0\"\\t\"0\"\\t\"0\"\\t\"0\"\\t\"0\"\\t\"0\"\\t\"0\"\\t\"0\"\\t\"0\"\\t\"0\"\\t\"0\"\\t\"0\"\\t\"0\"\\t\"0\"\\t\"0\"\\t\"0\"\\t\"0\"\\t\"0\"\\t\"0\"\\t\"0\"\\t\"0\"\\t\"0\"\\t\"0\"\\t\"0\"\\t\"0\"\\t\"0\"\\t\"0\"\\t\"0\"\\t\"0\"\\t\"0\"\\t\"0\"\\t\"0\"\\t\"0\"\\t\"0\"\\t\"0\"\\t\"0\"\\t\"0\"\\t\"0\"\\t\"0\"\\t\"0\"\\t\"0\"\\t\"0\"\\t\"0\"\\t\"0\"\\t\"0\"\\t\"0\"\\t\"0\"\\t\"0\"\\t\"0\"\\t\"0\"\\t\"0\"\\t\"0\"\\t\"0\"\\t\"0\"\\t\"0\"\\t\"0\"\\t\"0\"\\t\"0\"\\t\"0\"\\t\"0\"\\t\"0\"\\t\"0\"\\t\"0\"\\t\"0\"\\t\"0\"\\t\"0\"\\t\"0\"\\t\"0\"\\t\"0\"\\t\"0\"\\t\"0\"\\t\"0\"\\t\"0\"\\t\"0\"\\t\"0\"\\t\"0\"\\t\"0\"\\t\"0\"\\t\"0\"\\t\"0\"\\t\"1\"\\t\"0\"\\t\"0\"\\t\"0\"\\t\"0\"\\t\"0\"\\t\"1\"\\t\"0\"\\t\"1\"\\t\"0\"\\t\"0\"\\t\"0\"\\t\"0\"\\t\"0\"\\t\"0\"\\t\"0\"\\t\"0\"\\t\"0\"\\t\"0\"\\t\"0\"\\t\"0\"\\t\"0\"\\t\"0\"\\t\"0\"\\t\"0\"\\t\"0\"\\t\"0\"\\t\"0\"\\t\"0\"\\t\"0\"\\t\"0\"\\t\"0\"\\t\"0\"\\t\"0\"\\t\"0\"\\t\"0\"\\t\"0\"\\t\"0\"\\t\"0\"\\t\"0\"\\t\"0\"\\t\"0\"\\t\"0\"\\t\"0\"\\t\"0\"\\t\"0\"\\t\"0\"\\t\"0\"\\t\"0\"\\t\"0\"\\t\"0\"\\t\"0\"\\t\"0\"\\t\"0\"\\t\"0\"\\t\"0\"\\t\"0\"\\t\"0\"\\t\"0\"\\t\"0\"\\t\"0\"\\t\"0\"\\t\"0\"\\t\"0\"\\t\"0\"\\t\"0\"\\t\"0\"\\t\"0\"\\t\"0\"\\t\"0\"\\t\"0\"\\t\"0\"\\t\"0\"\\t\"0\"\\t\"0\"\\t\"0\"\\t\"0\"\\t\"0\"\\t\"0\"\\t\"0\"\\t\"0\"\\t\"0\"\\t\"0\"\\t\"0\"\\t\"0\"\\t\"0\"\\t\"0\"\\t\"0\"\\t\"0\"\\t\"0\"\\t\"0\"\\t\"0\"\\t\"0\"\\t\"0\"\\t\"0\"\\t\"0\"\\t\"0\"\\t\"0\"\\t\"0\"\\t\"0\"\\t\"0\"\\t\"0\"\\t\"0\"\\t\"0\"\\t\"0\"\\t\"0\"\\t\"0\"\\t\"0\"\\t\"0\"\\t\"1\"\\t\"0\"\\t\"0\"\\t\"0\"\\t\"0\"\\t\"0\"\\t\"0\"\\t\"0\"\\t\"0\"\\t\"0\"\\t\"0\"\\t\"0\"\\t\"0\"\\t\"0\"\\t\"0\"\\t\"0\"\\t\"0\"\\t\"0\"\\t\"0\"\\t\"0\"\\t\"0\"\\t\"0\"\\t\"0\"\\t\"0\"\\t\"0\"\\t\"0\"\\t\"0\"\\t\"0\"\\t\"0\"\\t\"0\"\\t\"0\"\\t\"0\"\\t\"0\"\\t\"0\"\\t\"0\"\\t\"0\"\\t\"0\"\\t\"0\"\\t\"0\"\\t\"0\"\\t\"0\"\\t\"0\"\\t\"0\"\\t\"0\"\\t\"0\"\\t\"0\"\\t\"0\"\\t\"0\"\\t\"0\"\\t\"0\"\\t\"0\"\\t\"1\"\\t\"0\"\\t\"0\"\\t\"0\"\\t\"0\"\\t\"0\"\\t\"0\"\\t\"0\"\\t\"0\"\\t\"0\"\\t\"0\"\\t\"0\"\\t\"0\"\\t\"0\"\\t\"0\"\\t\"0\"\\t\"0\"\\t\"0\"\\t\"0\"\\t\"0\"\\t\"0\"\\t\"0\"\\t\"0\"\\t\"0\"\\t\"0\"\\t\"0\"\\t\"0\"\\t\"0\"\\t\"0\"\\t\"0\"\\t\"0\"\\t\"0\"\\t\"0\"\\t\"0\"\\t\"0\"\\t\"0\"\\t\"0\"\\t\"0\"\\t\"0\"\\t\"0\"\\t\"0\"\\t\"0\"\\t\"0\"\\t\"0\"\\t\"0\"\\t\"0\"\\t\"0\"\\t\"0\"\\t\"0\"\\t\"0\"\\t\"0\"\\t\"0\"\\t\"0\"\\t\"0\"\\t\"0\"\\t\"0\"\\t\"0\"\\t\"0\"\\t\"0\"\\t\"0\"\\t\"0\"\\t\"0\"\\t\"0\"\\t\"0\"\\t\"1\"\\t\"0\"\\t\"0\"\\t\"0\"\\t\"0\"\\t\"0\"\\t\"0\"\\t\"0\"\\t\"0\"\\t\"0\"\\t\"0\"\\t\"0\"\\t\"0\"\\t\"0\"\\t\"0\"\\t\"0\"\\t\"0\"\\t\"0\"\\t\"0\"\\t\"0\"\\t\"0\"\\t\"0\"\\t\"0\"\\t\"0\"\\t\"0\"\\t\"0\"\\t\"0\"\\t\"0\"\\t\"0\"\\t\"0\"\\t\"0\"\\t\"0\"\\t\"0\"\\t\"0\"\\t\"0\"\\t\"0\"\\t\"0\"\\t\"0\"\\t\"0\"\\t\"0\"\\t\"0\"\\t\"0\"\\t\"0\"\\t\"0\"\\t\"0\"\\t\"0\"\\t\"0\"\\t\"0\"\\t\"0\"\\t\"0\"\\t\"0\"\\t\"0\"\\t\"0\"\\t\"0\"\\t\"0\"\\t\"0\"\\t\"0\"\\t\"0\"\\t\"0\"\\t\"0\"\\t\"0\"\\t\"0\"\\t\"0\"\\t\"0\"\\t\"0\"\\t\"0\"\\t\"0\"\\t\"0\"\\t\"0\"\\t\"0\"\\t\"0\"\\t\"0\"\\t\"0\"\\t\"0\"\\t\"0\"\\t\"0\"\\t\"0\"\\t\"0\"\\t\"0\"\\t\"0\"\\t\"0\"\\t\"0\"\\t\"0\"\\t\"0\"\\t\"0\"\\t\"0\"\\t\"0\"\\t\"0\"\\t\"0\"\\t\"0\"\\t\"0\"\\t\"0\"\\t\"0\"\\t\"0\"\\t\"0\"\\t\"0\"\\t\"0\"\\t\"0\"\\t\"0\"\\t\"0\"\\t\"0\"\\t\"0\"\\t\"0\"\\t\"0\"\\t\"0\"\\t\"0\"\\t\"0\"\\t\"0\"\\t\"0\"\\t\"0\"\\t\"0\"\\t\"0\"\\t\"0\"\\t\"0\"\\t\"0\"\\t\"0\"\\t\"0\"\\t\"0\"\\t\"0\"\\t\"0\"\\t\"0\"\\t\"0\"\\t\"0\"\\t\"0\"\\t\"0\"\\t\"0\"\\t\"0\"\\t\"0\"\\t\"0\"\\t\"0\"\\t\"0\"\\t\"0\"\\t\"0\"\\t\"0\"\\t\"0\"\\t\"0\"\\t\"0\"\\t\"0\"\\t\"0\"\\t\"0\"\\t\"0\"\\t\"0\"\\t\"0\"\\t\"0\"\\t\"0\"\\t\"0\"\\t\"0\"\\t\"0\"\\t\"0\"\\t\"0\"\\t\"0\"\\t\"0\"\\t\"0\"\\t\"0\"\\t\"0\"\\t\"0\"\\t\"0\"\\t\"0\"\\t\"0\"\\t\"0\"\\t\"0\"\\t\"0\"\\t\"0\"\\t\"0\"\\t\"0\"\\t\"0\"\\t\"0\"\\t\"0\"\\t\"0\"\\t\"0\"\\t\"0\"\\t\"0\"\\t\"0\"\\t\"0\"\\t\"0\"\\t\"1\"\\t\"0\"\\t\"0\"\\t\"0\"\\t\"0\"\\t\"0\"\\t\"0\"\\t\"0\"\\t\"0\"\\t\"0\"\\t\"0\"\\t\"0\"\\t\"0\"\\t\"0\"\\t\"0\"\\t\"0\"\\t\"0\"\\t\"0\"\\t\"0\"\\t\"0\"\\t\"0\"\\t\"0\"\\t\"0\"\\t\"0\"\\t\"0\"\\t\"0\"\\t\"0\"\\t\"0\"\\t\"0\"\\t\"0\"\\t\"0\"\\t\"0\"\\t\"0\"\\t\"0\"\\t\"0\"\\t\"0\"\\t\"0\"\\t\"0\"\\t\"0\"\\t\"0\"\\t\"0\"\\t\"0\"\\t\"0\"\\t\"0\"\\t\"0\"\\t\"0\"\\t\"0\"\\t\"0\"\\t\"0\"\\t\"0\"\\t\"0\"\\t\"0\"\\t\"0\"\\t\"0\"\\t\"0\"\\t\"0\"\\t\"0\"\\t\"0\"\\t\"0\"\\t\"0\"\\t\"0\"\\t\"0\"\\t\"1\"\\t\"0\"\\t\"0\"\\t\"0\"\\t\"0\"\\t\"0\"\\t\"0\"\\t\"0\"\\t\"0\"\\t\"0\"\\t\"0\"\\t\"0\"\\t\"0\"\\t\"0\"\\t\"0\"\\t\"0\"\\t\"0\"\\t\"0\"\\t\"0\"\\t\"0\"\\t\"0\"\\t\"0\"\\t\"0\"\\t\"0\"\\t\"0\"\\t\"0\"\\t\"0\"\\t\"0\"\\t\"0\"\\t\"0\"\\t\"0\"\\t\"0\"\\t\"0\"\\t\"0\"\\t\"0\"\\t\"0\"\\t\"0\"\\t\"0\"\\t\"0\"\\t\"0\"\\t\"0\"\\t\"0\"\\t\"0\"\\t\"0\"\\t\"0\"\\t\"0\"\\t\"0\"\\t\"0\"\\t\"0\"\\t\"0\"\\t\"0\"\\t\"0\"\\t\"0\"\\t\"0\"\\t\"0\"\\t\"0\"\\t\"0\"\\t\"0\"\\t\"0\"\\t\"0\"\\t\"0\"\\t\"0\"\\t\"0\"\\t\"1\"\\t\"0\"\\t\"1\"\\t\"0\"\\t\"0\"\\t\"0\"\\t\"0\"\\t\"0\"\\t\"0\"\\t\"0\"\\t\"0\"\\t\"0\"\\t\"0\"\\t\"0\"\\t\"0\"\\t\"0\"\\t\"0\"\\t\"0\"\\t\"0\"\\t\"0\"\\t\"0\"\\t\"0\"\\t\"0\"\\t\"0\"\\t\"0\"\\t\"0\"\\t\"0\"\\t\"0\"\\t\"0\"\\t\"0\"\\t\"0\"\\t\"0\"\\t\"0\"\\t\"1\"\\t\"0\"\\t\"0\"\\t\"0\"\\t\"0\"\\t\"0\"\\t\"0\"\\t\"0\"\\t\"0\"\\t\"0\"\\t\"0\"\\t\"0\"\\t\"0\"\\t\"0\"\\t\"0\"\\t\"0\"\\t\"0\"\\t\"0\"\\t\"1\"\\t\"0\"\\t\"0\"\\t\"0\"\\t\"0\"\\t\"0\"\\t\"0\"\\t\"0\"\\t\"0\"\\t\"0\"\\t\"0\"\\t\"0\"\\t\"0\"\\t\"0\"\\t\"0\"\\t\"0\"\\t\"0\"\\t\"0\"\\t\"0\"\\t\"0\"\\t\"0\"\\t\"0\"\\t\"0\"\\t\"0\"\\t\"0\"\\t\"0\"\\t\"0\"\\t\"0\"\\t\"0\"\\t\"0\"\\t\"0\"\\t\"0\"\\t\"0\"\\t\"0\"\\t\"0\"\\t\"0\"\\t\"0\"\\t\"0\"\\t\"0\"\\t\"0\"\\t\"0\"\\t\"0\"\\t\"0\"\\t\"0\"\\t\"0\"\\t\"0\"\\t\"0\"\\t\"0\"\\t\"0\"\\t\"0\"\\t\"0\"\\t\"0\"\\t\"0\"\\t\"0\"\\t\"0\"\\t\"0\"\\t\"0\"\\t\"1\"\\t\"0\"\\t\"0\"\\t\"0\"\\t\"0\"\\t\"0\"\\t\"0\"\\t\"0\"\\t\"0\"\\t\"0\"\\t\"0\"\\t\"0\"\\t\"0\"\\t\"0\"\\t\"0\"\\t\"0\"\\t\"0\"\\t\"0\"\\t\"0\"\\t\"0\"\\t\"0\"\\t\"0\"\\t\"0\"\\t\"0\"\\t\"1\"\\t\"0\"\\t\"1\"\\t\"0\"\\t\"0\"\\t\"0\"\\t\"0\"\\t\"0\"\\t\"0\"\\t\"0\"\\t\"0\"\\t\"0\"\\t\"0\"\\t\"0\"\\t\"0\"\\t\"0\"\\t\"0\"\\t\"0\"\\t\"0\"\\t\"0\"\\t\"0\"\\t\"0\"\\t\"0\"\\t\"0\"\\t\"0\"\\t\"0\"\\t\"0\"\\t\"0\"\\t\"0\"\\t\"0\"\\t\"0\"\\t\"0\"\\t\"0\"\\t\"0\"\\t\"1\"\\t\"0\"\\t\"0\"\\t\"0\"\\t\"0\"\\t\"0\"\\t\"0\"\\t\"0\"\\t\"0\"\\t\"0\"\\t\"0\"\\t\"0\"\\t\"0\"\\t\"0\"\\t\"0\"\\t\"0\"\\t\"0\"\\t\"1\"\\t\"0\"\\t\"0\"\\t\"1\"\\t\"0\"\\t\"0\"\\t\"0\"\\t\"0\"\\t\"0\"\\t\"0\"\\t\"0\"\\t\"0\"\\t\"0\"\\t\"0\"\\t\"0\"\\t\"0\"\\t\"0\"\\t\"0\"\\t\"0\"\\t\"0\"\\t\"0\"\\t\"0\"\\t\"0\"\\t\"0\"\\t\"0\"\\t\"0\"\\t\"0\"\\t\"0\"\\t\"0\"\\t\"0\"\\t\"0\"\\t\"0\"\\t\"0\"\\t\"0\"\\t\"0\"\\t\"0\"\\t\"0\"\\t\"0\"\\t\"0\"\\t\"0\"\\t\"0\"\\t\"0\"\\t\"0\"\\t\"0\"\\t\"0\"\\t\"0\"\\t\"0\"\\t\"0\"\\t\"0\"\\t\"0\"\\t\"0\"\\t\"0\"\\t\"0\"\\t\"0\"\\t\"0\"\\t\"0\"\\t\"0\"\\t\"0\"\\t\"0\"\\t\"0\"\\t\"0\"\\t\"0\"\\t\"0\"\\t\"0\"\\t\"0\"\\t\"0\"\\t\"0\"\\t\"0\"\\t\"0\"\\t\"0\"\\t\"0\"\\t\"0\"\\t\"0\"\\t\"0\"\\t\"0\"\\t\"0\"\\t\"0\"\\t\"0\"\\t\"0\"\\t\"0\"\\t\"0\"\\t\"0\"\\t\"0\"\\t\"0\"\\t\"0\"\\t\"0\"\\t\"0\"\\t\"0\"\\t\"0\"\\t\"0\"\\t\"0\"\\t\"0\"\\t\"0\"\\t\"0\"\\t\"0\"\\t\"0\"\\t\"0\"\\t\"0\"\\t\"0\"\\t\"0\"\\t\"0\"\\t\"0\"\\t\"0\"\\t\"0\"\\t\"0\"\\t\"0\"\\t\"0\"\\t\"0\"\\t\"0\"\\t\"0\"\\t\"0\"\\t\"0\"\\t\"0\"\\t\"0\"\\t\"0\"\\t\"0\"\\t\"0\"\\t\"0\"\\t\"0\"\\t\"0\"\\t\"0\"\\t\"0\"\\t\"0\"\\t\"0\"\\t\"0\"\\t\"0\"\\t\"0\"\\t\"0\"\\t\"0\"\\t\"0\"\\t\"0\"\\t\"0\"\\t\"0\"\\t\"0\"\\t\"0\"\\t\"0\"\\t\"0\"\\t\"0\"\\t\"0\"\\t\"0\"\\t\"0\"\\t\"0\"\\t\"0\"\\t\"0\"\\t\"0\"\\t\"0\"\\t\"0\"\\t\"0\"']\n",
      "2025-08-16 19:01:54,623 - WARNING - Une seule colonne détectée, tentative de parsing alternatif...\n",
      "2025-08-16 19:01:54,901 - INFO - Parsing réussi avec séparateur '\t': 1558 colonnes\n",
      "2025-08-16 19:01:54,901 - INFO - Structure finale après parsing : 820 lignes, 1558 colonnes\n",
      "2025-08-16 19:01:54,901 - INFO - Colonnes finales : ['X1', 'X2', 'X3', 'X4', 'X5', 'X6', 'X7', 'X8', 'X9', 'X10', 'X11', 'X12', 'X13', 'X14', 'X15', 'X16', 'X17', 'X18', 'X19', 'X20', 'X21', 'X22', 'X23', 'X24', 'X25', 'X26', 'X27', 'X28', 'X29', 'X30', 'X31', 'X32', 'X33', 'X34', 'X35', 'X36', 'X37', 'X38', 'X39', 'X40', 'X41', 'X42', 'X43', 'X44', 'X45', 'X46', 'X47', 'X48', 'X49', 'X50', 'X51', 'X52', 'X53', 'X54', 'X55', 'X56', 'X57', 'X58', 'X59', 'X60', 'X61', 'X62', 'X63', 'X64', 'X65', 'X66', 'X67', 'X68', 'X69', 'X70', 'X71', 'X72', 'X73', 'X74', 'X75', 'X76', 'X77', 'X78', 'X79', 'X80', 'X81', 'X82', 'X83', 'X84', 'X85', 'X86', 'X87', 'X88', 'X89', 'X90', 'X91', 'X92', 'X93', 'X94', 'X95', 'X96', 'X97', 'X98', 'X99', 'X100', 'X101', 'X102', 'X103', 'X104', 'X105', 'X106', 'X107', 'X108', 'X109', 'X110', 'X111', 'X112', 'X113', 'X114', 'X115', 'X116', 'X117', 'X118', 'X119', 'X120', 'X121', 'X122', 'X123', 'X124', 'X125', 'X126', 'X127', 'X128', 'X129', 'X130', 'X131', 'X132', 'X133', 'X134', 'X135', 'X136', 'X137', 'X138', 'X139', 'X140', 'X141', 'X142', 'X143', 'X144', 'X145', 'X146', 'X147', 'X148', 'X149', 'X150', 'X151', 'X152', 'X153', 'X154', 'X155', 'X156', 'X157', 'X158', 'X159', 'X160', 'X161', 'X162', 'X163', 'X164', 'X165', 'X166', 'X167', 'X168', 'X169', 'X170', 'X171', 'X172', 'X173', 'X174', 'X175', 'X176', 'X177', 'X178', 'X179', 'X180', 'X181', 'X182', 'X183', 'X184', 'X185', 'X186', 'X187', 'X188', 'X189', 'X190', 'X191', 'X192', 'X193', 'X194', 'X195', 'X196', 'X197', 'X198', 'X199', 'X200', 'X201', 'X202', 'X203', 'X204', 'X205', 'X206', 'X207', 'X208', 'X209', 'X210', 'X211', 'X212', 'X213', 'X214', 'X215', 'X216', 'X217', 'X218', 'X219', 'X220', 'X221', 'X222', 'X223', 'X224', 'X225', 'X226', 'X227', 'X228', 'X229', 'X230', 'X231', 'X232', 'X233', 'X234', 'X235', 'X236', 'X237', 'X238', 'X239', 'X240', 'X241', 'X242', 'X243', 'X244', 'X245', 'X246', 'X247', 'X248', 'X249', 'X250', 'X251', 'X252', 'X253', 'X254', 'X255', 'X256', 'X257', 'X258', 'X259', 'X260', 'X261', 'X262', 'X263', 'X264', 'X265', 'X266', 'X267', 'X268', 'X269', 'X270', 'X271', 'X272', 'X273', 'X274', 'X275', 'X276', 'X277', 'X278', 'X279', 'X280', 'X281', 'X282', 'X283', 'X284', 'X285', 'X286', 'X287', 'X288', 'X289', 'X290', 'X291', 'X292', 'X293', 'X294', 'X295', 'X296', 'X297', 'X298', 'X299', 'X300', 'X301', 'X302', 'X303', 'X304', 'X305', 'X306', 'X307', 'X308', 'X309', 'X310', 'X311', 'X312', 'X313', 'X314', 'X315', 'X316', 'X317', 'X318', 'X319', 'X320', 'X321', 'X322', 'X323', 'X324', 'X325', 'X326', 'X327', 'X328', 'X329', 'X330', 'X331', 'X332', 'X333', 'X334', 'X335', 'X336', 'X337', 'X338', 'X339', 'X340', 'X341', 'X342', 'X343', 'X344', 'X345', 'X346', 'X347', 'X348', 'X349', 'X350', 'X351', 'X352', 'X353', 'X354', 'X355', 'X356', 'X357', 'X358', 'X359', 'X360', 'X361', 'X362', 'X363', 'X364', 'X365', 'X366', 'X367', 'X368', 'X369', 'X370', 'X371', 'X372', 'X373', 'X374', 'X375', 'X376', 'X377', 'X378', 'X379', 'X380', 'X381', 'X382', 'X383', 'X384', 'X385', 'X386', 'X387', 'X388', 'X389', 'X390', 'X391', 'X392', 'X393', 'X394', 'X395', 'X396', 'X397', 'X398', 'X399', 'X400', 'X401', 'X402', 'X403', 'X404', 'X405', 'X406', 'X407', 'X408', 'X409', 'X410', 'X411', 'X412', 'X413', 'X414', 'X415', 'X416', 'X417', 'X418', 'X419', 'X420', 'X421', 'X422', 'X423', 'X424', 'X425', 'X426', 'X427', 'X428', 'X429', 'X430', 'X431', 'X432', 'X433', 'X434', 'X435', 'X436', 'X437', 'X438', 'X439', 'X440', 'X441', 'X442', 'X443', 'X444', 'X445', 'X446', 'X447', 'X448', 'X449', 'X450', 'X451', 'X452', 'X453', 'X454', 'X455', 'X456', 'X457', 'X458', 'X459', 'X460', 'X461', 'X462', 'X463', 'X464', 'X465', 'X466', 'X467', 'X468', 'X469', 'X470', 'X471', 'X472', 'X473', 'X474', 'X475', 'X476', 'X477', 'X478', 'X479', 'X480', 'X481', 'X482', 'X483', 'X484', 'X485', 'X486', 'X487', 'X488', 'X489', 'X490', 'X491', 'X492', 'X493', 'X494', 'X495', 'X496', 'X497', 'X498', 'X499', 'X500', 'X501', 'X502', 'X503', 'X504', 'X505', 'X506', 'X507', 'X508', 'X509', 'X510', 'X511', 'X512', 'X513', 'X514', 'X515', 'X516', 'X517', 'X518', 'X519', 'X520', 'X521', 'X522', 'X523', 'X524', 'X525', 'X526', 'X527', 'X528', 'X529', 'X530', 'X531', 'X532', 'X533', 'X534', 'X535', 'X536', 'X537', 'X538', 'X539', 'X540', 'X541', 'X542', 'X543', 'X544', 'X545', 'X546', 'X547', 'X548', 'X549', 'X550', 'X551', 'X552', 'X553', 'X554', 'X555', 'X556', 'X557', 'X558', 'X559', 'X560', 'X561', 'X562', 'X563', 'X564', 'X565', 'X566', 'X567', 'X568', 'X569', 'X570', 'X571', 'X572', 'X573', 'X574', 'X575', 'X576', 'X577', 'X578', 'X579', 'X580', 'X581', 'X582', 'X583', 'X584', 'X585', 'X586', 'X587', 'X588', 'X589', 'X590', 'X591', 'X592', 'X593', 'X594', 'X595', 'X596', 'X597', 'X598', 'X599', 'X600', 'X601', 'X602', 'X603', 'X604', 'X605', 'X606', 'X607', 'X608', 'X609', 'X610', 'X611', 'X612', 'X613', 'X614', 'X615', 'X616', 'X617', 'X618', 'X619', 'X620', 'X621', 'X622', 'X623', 'X624', 'X625', 'X626', 'X627', 'X628', 'X629', 'X630', 'X631', 'X632', 'X633', 'X634', 'X635', 'X636', 'X637', 'X638', 'X639', 'X640', 'X641', 'X642', 'X643', 'X644', 'X645', 'X646', 'X647', 'X648', 'X649', 'X650', 'X651', 'X652', 'X653', 'X654', 'X655', 'X656', 'X657', 'X658', 'X659', 'X660', 'X661', 'X662', 'X663', 'X664', 'X665', 'X666', 'X667', 'X668', 'X669', 'X670', 'X671', 'X672', 'X673', 'X674', 'X675', 'X676', 'X677', 'X678', 'X679', 'X680', 'X681', 'X682', 'X683', 'X684', 'X685', 'X686', 'X687', 'X688', 'X689', 'X690', 'X691', 'X692', 'X693', 'X694', 'X695', 'X696', 'X697', 'X698', 'X699', 'X700', 'X701', 'X702', 'X703', 'X704', 'X705', 'X706', 'X707', 'X708', 'X709', 'X710', 'X711', 'X712', 'X713', 'X714', 'X715', 'X716', 'X717', 'X718', 'X719', 'X720', 'X721', 'X722', 'X723', 'X724', 'X725', 'X726', 'X727', 'X728', 'X729', 'X730', 'X731', 'X732', 'X733', 'X734', 'X735', 'X736', 'X737', 'X738', 'X739', 'X740', 'X741', 'X742', 'X743', 'X744', 'X745', 'X746', 'X747', 'X748', 'X749', 'X750', 'X751', 'X752', 'X753', 'X754', 'X755', 'X756', 'X757', 'X758', 'X759', 'X760', 'X761', 'X762', 'X763', 'X764', 'X765', 'X766', 'X767', 'X768', 'X769', 'X770', 'X771', 'X772', 'X773', 'X774', 'X775', 'X776', 'X777', 'X778', 'X779', 'X780', 'X781', 'X782', 'X783', 'X784', 'X785', 'X786', 'X787', 'X788', 'X789', 'X790', 'X791', 'X792', 'X793', 'X794', 'X795', 'X796', 'X797', 'X798', 'X799', 'X800', 'X801', 'X802', 'X803', 'X804', 'X805', 'X806', 'X807', 'X808', 'X809', 'X810', 'X811', 'X812', 'X813', 'X814', 'X815', 'X816', 'X817', 'X818', 'X819', 'X820', 'X821', 'X822', 'X823', 'X824', 'X825', 'X826', 'X827', 'X828', 'X829', 'X830', 'X831', 'X832', 'X833', 'X834', 'X835', 'X836', 'X837', 'X838', 'X839', 'X840', 'X841', 'X842', 'X843', 'X844', 'X845', 'X846', 'X847', 'X848', 'X849', 'X850', 'X851', 'X852', 'X853', 'X854', 'X855', 'X856', 'X857', 'X858', 'X859', 'X860', 'X861', 'X862', 'X863', 'X864', 'X865', 'X866', 'X867', 'X868', 'X869', 'X870', 'X871', 'X872', 'X873', 'X874', 'X875', 'X876', 'X877', 'X878', 'X879', 'X880', 'X881', 'X882', 'X883', 'X884', 'X885', 'X886', 'X887', 'X888', 'X889', 'X890', 'X891', 'X892', 'X893', 'X894', 'X895', 'X896', 'X897', 'X898', 'X899', 'X900', 'X901', 'X902', 'X903', 'X904', 'X905', 'X906', 'X907', 'X908', 'X909', 'X910', 'X911', 'X912', 'X913', 'X914', 'X915', 'X916', 'X917', 'X918', 'X919', 'X920', 'X921', 'X922', 'X923', 'X924', 'X925', 'X926', 'X927', 'X928', 'X929', 'X930', 'X931', 'X932', 'X933', 'X934', 'X935', 'X936', 'X937', 'X938', 'X939', 'X940', 'X941', 'X942', 'X943', 'X944', 'X945', 'X946', 'X947', 'X948', 'X949', 'X950', 'X951', 'X952', 'X953', 'X954', 'X955', 'X956', 'X957', 'X958', 'X959', 'X960', 'X961', 'X962', 'X963', 'X964', 'X965', 'X966', 'X967', 'X968', 'X969', 'X970', 'X971', 'X972', 'X973', 'X974', 'X975', 'X976', 'X977', 'X978', 'X979', 'X980', 'X981', 'X982', 'X983', 'X984', 'X985', 'X986', 'X987', 'X988', 'X989', 'X990', 'X991', 'X992', 'X993', 'X994', 'X995', 'X996', 'X997', 'X998', 'X999', 'X1000', 'X1001', 'X1002', 'X1003', 'X1004', 'X1005', 'X1006', 'X1007', 'X1008', 'X1009', 'X1010', 'X1011', 'X1012', 'X1013', 'X1014', 'X1015', 'X1016', 'X1017', 'X1018', 'X1019', 'X1020', 'X1021', 'X1022', 'X1023', 'X1024', 'X1025', 'X1026', 'X1027', 'X1028', 'X1029', 'X1030', 'X1031', 'X1032', 'X1033', 'X1034', 'X1035', 'X1036', 'X1037', 'X1038', 'X1039', 'X1040', 'X1041', 'X1042', 'X1043', 'X1044', 'X1045', 'X1046', 'X1047', 'X1048', 'X1049', 'X1050', 'X1051', 'X1052', 'X1053', 'X1054', 'X1055', 'X1056', 'X1057', 'X1058', 'X1059', 'X1060', 'X1061', 'X1062', 'X1063', 'X1064', 'X1065', 'X1066', 'X1067', 'X1068', 'X1069', 'X1070', 'X1071', 'X1072', 'X1073', 'X1074', 'X1075', 'X1076', 'X1077', 'X1078', 'X1079', 'X1080', 'X1081', 'X1082', 'X1083', 'X1084', 'X1085', 'X1086', 'X1087', 'X1088', 'X1089', 'X1090', 'X1091', 'X1092', 'X1093', 'X1094', 'X1095', 'X1096', 'X1097', 'X1098', 'X1099', 'X1100', 'X1101', 'X1102', 'X1103', 'X1104', 'X1105', 'X1106', 'X1107', 'X1108', 'X1109', 'X1110', 'X1111', 'X1112', 'X1113', 'X1114', 'X1115', 'X1116', 'X1117', 'X1118', 'X1119', 'X1120', 'X1121', 'X1122', 'X1123', 'X1124', 'X1125', 'X1126', 'X1127', 'X1128', 'X1129', 'X1130', 'X1131', 'X1132', 'X1133', 'X1134', 'X1135', 'X1136', 'X1137', 'X1138', 'X1139', 'X1140', 'X1141', 'X1142', 'X1143', 'X1144', 'X1145', 'X1146', 'X1147', 'X1148', 'X1149', 'X1150', 'X1151', 'X1152', 'X1153', 'X1154', 'X1155', 'X1156', 'X1157', 'X1158', 'X1159', 'X1160', 'X1161', 'X1162', 'X1163', 'X1164', 'X1165', 'X1166', 'X1167', 'X1168', 'X1169', 'X1170', 'X1171', 'X1172', 'X1173', 'X1174', 'X1175', 'X1176', 'X1177', 'X1178', 'X1179', 'X1180', 'X1181', 'X1182', 'X1183', 'X1184', 'X1185', 'X1186', 'X1187', 'X1188', 'X1189', 'X1190', 'X1191', 'X1192', 'X1193', 'X1194', 'X1195', 'X1196', 'X1197', 'X1198', 'X1199', 'X1200', 'X1201', 'X1202', 'X1203', 'X1204', 'X1205', 'X1206', 'X1207', 'X1208', 'X1209', 'X1210', 'X1211', 'X1212', 'X1213', 'X1214', 'X1215', 'X1216', 'X1217', 'X1218', 'X1219', 'X1220', 'X1221', 'X1222', 'X1223', 'X1224', 'X1225', 'X1226', 'X1227', 'X1228', 'X1229', 'X1230', 'X1231', 'X1232', 'X1233', 'X1234', 'X1235', 'X1236', 'X1237', 'X1238', 'X1239', 'X1240', 'X1241', 'X1242', 'X1243', 'X1244', 'X1245', 'X1246', 'X1247', 'X1248', 'X1249', 'X1250', 'X1251', 'X1252', 'X1253', 'X1254', 'X1255', 'X1256', 'X1257', 'X1258', 'X1259', 'X1260', 'X1261', 'X1262', 'X1263', 'X1264', 'X1265', 'X1266', 'X1267', 'X1268', 'X1269', 'X1270', 'X1271', 'X1272', 'X1273', 'X1274', 'X1275', 'X1276', 'X1277', 'X1278', 'X1279', 'X1280', 'X1281', 'X1282', 'X1283', 'X1284', 'X1285', 'X1286', 'X1287', 'X1288', 'X1289', 'X1290', 'X1291', 'X1292', 'X1293', 'X1294', 'X1295', 'X1296', 'X1297', 'X1298', 'X1299', 'X1300', 'X1301', 'X1302', 'X1303', 'X1304', 'X1305', 'X1306', 'X1307', 'X1308', 'X1309', 'X1310', 'X1311', 'X1312', 'X1313', 'X1314', 'X1315', 'X1316', 'X1317', 'X1318', 'X1319', 'X1320', 'X1321', 'X1322', 'X1323', 'X1324', 'X1325', 'X1326', 'X1327', 'X1328', 'X1329', 'X1330', 'X1331', 'X1332', 'X1333', 'X1334', 'X1335', 'X1336', 'X1337', 'X1338', 'X1339', 'X1340', 'X1341', 'X1342', 'X1343', 'X1344', 'X1345', 'X1346', 'X1347', 'X1348', 'X1349', 'X1350', 'X1351', 'X1352', 'X1353', 'X1354', 'X1355', 'X1356', 'X1357', 'X1358', 'X1359', 'X1360', 'X1361', 'X1362', 'X1363', 'X1364', 'X1365', 'X1366', 'X1367', 'X1368', 'X1369', 'X1370', 'X1371', 'X1372', 'X1373', 'X1374', 'X1375', 'X1376', 'X1377', 'X1378', 'X1379', 'X1380', 'X1381', 'X1382', 'X1383', 'X1384', 'X1385', 'X1386', 'X1387', 'X1388', 'X1389', 'X1390', 'X1391', 'X1392', 'X1393', 'X1394', 'X1395', 'X1396', 'X1397', 'X1398', 'X1399', 'X1400', 'X1401', 'X1402', 'X1403', 'X1404', 'X1405', 'X1406', 'X1407', 'X1408', 'X1409', 'X1410', 'X1411', 'X1412', 'X1413', 'X1414', 'X1415', 'X1416', 'X1417', 'X1418', 'X1419', 'X1420', 'X1421', 'X1422', 'X1423', 'X1424', 'X1425', 'X1426', 'X1427', 'X1428', 'X1429', 'X1430', 'X1431', 'X1432', 'X1433', 'X1434', 'X1435', 'X1436', 'X1437', 'X1438', 'X1439', 'X1440', 'X1441', 'X1442', 'X1443', 'X1444', 'X1445', 'X1446', 'X1447', 'X1448', 'X1449', 'X1450', 'X1451', 'X1452', 'X1453', 'X1454', 'X1455', 'X1456', 'X1457', 'X1458', 'X1459', 'X1460', 'X1461', 'X1462', 'X1463', 'X1464', 'X1465', 'X1466', 'X1467', 'X1468', 'X1469', 'X1470', 'X1471', 'X1472', 'X1473', 'X1474', 'X1475', 'X1476', 'X1477', 'X1478', 'X1479', 'X1480', 'X1481', 'X1482', 'X1483', 'X1484', 'X1485', 'X1486', 'X1487', 'X1488', 'X1489', 'X1490', 'X1491', 'X1492', 'X1493', 'X1494', 'X1495', 'X1496', 'X1497', 'X1498', 'X1499', 'X1500', 'X1501', 'X1502', 'X1503', 'X1504', 'X1505', 'X1506', 'X1507', 'X1508', 'X1509', 'X1510', 'X1511', 'X1512', 'X1513', 'X1514', 'X1515', 'X1516', 'X1517', 'X1518', 'X1519', 'X1520', 'X1521', 'X1522', 'X1523', 'X1524', 'X1525', 'X1526', 'X1527', 'X1528', 'X1529', 'X1530', 'X1531', 'X1532', 'X1533', 'X1534', 'X1535', 'X1536', 'X1537', 'X1538', 'X1539', 'X1540', 'X1541', 'X1542', 'X1543', 'X1544', 'X1545', 'X1546', 'X1547', 'X1548', 'X1549', 'X1550', 'X1551', 'X1552', 'X1553', 'X1554', 'X1555', 'X1556', 'X1557', 'X1558']\n",
      "2025-08-16 19:01:55,319 - INFO - Colonnes numériques converties : 1558\n",
      "2025-08-16 19:01:55,669 - WARNING - Colonnes avec NaN après conversion : ['X1: 229 NaN', 'X2: 228 NaN', 'X3: 231 NaN', 'X4: 4 NaN']\n",
      "2025-08-16 19:01:55,669 - INFO - Application du prétraitement notebook 1 avec KNN...\n",
      "2025-08-16 19:01:55,711 - INFO - Validation des types de données avant preprocessing...\n",
      "2025-08-16 19:01:55,776 - INFO - Types après validation : {'X1': dtype('float64'), 'X2': dtype('float64'), 'X3': dtype('float64'), 'X4': dtype('float64'), 'X5': dtype('int64'), 'X6': dtype('int64'), 'X7': dtype('int64'), 'X8': dtype('int64'), 'X9': dtype('int64'), 'X10': dtype('int64'), 'X11': dtype('int64'), 'X12': dtype('int64'), 'X13': dtype('int64'), 'X14': dtype('int64'), 'X15': dtype('int64'), 'X16': dtype('int64'), 'X17': dtype('int64'), 'X18': dtype('int64'), 'X19': dtype('int64'), 'X20': dtype('int64'), 'X21': dtype('int64'), 'X22': dtype('int64'), 'X23': dtype('int64'), 'X24': dtype('int64'), 'X25': dtype('int64'), 'X26': dtype('int64'), 'X27': dtype('int64'), 'X28': dtype('int64'), 'X29': dtype('int64'), 'X30': dtype('int64'), 'X31': dtype('int64'), 'X32': dtype('int64'), 'X33': dtype('int64'), 'X34': dtype('int64'), 'X35': dtype('int64'), 'X36': dtype('int64'), 'X37': dtype('int64'), 'X38': dtype('int64'), 'X39': dtype('int64'), 'X40': dtype('int64'), 'X41': dtype('int64'), 'X42': dtype('int64'), 'X43': dtype('int64'), 'X44': dtype('int64'), 'X45': dtype('int64'), 'X46': dtype('int64'), 'X47': dtype('int64'), 'X48': dtype('int64'), 'X49': dtype('int64'), 'X50': dtype('int64'), 'X51': dtype('int64'), 'X52': dtype('int64'), 'X53': dtype('int64'), 'X54': dtype('int64'), 'X55': dtype('int64'), 'X56': dtype('int64'), 'X57': dtype('int64'), 'X58': dtype('int64'), 'X59': dtype('int64'), 'X60': dtype('int64'), 'X61': dtype('int64'), 'X62': dtype('int64'), 'X63': dtype('int64'), 'X64': dtype('int64'), 'X65': dtype('int64'), 'X66': dtype('int64'), 'X67': dtype('int64'), 'X68': dtype('int64'), 'X69': dtype('int64'), 'X70': dtype('int64'), 'X71': dtype('int64'), 'X72': dtype('int64'), 'X73': dtype('int64'), 'X74': dtype('int64'), 'X75': dtype('int64'), 'X76': dtype('int64'), 'X77': dtype('int64'), 'X78': dtype('int64'), 'X79': dtype('int64'), 'X80': dtype('int64'), 'X81': dtype('int64'), 'X82': dtype('int64'), 'X83': dtype('int64'), 'X84': dtype('int64'), 'X85': dtype('int64'), 'X86': dtype('int64'), 'X87': dtype('int64'), 'X88': dtype('int64'), 'X89': dtype('int64'), 'X90': dtype('int64'), 'X91': dtype('int64'), 'X92': dtype('int64'), 'X93': dtype('int64'), 'X94': dtype('int64'), 'X95': dtype('int64'), 'X96': dtype('int64'), 'X97': dtype('int64'), 'X98': dtype('int64'), 'X99': dtype('int64'), 'X100': dtype('int64'), 'X101': dtype('int64'), 'X102': dtype('int64'), 'X103': dtype('int64'), 'X104': dtype('int64'), 'X105': dtype('int64'), 'X106': dtype('int64'), 'X107': dtype('int64'), 'X108': dtype('int64'), 'X109': dtype('int64'), 'X110': dtype('int64'), 'X111': dtype('int64'), 'X112': dtype('int64'), 'X113': dtype('int64'), 'X114': dtype('int64'), 'X115': dtype('int64'), 'X116': dtype('int64'), 'X117': dtype('int64'), 'X118': dtype('int64'), 'X119': dtype('int64'), 'X120': dtype('int64'), 'X121': dtype('int64'), 'X122': dtype('int64'), 'X123': dtype('int64'), 'X124': dtype('int64'), 'X125': dtype('int64'), 'X126': dtype('int64'), 'X127': dtype('int64'), 'X128': dtype('int64'), 'X129': dtype('int64'), 'X130': dtype('int64'), 'X131': dtype('int64'), 'X132': dtype('int64'), 'X133': dtype('int64'), 'X134': dtype('int64'), 'X135': dtype('int64'), 'X136': dtype('int64'), 'X137': dtype('int64'), 'X138': dtype('int64'), 'X139': dtype('int64'), 'X140': dtype('int64'), 'X141': dtype('int64'), 'X142': dtype('int64'), 'X143': dtype('int64'), 'X144': dtype('int64'), 'X145': dtype('int64'), 'X146': dtype('int64'), 'X147': dtype('int64'), 'X148': dtype('int64'), 'X149': dtype('int64'), 'X150': dtype('int64'), 'X151': dtype('int64'), 'X152': dtype('int64'), 'X153': dtype('int64'), 'X154': dtype('int64'), 'X155': dtype('int64'), 'X156': dtype('int64'), 'X157': dtype('int64'), 'X158': dtype('int64'), 'X159': dtype('int64'), 'X160': dtype('int64'), 'X161': dtype('int64'), 'X162': dtype('int64'), 'X163': dtype('int64'), 'X164': dtype('int64'), 'X165': dtype('int64'), 'X166': dtype('int64'), 'X167': dtype('int64'), 'X168': dtype('int64'), 'X169': dtype('int64'), 'X170': dtype('int64'), 'X171': dtype('int64'), 'X172': dtype('int64'), 'X173': dtype('int64'), 'X174': dtype('int64'), 'X175': dtype('int64'), 'X176': dtype('int64'), 'X177': dtype('int64'), 'X178': dtype('int64'), 'X179': dtype('int64'), 'X180': dtype('int64'), 'X181': dtype('int64'), 'X182': dtype('int64'), 'X183': dtype('int64'), 'X184': dtype('int64'), 'X185': dtype('int64'), 'X186': dtype('int64'), 'X187': dtype('int64'), 'X188': dtype('int64'), 'X189': dtype('int64'), 'X190': dtype('int64'), 'X191': dtype('int64'), 'X192': dtype('int64'), 'X193': dtype('int64'), 'X194': dtype('int64'), 'X195': dtype('int64'), 'X196': dtype('int64'), 'X197': dtype('int64'), 'X198': dtype('int64'), 'X199': dtype('int64'), 'X200': dtype('int64'), 'X201': dtype('int64'), 'X202': dtype('int64'), 'X203': dtype('int64'), 'X204': dtype('int64'), 'X205': dtype('int64'), 'X206': dtype('int64'), 'X207': dtype('int64'), 'X208': dtype('int64'), 'X209': dtype('int64'), 'X210': dtype('int64'), 'X211': dtype('int64'), 'X212': dtype('int64'), 'X213': dtype('int64'), 'X214': dtype('int64'), 'X215': dtype('int64'), 'X216': dtype('int64'), 'X217': dtype('int64'), 'X218': dtype('int64'), 'X219': dtype('int64'), 'X220': dtype('int64'), 'X221': dtype('int64'), 'X222': dtype('int64'), 'X223': dtype('int64'), 'X224': dtype('int64'), 'X225': dtype('int64'), 'X226': dtype('int64'), 'X227': dtype('int64'), 'X228': dtype('int64'), 'X229': dtype('int64'), 'X230': dtype('int64'), 'X231': dtype('int64'), 'X232': dtype('int64'), 'X233': dtype('int64'), 'X234': dtype('int64'), 'X235': dtype('int64'), 'X236': dtype('int64'), 'X237': dtype('int64'), 'X238': dtype('int64'), 'X239': dtype('int64'), 'X240': dtype('int64'), 'X241': dtype('int64'), 'X242': dtype('int64'), 'X243': dtype('int64'), 'X244': dtype('int64'), 'X245': dtype('int64'), 'X246': dtype('int64'), 'X247': dtype('int64'), 'X248': dtype('int64'), 'X249': dtype('int64'), 'X250': dtype('int64'), 'X251': dtype('int64'), 'X252': dtype('int64'), 'X253': dtype('int64'), 'X254': dtype('int64'), 'X255': dtype('int64'), 'X256': dtype('int64'), 'X257': dtype('int64'), 'X258': dtype('int64'), 'X259': dtype('int64'), 'X260': dtype('int64'), 'X261': dtype('int64'), 'X262': dtype('int64'), 'X263': dtype('int64'), 'X264': dtype('int64'), 'X265': dtype('int64'), 'X266': dtype('int64'), 'X267': dtype('int64'), 'X268': dtype('int64'), 'X269': dtype('int64'), 'X270': dtype('int64'), 'X271': dtype('int64'), 'X272': dtype('int64'), 'X273': dtype('int64'), 'X274': dtype('int64'), 'X275': dtype('int64'), 'X276': dtype('int64'), 'X277': dtype('int64'), 'X278': dtype('int64'), 'X279': dtype('int64'), 'X280': dtype('int64'), 'X281': dtype('int64'), 'X282': dtype('int64'), 'X283': dtype('int64'), 'X284': dtype('int64'), 'X285': dtype('int64'), 'X286': dtype('int64'), 'X287': dtype('int64'), 'X288': dtype('int64'), 'X289': dtype('int64'), 'X290': dtype('int64'), 'X291': dtype('int64'), 'X292': dtype('int64'), 'X293': dtype('int64'), 'X294': dtype('int64'), 'X295': dtype('int64'), 'X296': dtype('int64'), 'X297': dtype('int64'), 'X298': dtype('int64'), 'X299': dtype('int64'), 'X300': dtype('int64'), 'X301': dtype('int64'), 'X302': dtype('int64'), 'X303': dtype('int64'), 'X304': dtype('int64'), 'X305': dtype('int64'), 'X306': dtype('int64'), 'X307': dtype('int64'), 'X308': dtype('int64'), 'X309': dtype('int64'), 'X310': dtype('int64'), 'X311': dtype('int64'), 'X312': dtype('int64'), 'X313': dtype('int64'), 'X314': dtype('int64'), 'X315': dtype('int64'), 'X316': dtype('int64'), 'X317': dtype('int64'), 'X318': dtype('int64'), 'X319': dtype('int64'), 'X320': dtype('int64'), 'X321': dtype('int64'), 'X322': dtype('int64'), 'X323': dtype('int64'), 'X324': dtype('int64'), 'X325': dtype('int64'), 'X326': dtype('int64'), 'X327': dtype('int64'), 'X328': dtype('int64'), 'X329': dtype('int64'), 'X330': dtype('int64'), 'X331': dtype('int64'), 'X332': dtype('int64'), 'X333': dtype('int64'), 'X334': dtype('int64'), 'X335': dtype('int64'), 'X336': dtype('int64'), 'X337': dtype('int64'), 'X338': dtype('int64'), 'X339': dtype('int64'), 'X340': dtype('int64'), 'X341': dtype('int64'), 'X342': dtype('int64'), 'X343': dtype('int64'), 'X344': dtype('int64'), 'X345': dtype('int64'), 'X346': dtype('int64'), 'X347': dtype('int64'), 'X348': dtype('int64'), 'X349': dtype('int64'), 'X350': dtype('int64'), 'X351': dtype('int64'), 'X352': dtype('int64'), 'X353': dtype('int64'), 'X354': dtype('int64'), 'X355': dtype('int64'), 'X356': dtype('int64'), 'X357': dtype('int64'), 'X358': dtype('int64'), 'X359': dtype('int64'), 'X360': dtype('int64'), 'X361': dtype('int64'), 'X362': dtype('int64'), 'X363': dtype('int64'), 'X364': dtype('int64'), 'X365': dtype('int64'), 'X366': dtype('int64'), 'X367': dtype('int64'), 'X368': dtype('int64'), 'X369': dtype('int64'), 'X370': dtype('int64'), 'X371': dtype('int64'), 'X372': dtype('int64'), 'X373': dtype('int64'), 'X374': dtype('int64'), 'X375': dtype('int64'), 'X376': dtype('int64'), 'X377': dtype('int64'), 'X378': dtype('int64'), 'X379': dtype('int64'), 'X380': dtype('int64'), 'X381': dtype('int64'), 'X382': dtype('int64'), 'X383': dtype('int64'), 'X384': dtype('int64'), 'X385': dtype('int64'), 'X386': dtype('int64'), 'X387': dtype('int64'), 'X388': dtype('int64'), 'X389': dtype('int64'), 'X390': dtype('int64'), 'X391': dtype('int64'), 'X392': dtype('int64'), 'X393': dtype('int64'), 'X394': dtype('int64'), 'X395': dtype('int64'), 'X396': dtype('int64'), 'X397': dtype('int64'), 'X398': dtype('int64'), 'X399': dtype('int64'), 'X400': dtype('int64'), 'X401': dtype('int64'), 'X402': dtype('int64'), 'X403': dtype('int64'), 'X404': dtype('int64'), 'X405': dtype('int64'), 'X406': dtype('int64'), 'X407': dtype('int64'), 'X408': dtype('int64'), 'X409': dtype('int64'), 'X410': dtype('int64'), 'X411': dtype('int64'), 'X412': dtype('int64'), 'X413': dtype('int64'), 'X414': dtype('int64'), 'X415': dtype('int64'), 'X416': dtype('int64'), 'X417': dtype('int64'), 'X418': dtype('int64'), 'X419': dtype('int64'), 'X420': dtype('int64'), 'X421': dtype('int64'), 'X422': dtype('int64'), 'X423': dtype('int64'), 'X424': dtype('int64'), 'X425': dtype('int64'), 'X426': dtype('int64'), 'X427': dtype('int64'), 'X428': dtype('int64'), 'X429': dtype('int64'), 'X430': dtype('int64'), 'X431': dtype('int64'), 'X432': dtype('int64'), 'X433': dtype('int64'), 'X434': dtype('int64'), 'X435': dtype('int64'), 'X436': dtype('int64'), 'X437': dtype('int64'), 'X438': dtype('int64'), 'X439': dtype('int64'), 'X440': dtype('int64'), 'X441': dtype('int64'), 'X442': dtype('int64'), 'X443': dtype('int64'), 'X444': dtype('int64'), 'X445': dtype('int64'), 'X446': dtype('int64'), 'X447': dtype('int64'), 'X448': dtype('int64'), 'X449': dtype('int64'), 'X450': dtype('int64'), 'X451': dtype('int64'), 'X452': dtype('int64'), 'X453': dtype('int64'), 'X454': dtype('int64'), 'X455': dtype('int64'), 'X456': dtype('int64'), 'X457': dtype('int64'), 'X458': dtype('int64'), 'X459': dtype('int64'), 'X460': dtype('int64'), 'X461': dtype('int64'), 'X462': dtype('int64'), 'X463': dtype('int64'), 'X464': dtype('int64'), 'X465': dtype('int64'), 'X466': dtype('int64'), 'X467': dtype('int64'), 'X468': dtype('int64'), 'X469': dtype('int64'), 'X470': dtype('int64'), 'X471': dtype('int64'), 'X472': dtype('int64'), 'X473': dtype('int64'), 'X474': dtype('int64'), 'X475': dtype('int64'), 'X476': dtype('int64'), 'X477': dtype('int64'), 'X478': dtype('int64'), 'X479': dtype('int64'), 'X480': dtype('int64'), 'X481': dtype('int64'), 'X482': dtype('int64'), 'X483': dtype('int64'), 'X484': dtype('int64'), 'X485': dtype('int64'), 'X486': dtype('int64'), 'X487': dtype('int64'), 'X488': dtype('int64'), 'X489': dtype('int64'), 'X490': dtype('int64'), 'X491': dtype('int64'), 'X492': dtype('int64'), 'X493': dtype('int64'), 'X494': dtype('int64'), 'X495': dtype('int64'), 'X496': dtype('int64'), 'X497': dtype('int64'), 'X498': dtype('int64'), 'X499': dtype('int64'), 'X500': dtype('int64'), 'X501': dtype('int64'), 'X502': dtype('int64'), 'X503': dtype('int64'), 'X504': dtype('int64'), 'X505': dtype('int64'), 'X506': dtype('int64'), 'X507': dtype('int64'), 'X508': dtype('int64'), 'X509': dtype('int64'), 'X510': dtype('int64'), 'X511': dtype('int64'), 'X512': dtype('int64'), 'X513': dtype('int64'), 'X514': dtype('int64'), 'X515': dtype('int64'), 'X516': dtype('int64'), 'X517': dtype('int64'), 'X518': dtype('int64'), 'X519': dtype('int64'), 'X520': dtype('int64'), 'X521': dtype('int64'), 'X522': dtype('int64'), 'X523': dtype('int64'), 'X524': dtype('int64'), 'X525': dtype('int64'), 'X526': dtype('int64'), 'X527': dtype('int64'), 'X528': dtype('int64'), 'X529': dtype('int64'), 'X530': dtype('int64'), 'X531': dtype('int64'), 'X532': dtype('int64'), 'X533': dtype('int64'), 'X534': dtype('int64'), 'X535': dtype('int64'), 'X536': dtype('int64'), 'X537': dtype('int64'), 'X538': dtype('int64'), 'X539': dtype('int64'), 'X540': dtype('int64'), 'X541': dtype('int64'), 'X542': dtype('int64'), 'X543': dtype('int64'), 'X544': dtype('int64'), 'X545': dtype('int64'), 'X546': dtype('int64'), 'X547': dtype('int64'), 'X548': dtype('int64'), 'X549': dtype('int64'), 'X550': dtype('int64'), 'X551': dtype('int64'), 'X552': dtype('int64'), 'X553': dtype('int64'), 'X554': dtype('int64'), 'X555': dtype('int64'), 'X556': dtype('int64'), 'X557': dtype('int64'), 'X558': dtype('int64'), 'X559': dtype('int64'), 'X560': dtype('int64'), 'X561': dtype('int64'), 'X562': dtype('int64'), 'X563': dtype('int64'), 'X564': dtype('int64'), 'X565': dtype('int64'), 'X566': dtype('int64'), 'X567': dtype('int64'), 'X568': dtype('int64'), 'X569': dtype('int64'), 'X570': dtype('int64'), 'X571': dtype('int64'), 'X572': dtype('int64'), 'X573': dtype('int64'), 'X574': dtype('int64'), 'X575': dtype('int64'), 'X576': dtype('int64'), 'X577': dtype('int64'), 'X578': dtype('int64'), 'X579': dtype('int64'), 'X580': dtype('int64'), 'X581': dtype('int64'), 'X582': dtype('int64'), 'X583': dtype('int64'), 'X584': dtype('int64'), 'X585': dtype('int64'), 'X586': dtype('int64'), 'X587': dtype('int64'), 'X588': dtype('int64'), 'X589': dtype('int64'), 'X590': dtype('int64'), 'X591': dtype('int64'), 'X592': dtype('int64'), 'X593': dtype('int64'), 'X594': dtype('int64'), 'X595': dtype('int64'), 'X596': dtype('int64'), 'X597': dtype('int64'), 'X598': dtype('int64'), 'X599': dtype('int64'), 'X600': dtype('int64'), 'X601': dtype('int64'), 'X602': dtype('int64'), 'X603': dtype('int64'), 'X604': dtype('int64'), 'X605': dtype('int64'), 'X606': dtype('int64'), 'X607': dtype('int64'), 'X608': dtype('int64'), 'X609': dtype('int64'), 'X610': dtype('int64'), 'X611': dtype('int64'), 'X612': dtype('int64'), 'X613': dtype('int64'), 'X614': dtype('int64'), 'X615': dtype('int64'), 'X616': dtype('int64'), 'X617': dtype('int64'), 'X618': dtype('int64'), 'X619': dtype('int64'), 'X620': dtype('int64'), 'X621': dtype('int64'), 'X622': dtype('int64'), 'X623': dtype('int64'), 'X624': dtype('int64'), 'X625': dtype('int64'), 'X626': dtype('int64'), 'X627': dtype('int64'), 'X628': dtype('int64'), 'X629': dtype('int64'), 'X630': dtype('int64'), 'X631': dtype('int64'), 'X632': dtype('int64'), 'X633': dtype('int64'), 'X634': dtype('int64'), 'X635': dtype('int64'), 'X636': dtype('int64'), 'X637': dtype('int64'), 'X638': dtype('int64'), 'X639': dtype('int64'), 'X640': dtype('int64'), 'X641': dtype('int64'), 'X642': dtype('int64'), 'X643': dtype('int64'), 'X644': dtype('int64'), 'X645': dtype('int64'), 'X646': dtype('int64'), 'X647': dtype('int64'), 'X648': dtype('int64'), 'X649': dtype('int64'), 'X650': dtype('int64'), 'X651': dtype('int64'), 'X652': dtype('int64'), 'X653': dtype('int64'), 'X654': dtype('int64'), 'X655': dtype('int64'), 'X656': dtype('int64'), 'X657': dtype('int64'), 'X658': dtype('int64'), 'X659': dtype('int64'), 'X660': dtype('int64'), 'X661': dtype('int64'), 'X662': dtype('int64'), 'X663': dtype('int64'), 'X664': dtype('int64'), 'X665': dtype('int64'), 'X666': dtype('int64'), 'X667': dtype('int64'), 'X668': dtype('int64'), 'X669': dtype('int64'), 'X670': dtype('int64'), 'X671': dtype('int64'), 'X672': dtype('int64'), 'X673': dtype('int64'), 'X674': dtype('int64'), 'X675': dtype('int64'), 'X676': dtype('int64'), 'X677': dtype('int64'), 'X678': dtype('int64'), 'X679': dtype('int64'), 'X680': dtype('int64'), 'X681': dtype('int64'), 'X682': dtype('int64'), 'X683': dtype('int64'), 'X684': dtype('int64'), 'X685': dtype('int64'), 'X686': dtype('int64'), 'X687': dtype('int64'), 'X688': dtype('int64'), 'X689': dtype('int64'), 'X690': dtype('int64'), 'X691': dtype('int64'), 'X692': dtype('int64'), 'X693': dtype('int64'), 'X694': dtype('int64'), 'X695': dtype('int64'), 'X696': dtype('int64'), 'X697': dtype('int64'), 'X698': dtype('int64'), 'X699': dtype('int64'), 'X700': dtype('int64'), 'X701': dtype('int64'), 'X702': dtype('int64'), 'X703': dtype('int64'), 'X704': dtype('int64'), 'X705': dtype('int64'), 'X706': dtype('int64'), 'X707': dtype('int64'), 'X708': dtype('int64'), 'X709': dtype('int64'), 'X710': dtype('int64'), 'X711': dtype('int64'), 'X712': dtype('int64'), 'X713': dtype('int64'), 'X714': dtype('int64'), 'X715': dtype('int64'), 'X716': dtype('int64'), 'X717': dtype('int64'), 'X718': dtype('int64'), 'X719': dtype('int64'), 'X720': dtype('int64'), 'X721': dtype('int64'), 'X722': dtype('int64'), 'X723': dtype('int64'), 'X724': dtype('int64'), 'X725': dtype('int64'), 'X726': dtype('int64'), 'X727': dtype('int64'), 'X728': dtype('int64'), 'X729': dtype('int64'), 'X730': dtype('int64'), 'X731': dtype('int64'), 'X732': dtype('int64'), 'X733': dtype('int64'), 'X734': dtype('int64'), 'X735': dtype('int64'), 'X736': dtype('int64'), 'X737': dtype('int64'), 'X738': dtype('int64'), 'X739': dtype('int64'), 'X740': dtype('int64'), 'X741': dtype('int64'), 'X742': dtype('int64'), 'X743': dtype('int64'), 'X744': dtype('int64'), 'X745': dtype('int64'), 'X746': dtype('int64'), 'X747': dtype('int64'), 'X748': dtype('int64'), 'X749': dtype('int64'), 'X750': dtype('int64'), 'X751': dtype('int64'), 'X752': dtype('int64'), 'X753': dtype('int64'), 'X754': dtype('int64'), 'X755': dtype('int64'), 'X756': dtype('int64'), 'X757': dtype('int64'), 'X758': dtype('int64'), 'X759': dtype('int64'), 'X760': dtype('int64'), 'X761': dtype('int64'), 'X762': dtype('int64'), 'X763': dtype('int64'), 'X764': dtype('int64'), 'X765': dtype('int64'), 'X766': dtype('int64'), 'X767': dtype('int64'), 'X768': dtype('int64'), 'X769': dtype('int64'), 'X770': dtype('int64'), 'X771': dtype('int64'), 'X772': dtype('int64'), 'X773': dtype('int64'), 'X774': dtype('int64'), 'X775': dtype('int64'), 'X776': dtype('int64'), 'X777': dtype('int64'), 'X778': dtype('int64'), 'X779': dtype('int64'), 'X780': dtype('int64'), 'X781': dtype('int64'), 'X782': dtype('int64'), 'X783': dtype('int64'), 'X784': dtype('int64'), 'X785': dtype('int64'), 'X786': dtype('int64'), 'X787': dtype('int64'), 'X788': dtype('int64'), 'X789': dtype('int64'), 'X790': dtype('int64'), 'X791': dtype('int64'), 'X792': dtype('int64'), 'X793': dtype('int64'), 'X794': dtype('int64'), 'X795': dtype('int64'), 'X796': dtype('int64'), 'X797': dtype('int64'), 'X798': dtype('int64'), 'X799': dtype('int64'), 'X800': dtype('int64'), 'X801': dtype('int64'), 'X802': dtype('int64'), 'X803': dtype('int64'), 'X804': dtype('int64'), 'X805': dtype('int64'), 'X806': dtype('int64'), 'X807': dtype('int64'), 'X808': dtype('int64'), 'X809': dtype('int64'), 'X810': dtype('int64'), 'X811': dtype('int64'), 'X812': dtype('int64'), 'X813': dtype('int64'), 'X814': dtype('int64'), 'X815': dtype('int64'), 'X816': dtype('int64'), 'X817': dtype('int64'), 'X818': dtype('int64'), 'X819': dtype('int64'), 'X820': dtype('int64'), 'X821': dtype('int64'), 'X822': dtype('int64'), 'X823': dtype('int64'), 'X824': dtype('int64'), 'X825': dtype('int64'), 'X826': dtype('int64'), 'X827': dtype('int64'), 'X828': dtype('int64'), 'X829': dtype('int64'), 'X830': dtype('int64'), 'X831': dtype('int64'), 'X832': dtype('int64'), 'X833': dtype('int64'), 'X834': dtype('int64'), 'X835': dtype('int64'), 'X836': dtype('int64'), 'X837': dtype('int64'), 'X838': dtype('int64'), 'X839': dtype('int64'), 'X840': dtype('int64'), 'X841': dtype('int64'), 'X842': dtype('int64'), 'X843': dtype('int64'), 'X844': dtype('int64'), 'X845': dtype('int64'), 'X846': dtype('int64'), 'X847': dtype('int64'), 'X848': dtype('int64'), 'X849': dtype('int64'), 'X850': dtype('int64'), 'X851': dtype('int64'), 'X852': dtype('int64'), 'X853': dtype('int64'), 'X854': dtype('int64'), 'X855': dtype('int64'), 'X856': dtype('int64'), 'X857': dtype('int64'), 'X858': dtype('int64'), 'X859': dtype('int64'), 'X860': dtype('int64'), 'X861': dtype('int64'), 'X862': dtype('int64'), 'X863': dtype('int64'), 'X864': dtype('int64'), 'X865': dtype('int64'), 'X866': dtype('int64'), 'X867': dtype('int64'), 'X868': dtype('int64'), 'X869': dtype('int64'), 'X870': dtype('int64'), 'X871': dtype('int64'), 'X872': dtype('int64'), 'X873': dtype('int64'), 'X874': dtype('int64'), 'X875': dtype('int64'), 'X876': dtype('int64'), 'X877': dtype('int64'), 'X878': dtype('int64'), 'X879': dtype('int64'), 'X880': dtype('int64'), 'X881': dtype('int64'), 'X882': dtype('int64'), 'X883': dtype('int64'), 'X884': dtype('int64'), 'X885': dtype('int64'), 'X886': dtype('int64'), 'X887': dtype('int64'), 'X888': dtype('int64'), 'X889': dtype('int64'), 'X890': dtype('int64'), 'X891': dtype('int64'), 'X892': dtype('int64'), 'X893': dtype('int64'), 'X894': dtype('int64'), 'X895': dtype('int64'), 'X896': dtype('int64'), 'X897': dtype('int64'), 'X898': dtype('int64'), 'X899': dtype('int64'), 'X900': dtype('int64'), 'X901': dtype('int64'), 'X902': dtype('int64'), 'X903': dtype('int64'), 'X904': dtype('int64'), 'X905': dtype('int64'), 'X906': dtype('int64'), 'X907': dtype('int64'), 'X908': dtype('int64'), 'X909': dtype('int64'), 'X910': dtype('int64'), 'X911': dtype('int64'), 'X912': dtype('int64'), 'X913': dtype('int64'), 'X914': dtype('int64'), 'X915': dtype('int64'), 'X916': dtype('int64'), 'X917': dtype('int64'), 'X918': dtype('int64'), 'X919': dtype('int64'), 'X920': dtype('int64'), 'X921': dtype('int64'), 'X922': dtype('int64'), 'X923': dtype('int64'), 'X924': dtype('int64'), 'X925': dtype('int64'), 'X926': dtype('int64'), 'X927': dtype('int64'), 'X928': dtype('int64'), 'X929': dtype('int64'), 'X930': dtype('int64'), 'X931': dtype('int64'), 'X932': dtype('int64'), 'X933': dtype('int64'), 'X934': dtype('int64'), 'X935': dtype('int64'), 'X936': dtype('int64'), 'X937': dtype('int64'), 'X938': dtype('int64'), 'X939': dtype('int64'), 'X940': dtype('int64'), 'X941': dtype('int64'), 'X942': dtype('int64'), 'X943': dtype('int64'), 'X944': dtype('int64'), 'X945': dtype('int64'), 'X946': dtype('int64'), 'X947': dtype('int64'), 'X948': dtype('int64'), 'X949': dtype('int64'), 'X950': dtype('int64'), 'X951': dtype('int64'), 'X952': dtype('int64'), 'X953': dtype('int64'), 'X954': dtype('int64'), 'X955': dtype('int64'), 'X956': dtype('int64'), 'X957': dtype('int64'), 'X958': dtype('int64'), 'X959': dtype('int64'), 'X960': dtype('int64'), 'X961': dtype('int64'), 'X962': dtype('int64'), 'X963': dtype('int64'), 'X964': dtype('int64'), 'X965': dtype('int64'), 'X966': dtype('int64'), 'X967': dtype('int64'), 'X968': dtype('int64'), 'X969': dtype('int64'), 'X970': dtype('int64'), 'X971': dtype('int64'), 'X972': dtype('int64'), 'X973': dtype('int64'), 'X974': dtype('int64'), 'X975': dtype('int64'), 'X976': dtype('int64'), 'X977': dtype('int64'), 'X978': dtype('int64'), 'X979': dtype('int64'), 'X980': dtype('int64'), 'X981': dtype('int64'), 'X982': dtype('int64'), 'X983': dtype('int64'), 'X984': dtype('int64'), 'X985': dtype('int64'), 'X986': dtype('int64'), 'X987': dtype('int64'), 'X988': dtype('int64'), 'X989': dtype('int64'), 'X990': dtype('int64'), 'X991': dtype('int64'), 'X992': dtype('int64'), 'X993': dtype('int64'), 'X994': dtype('int64'), 'X995': dtype('int64'), 'X996': dtype('int64'), 'X997': dtype('int64'), 'X998': dtype('int64'), 'X999': dtype('int64'), 'X1000': dtype('int64'), 'X1001': dtype('int64'), 'X1002': dtype('int64'), 'X1003': dtype('int64'), 'X1004': dtype('int64'), 'X1005': dtype('int64'), 'X1006': dtype('int64'), 'X1007': dtype('int64'), 'X1008': dtype('int64'), 'X1009': dtype('int64'), 'X1010': dtype('int64'), 'X1011': dtype('int64'), 'X1012': dtype('int64'), 'X1013': dtype('int64'), 'X1014': dtype('int64'), 'X1015': dtype('int64'), 'X1016': dtype('int64'), 'X1017': dtype('int64'), 'X1018': dtype('int64'), 'X1019': dtype('int64'), 'X1020': dtype('int64'), 'X1021': dtype('int64'), 'X1022': dtype('int64'), 'X1023': dtype('int64'), 'X1024': dtype('int64'), 'X1025': dtype('int64'), 'X1026': dtype('int64'), 'X1027': dtype('int64'), 'X1028': dtype('int64'), 'X1029': dtype('int64'), 'X1030': dtype('int64'), 'X1031': dtype('int64'), 'X1032': dtype('int64'), 'X1033': dtype('int64'), 'X1034': dtype('int64'), 'X1035': dtype('int64'), 'X1036': dtype('int64'), 'X1037': dtype('int64'), 'X1038': dtype('int64'), 'X1039': dtype('int64'), 'X1040': dtype('int64'), 'X1041': dtype('int64'), 'X1042': dtype('int64'), 'X1043': dtype('int64'), 'X1044': dtype('int64'), 'X1045': dtype('int64'), 'X1046': dtype('int64'), 'X1047': dtype('int64'), 'X1048': dtype('int64'), 'X1049': dtype('int64'), 'X1050': dtype('int64'), 'X1051': dtype('int64'), 'X1052': dtype('int64'), 'X1053': dtype('int64'), 'X1054': dtype('int64'), 'X1055': dtype('int64'), 'X1056': dtype('int64'), 'X1057': dtype('int64'), 'X1058': dtype('int64'), 'X1059': dtype('int64'), 'X1060': dtype('int64'), 'X1061': dtype('int64'), 'X1062': dtype('int64'), 'X1063': dtype('int64'), 'X1064': dtype('int64'), 'X1065': dtype('int64'), 'X1066': dtype('int64'), 'X1067': dtype('int64'), 'X1068': dtype('int64'), 'X1069': dtype('int64'), 'X1070': dtype('int64'), 'X1071': dtype('int64'), 'X1072': dtype('int64'), 'X1073': dtype('int64'), 'X1074': dtype('int64'), 'X1075': dtype('int64'), 'X1076': dtype('int64'), 'X1077': dtype('int64'), 'X1078': dtype('int64'), 'X1079': dtype('int64'), 'X1080': dtype('int64'), 'X1081': dtype('int64'), 'X1082': dtype('int64'), 'X1083': dtype('int64'), 'X1084': dtype('int64'), 'X1085': dtype('int64'), 'X1086': dtype('int64'), 'X1087': dtype('int64'), 'X1088': dtype('int64'), 'X1089': dtype('int64'), 'X1090': dtype('int64'), 'X1091': dtype('int64'), 'X1092': dtype('int64'), 'X1093': dtype('int64'), 'X1094': dtype('int64'), 'X1095': dtype('int64'), 'X1096': dtype('int64'), 'X1097': dtype('int64'), 'X1098': dtype('int64'), 'X1099': dtype('int64'), 'X1100': dtype('int64'), 'X1101': dtype('int64'), 'X1102': dtype('int64'), 'X1103': dtype('int64'), 'X1104': dtype('int64'), 'X1105': dtype('int64'), 'X1106': dtype('int64'), 'X1107': dtype('int64'), 'X1108': dtype('int64'), 'X1109': dtype('int64'), 'X1110': dtype('int64'), 'X1111': dtype('int64'), 'X1112': dtype('int64'), 'X1113': dtype('int64'), 'X1114': dtype('int64'), 'X1115': dtype('int64'), 'X1116': dtype('int64'), 'X1117': dtype('int64'), 'X1118': dtype('int64'), 'X1119': dtype('int64'), 'X1120': dtype('int64'), 'X1121': dtype('int64'), 'X1122': dtype('int64'), 'X1123': dtype('int64'), 'X1124': dtype('int64'), 'X1125': dtype('int64'), 'X1126': dtype('int64'), 'X1127': dtype('int64'), 'X1128': dtype('int64'), 'X1129': dtype('int64'), 'X1130': dtype('int64'), 'X1131': dtype('int64'), 'X1132': dtype('int64'), 'X1133': dtype('int64'), 'X1134': dtype('int64'), 'X1135': dtype('int64'), 'X1136': dtype('int64'), 'X1137': dtype('int64'), 'X1138': dtype('int64'), 'X1139': dtype('int64'), 'X1140': dtype('int64'), 'X1141': dtype('int64'), 'X1142': dtype('int64'), 'X1143': dtype('int64'), 'X1144': dtype('int64'), 'X1145': dtype('int64'), 'X1146': dtype('int64'), 'X1147': dtype('int64'), 'X1148': dtype('int64'), 'X1149': dtype('int64'), 'X1150': dtype('int64'), 'X1151': dtype('int64'), 'X1152': dtype('int64'), 'X1153': dtype('int64'), 'X1154': dtype('int64'), 'X1155': dtype('int64'), 'X1156': dtype('int64'), 'X1157': dtype('int64'), 'X1158': dtype('int64'), 'X1159': dtype('int64'), 'X1160': dtype('int64'), 'X1161': dtype('int64'), 'X1162': dtype('int64'), 'X1163': dtype('int64'), 'X1164': dtype('int64'), 'X1165': dtype('int64'), 'X1166': dtype('int64'), 'X1167': dtype('int64'), 'X1168': dtype('int64'), 'X1169': dtype('int64'), 'X1170': dtype('int64'), 'X1171': dtype('int64'), 'X1172': dtype('int64'), 'X1173': dtype('int64'), 'X1174': dtype('int64'), 'X1175': dtype('int64'), 'X1176': dtype('int64'), 'X1177': dtype('int64'), 'X1178': dtype('int64'), 'X1179': dtype('int64'), 'X1180': dtype('int64'), 'X1181': dtype('int64'), 'X1182': dtype('int64'), 'X1183': dtype('int64'), 'X1184': dtype('int64'), 'X1185': dtype('int64'), 'X1186': dtype('int64'), 'X1187': dtype('int64'), 'X1188': dtype('int64'), 'X1189': dtype('int64'), 'X1190': dtype('int64'), 'X1191': dtype('int64'), 'X1192': dtype('int64'), 'X1193': dtype('int64'), 'X1194': dtype('int64'), 'X1195': dtype('int64'), 'X1196': dtype('int64'), 'X1197': dtype('int64'), 'X1198': dtype('int64'), 'X1199': dtype('int64'), 'X1200': dtype('int64'), 'X1201': dtype('int64'), 'X1202': dtype('int64'), 'X1203': dtype('int64'), 'X1204': dtype('int64'), 'X1205': dtype('int64'), 'X1206': dtype('int64'), 'X1207': dtype('int64'), 'X1208': dtype('int64'), 'X1209': dtype('int64'), 'X1210': dtype('int64'), 'X1211': dtype('int64'), 'X1212': dtype('int64'), 'X1213': dtype('int64'), 'X1214': dtype('int64'), 'X1215': dtype('int64'), 'X1216': dtype('int64'), 'X1217': dtype('int64'), 'X1218': dtype('int64'), 'X1219': dtype('int64'), 'X1220': dtype('int64'), 'X1221': dtype('int64'), 'X1222': dtype('int64'), 'X1223': dtype('int64'), 'X1224': dtype('int64'), 'X1225': dtype('int64'), 'X1226': dtype('int64'), 'X1227': dtype('int64'), 'X1228': dtype('int64'), 'X1229': dtype('int64'), 'X1230': dtype('int64'), 'X1231': dtype('int64'), 'X1232': dtype('int64'), 'X1233': dtype('int64'), 'X1234': dtype('int64'), 'X1235': dtype('int64'), 'X1236': dtype('int64'), 'X1237': dtype('int64'), 'X1238': dtype('int64'), 'X1239': dtype('int64'), 'X1240': dtype('int64'), 'X1241': dtype('int64'), 'X1242': dtype('int64'), 'X1243': dtype('int64'), 'X1244': dtype('int64'), 'X1245': dtype('int64'), 'X1246': dtype('int64'), 'X1247': dtype('int64'), 'X1248': dtype('int64'), 'X1249': dtype('int64'), 'X1250': dtype('int64'), 'X1251': dtype('int64'), 'X1252': dtype('int64'), 'X1253': dtype('int64'), 'X1254': dtype('int64'), 'X1255': dtype('int64'), 'X1256': dtype('int64'), 'X1257': dtype('int64'), 'X1258': dtype('int64'), 'X1259': dtype('int64'), 'X1260': dtype('int64'), 'X1261': dtype('int64'), 'X1262': dtype('int64'), 'X1263': dtype('int64'), 'X1264': dtype('int64'), 'X1265': dtype('int64'), 'X1266': dtype('int64'), 'X1267': dtype('int64'), 'X1268': dtype('int64'), 'X1269': dtype('int64'), 'X1270': dtype('int64'), 'X1271': dtype('int64'), 'X1272': dtype('int64'), 'X1273': dtype('int64'), 'X1274': dtype('int64'), 'X1275': dtype('int64'), 'X1276': dtype('int64'), 'X1277': dtype('int64'), 'X1278': dtype('int64'), 'X1279': dtype('int64'), 'X1280': dtype('int64'), 'X1281': dtype('int64'), 'X1282': dtype('int64'), 'X1283': dtype('int64'), 'X1284': dtype('int64'), 'X1285': dtype('int64'), 'X1286': dtype('int64'), 'X1287': dtype('int64'), 'X1288': dtype('int64'), 'X1289': dtype('int64'), 'X1290': dtype('int64'), 'X1291': dtype('int64'), 'X1292': dtype('int64'), 'X1293': dtype('int64'), 'X1294': dtype('int64'), 'X1295': dtype('int64'), 'X1296': dtype('int64'), 'X1297': dtype('int64'), 'X1298': dtype('int64'), 'X1299': dtype('int64'), 'X1300': dtype('int64'), 'X1301': dtype('int64'), 'X1302': dtype('int64'), 'X1303': dtype('int64'), 'X1304': dtype('int64'), 'X1305': dtype('int64'), 'X1306': dtype('int64'), 'X1307': dtype('int64'), 'X1308': dtype('int64'), 'X1309': dtype('int64'), 'X1310': dtype('int64'), 'X1311': dtype('int64'), 'X1312': dtype('int64'), 'X1313': dtype('int64'), 'X1314': dtype('int64'), 'X1315': dtype('int64'), 'X1316': dtype('int64'), 'X1317': dtype('int64'), 'X1318': dtype('int64'), 'X1319': dtype('int64'), 'X1320': dtype('int64'), 'X1321': dtype('int64'), 'X1322': dtype('int64'), 'X1323': dtype('int64'), 'X1324': dtype('int64'), 'X1325': dtype('int64'), 'X1326': dtype('int64'), 'X1327': dtype('int64'), 'X1328': dtype('int64'), 'X1329': dtype('int64'), 'X1330': dtype('int64'), 'X1331': dtype('int64'), 'X1332': dtype('int64'), 'X1333': dtype('int64'), 'X1334': dtype('int64'), 'X1335': dtype('int64'), 'X1336': dtype('int64'), 'X1337': dtype('int64'), 'X1338': dtype('int64'), 'X1339': dtype('int64'), 'X1340': dtype('int64'), 'X1341': dtype('int64'), 'X1342': dtype('int64'), 'X1343': dtype('int64'), 'X1344': dtype('int64'), 'X1345': dtype('int64'), 'X1346': dtype('int64'), 'X1347': dtype('int64'), 'X1348': dtype('int64'), 'X1349': dtype('int64'), 'X1350': dtype('int64'), 'X1351': dtype('int64'), 'X1352': dtype('int64'), 'X1353': dtype('int64'), 'X1354': dtype('int64'), 'X1355': dtype('int64'), 'X1356': dtype('int64'), 'X1357': dtype('int64'), 'X1358': dtype('int64'), 'X1359': dtype('int64'), 'X1360': dtype('int64'), 'X1361': dtype('int64'), 'X1362': dtype('int64'), 'X1363': dtype('int64'), 'X1364': dtype('int64'), 'X1365': dtype('int64'), 'X1366': dtype('int64'), 'X1367': dtype('int64'), 'X1368': dtype('int64'), 'X1369': dtype('int64'), 'X1370': dtype('int64'), 'X1371': dtype('int64'), 'X1372': dtype('int64'), 'X1373': dtype('int64'), 'X1374': dtype('int64'), 'X1375': dtype('int64'), 'X1376': dtype('int64'), 'X1377': dtype('int64'), 'X1378': dtype('int64'), 'X1379': dtype('int64'), 'X1380': dtype('int64'), 'X1381': dtype('int64'), 'X1382': dtype('int64'), 'X1383': dtype('int64'), 'X1384': dtype('int64'), 'X1385': dtype('int64'), 'X1386': dtype('int64'), 'X1387': dtype('int64'), 'X1388': dtype('int64'), 'X1389': dtype('int64'), 'X1390': dtype('int64'), 'X1391': dtype('int64'), 'X1392': dtype('int64'), 'X1393': dtype('int64'), 'X1394': dtype('int64'), 'X1395': dtype('int64'), 'X1396': dtype('int64'), 'X1397': dtype('int64'), 'X1398': dtype('int64'), 'X1399': dtype('int64'), 'X1400': dtype('int64'), 'X1401': dtype('int64'), 'X1402': dtype('int64'), 'X1403': dtype('int64'), 'X1404': dtype('int64'), 'X1405': dtype('int64'), 'X1406': dtype('int64'), 'X1407': dtype('int64'), 'X1408': dtype('int64'), 'X1409': dtype('int64'), 'X1410': dtype('int64'), 'X1411': dtype('int64'), 'X1412': dtype('int64'), 'X1413': dtype('int64'), 'X1414': dtype('int64'), 'X1415': dtype('int64'), 'X1416': dtype('int64'), 'X1417': dtype('int64'), 'X1418': dtype('int64'), 'X1419': dtype('int64'), 'X1420': dtype('int64'), 'X1421': dtype('int64'), 'X1422': dtype('int64'), 'X1423': dtype('int64'), 'X1424': dtype('int64'), 'X1425': dtype('int64'), 'X1426': dtype('int64'), 'X1427': dtype('int64'), 'X1428': dtype('int64'), 'X1429': dtype('int64'), 'X1430': dtype('int64'), 'X1431': dtype('int64'), 'X1432': dtype('int64'), 'X1433': dtype('int64'), 'X1434': dtype('int64'), 'X1435': dtype('int64'), 'X1436': dtype('int64'), 'X1437': dtype('int64'), 'X1438': dtype('int64'), 'X1439': dtype('int64'), 'X1440': dtype('int64'), 'X1441': dtype('int64'), 'X1442': dtype('int64'), 'X1443': dtype('int64'), 'X1444': dtype('int64'), 'X1445': dtype('int64'), 'X1446': dtype('int64'), 'X1447': dtype('int64'), 'X1448': dtype('int64'), 'X1449': dtype('int64'), 'X1450': dtype('int64'), 'X1451': dtype('int64'), 'X1452': dtype('int64'), 'X1453': dtype('int64'), 'X1454': dtype('int64'), 'X1455': dtype('int64'), 'X1456': dtype('int64'), 'X1457': dtype('int64'), 'X1458': dtype('int64'), 'X1459': dtype('int64'), 'X1460': dtype('int64'), 'X1461': dtype('int64'), 'X1462': dtype('int64'), 'X1463': dtype('int64'), 'X1464': dtype('int64'), 'X1465': dtype('int64'), 'X1466': dtype('int64'), 'X1467': dtype('int64'), 'X1468': dtype('int64'), 'X1469': dtype('int64'), 'X1470': dtype('int64'), 'X1471': dtype('int64'), 'X1472': dtype('int64'), 'X1473': dtype('int64'), 'X1474': dtype('int64'), 'X1475': dtype('int64'), 'X1476': dtype('int64'), 'X1477': dtype('int64'), 'X1478': dtype('int64'), 'X1479': dtype('int64'), 'X1480': dtype('int64'), 'X1481': dtype('int64'), 'X1482': dtype('int64'), 'X1483': dtype('int64'), 'X1484': dtype('int64'), 'X1485': dtype('int64'), 'X1486': dtype('int64'), 'X1487': dtype('int64'), 'X1488': dtype('int64'), 'X1489': dtype('int64'), 'X1490': dtype('int64'), 'X1491': dtype('int64'), 'X1492': dtype('int64'), 'X1493': dtype('int64'), 'X1494': dtype('int64'), 'X1495': dtype('int64'), 'X1496': dtype('int64'), 'X1497': dtype('int64'), 'X1498': dtype('int64'), 'X1499': dtype('int64'), 'X1500': dtype('int64'), 'X1501': dtype('int64'), 'X1502': dtype('int64'), 'X1503': dtype('int64'), 'X1504': dtype('int64'), 'X1505': dtype('int64'), 'X1506': dtype('int64'), 'X1507': dtype('int64'), 'X1508': dtype('int64'), 'X1509': dtype('int64'), 'X1510': dtype('int64'), 'X1511': dtype('int64'), 'X1512': dtype('int64'), 'X1513': dtype('int64'), 'X1514': dtype('int64'), 'X1515': dtype('int64'), 'X1516': dtype('int64'), 'X1517': dtype('int64'), 'X1518': dtype('int64'), 'X1519': dtype('int64'), 'X1520': dtype('int64'), 'X1521': dtype('int64'), 'X1522': dtype('int64'), 'X1523': dtype('int64'), 'X1524': dtype('int64'), 'X1525': dtype('int64'), 'X1526': dtype('int64'), 'X1527': dtype('int64'), 'X1528': dtype('int64'), 'X1529': dtype('int64'), 'X1530': dtype('int64'), 'X1531': dtype('int64'), 'X1532': dtype('int64'), 'X1533': dtype('int64'), 'X1534': dtype('int64'), 'X1535': dtype('int64'), 'X1536': dtype('int64'), 'X1537': dtype('int64'), 'X1538': dtype('int64'), 'X1539': dtype('int64'), 'X1540': dtype('int64'), 'X1541': dtype('int64'), 'X1542': dtype('int64'), 'X1543': dtype('int64'), 'X1544': dtype('int64'), 'X1545': dtype('int64'), 'X1546': dtype('int64'), 'X1547': dtype('int64'), 'X1548': dtype('int64'), 'X1549': dtype('int64'), 'X1550': dtype('int64'), 'X1551': dtype('int64'), 'X1552': dtype('int64'), 'X1553': dtype('int64'), 'X1554': dtype('int64'), 'X1555': dtype('int64'), 'X1556': dtype('int64'), 'X1557': dtype('int64'), 'X1558': dtype('int64')}\n",
      "2025-08-16 19:01:55,810 - INFO - Variables continues imputées avec KNN\n",
      "2025-08-16 19:01:55,824 - WARNING - Pas de valeurs de capping valides pour X1_transformed, ignoré\n",
      "2025-08-16 19:01:55,825 - WARNING - Pas de valeurs de capping valides pour X2_transformed, ignoré\n",
      "2025-08-16 19:01:55,825 - WARNING - Pas de valeurs de capping valides pour X3_transformed, ignoré\n",
      "2025-08-16 19:01:55,826 - INFO - Capping des outliers appliqué\n",
      "2025-08-16 19:01:55,831 - INFO - Features polynomiales ajoutées : 9 colonnes\n",
      "2025-08-16 19:01:55,832 - INFO - Chargement du modèle champion : GradBoost KNN Reduced\n"
     ]
    },
    {
     "ename": "FileNotFoundError",
     "evalue": "Modèle non trouvé : C:\\sta211-project\\models\\pipeline_gradboost_knn_reduced.joblib",
     "output_type": "error",
     "traceback": [
      "\u001b[1;31m---------------------------------------------------------------------------\u001b[0m",
      "\u001b[1;31mFileNotFoundError\u001b[0m                         Traceback (most recent call last)",
      "Cell \u001b[1;32mIn[48], line 5\u001b[0m\n\u001b[0;32m      1\u001b[0m \u001b[38;5;28;01mfrom\u001b[39;00m\u001b[38;5;250m \u001b[39m\u001b[38;5;21;01mmodules\u001b[39;00m\u001b[38;5;21;01m.\u001b[39;00m\u001b[38;5;21;01mutils\u001b[39;00m\u001b[38;5;250m \u001b[39m\u001b[38;5;28;01mimport\u001b[39;00m generate_final_predictions\n\u001b[0;32m      4\u001b[0m \u001b[38;5;66;03m#meilleur model individuel\u001b[39;00m\n\u001b[1;32m----> 5\u001b[0m individual_submission \u001b[38;5;241m=\u001b[39m \u001b[43mgenerate_final_predictions\u001b[49m\u001b[43m(\u001b[49m\n\u001b[0;32m      6\u001b[0m \u001b[43m  \u001b[49m\u001b[43muse_stacking\u001b[49m\u001b[38;5;241;43m=\u001b[39;49m\u001b[38;5;28;43;01mFalse\u001b[39;49;00m\u001b[43m,\u001b[49m\n\u001b[0;32m      7\u001b[0m \u001b[43m  \u001b[49m\u001b[43mauto_select\u001b[49m\u001b[38;5;241;43m=\u001b[39;49m\u001b[38;5;28;43;01mTrue\u001b[39;49;00m\u001b[43m,\u001b[49m\n\u001b[0;32m      8\u001b[0m \u001b[43m  \u001b[49m\u001b[43mresults_csv_path\u001b[49m\u001b[38;5;241;43m=\u001b[39;49m\u001b[38;5;124;43m\"\u001b[39;49m\u001b[38;5;124;43moutputs/evaluation_test/test_results_all_models.csv\u001b[39;49m\u001b[38;5;124;43m\"\u001b[39;49m\u001b[43m,\u001b[49m\n\u001b[0;32m      9\u001b[0m \u001b[43m  \u001b[49m\u001b[43mbase_dir\u001b[49m\u001b[38;5;241;43m=\u001b[39;49m\u001b[43mcfg\u001b[49m\u001b[38;5;241;43m.\u001b[39;49m\u001b[43mpaths\u001b[49m\u001b[38;5;241;43m.\u001b[39;49m\u001b[43mroot\u001b[49m\n\u001b[0;32m     10\u001b[0m \u001b[43m)\u001b[49m\n\u001b[0;32m     12\u001b[0m \u001b[38;5;66;03m# ou le meilleur stacking\u001b[39;00m\n\u001b[0;32m     13\u001b[0m \u001b[38;5;66;03m# # Utiliser le chemin absolu vers le répertoire racine du projet\u001b[39;00m\n\u001b[0;32m     14\u001b[0m \u001b[38;5;66;03m# stacking_submission = generate_final_predictions(\u001b[39;00m\n\u001b[1;32m   (...)\u001b[0m\n\u001b[0;32m     18\u001b[0m \u001b[38;5;66;03m#     base_dir= cfg.paths.root # ou chemin absolue \"C:/sta211-project\"  \u001b[39;00m\n\u001b[0;32m     19\u001b[0m \u001b[38;5;66;03m# )\u001b[39;00m\n",
      "File \u001b[1;32mC:\\sta211-project\\modules\\prediction.py:761\u001b[0m, in \u001b[0;36mgenerate_final_predictions\u001b[1;34m(use_stacking, auto_select, results_csv_path, stacking_dir, base_dir)\u001b[0m\n\u001b[0;32m    759\u001b[0m                 default_csv \u001b[38;5;241m=\u001b[39m pipeline\u001b[38;5;241m.\u001b[39moutputs_dir \u001b[38;5;241m/\u001b[39m \u001b[38;5;124m\"\u001b[39m\u001b[38;5;124mmodeling\u001b[39m\u001b[38;5;124m\"\u001b[39m \u001b[38;5;241m/\u001b[39m \u001b[38;5;124m\"\u001b[39m\u001b[38;5;124mcross_validation_results.csv\u001b[39m\u001b[38;5;124m\"\u001b[39m\n\u001b[0;32m    760\u001b[0m             results_csv_path \u001b[38;5;241m=\u001b[39m default_csv\n\u001b[1;32m--> 761\u001b[0m         \u001b[38;5;28;01mreturn\u001b[39;00m \u001b[43mpipeline\u001b[49m\u001b[38;5;241;43m.\u001b[39;49m\u001b[43mgenerate_predictions_with_best_model_auto\u001b[49m\u001b[43m(\u001b[49m\u001b[43mresults_csv_path\u001b[49m\u001b[43m)\u001b[49m\n\u001b[0;32m    762\u001b[0m \u001b[38;5;28;01melse\u001b[39;00m:\n\u001b[0;32m    763\u001b[0m     \u001b[38;5;66;03m# Pas d'auto-sélection\u001b[39;00m\n\u001b[0;32m    764\u001b[0m     \u001b[38;5;28;01mif\u001b[39;00m use_stacking:\n",
      "File \u001b[1;32mC:\\sta211-project\\modules\\prediction.py:449\u001b[0m, in \u001b[0;36mPredictionPipeline.generate_predictions_with_best_model_auto\u001b[1;34m(self, results_csv_path)\u001b[0m\n\u001b[0;32m    447\u001b[0m     logger\u001b[38;5;241m.\u001b[39merror(\u001b[38;5;124mf\u001b[39m\u001b[38;5;124m\"\u001b[39m\u001b[38;5;124mFichier de résultats introuvable : \u001b[39m\u001b[38;5;132;01m{\u001b[39;00mresults_csv_path\u001b[38;5;132;01m}\u001b[39;00m\u001b[38;5;124m\"\u001b[39m)\n\u001b[0;32m    448\u001b[0m     logger\u001b[38;5;241m.\u001b[39mwarning(\u001b[38;5;124m\"\u001b[39m\u001b[38;5;124mRetour au modèle champion…\u001b[39m\u001b[38;5;124m\"\u001b[39m)\n\u001b[1;32m--> 449\u001b[0m     \u001b[38;5;28;01mreturn\u001b[39;00m \u001b[38;5;28;43mself\u001b[39;49m\u001b[38;5;241;43m.\u001b[39;49m\u001b[43mgenerate_predictions_with_best_model\u001b[49m\u001b[43m(\u001b[49m\u001b[43m)\u001b[49m\n\u001b[0;32m    451\u001b[0m \u001b[38;5;28;01mtry\u001b[39;00m:\n\u001b[0;32m    452\u001b[0m     df \u001b[38;5;241m=\u001b[39m pd\u001b[38;5;241m.\u001b[39mread_csv(results_csv_path)\n",
      "File \u001b[1;32mC:\\sta211-project\\modules\\prediction.py:267\u001b[0m, in \u001b[0;36mPredictionPipeline.generate_predictions_with_best_model\u001b[1;34m(self)\u001b[0m\n\u001b[0;32m    264\u001b[0m     model_path \u001b[38;5;241m=\u001b[39m \u001b[38;5;28mself\u001b[39m\u001b[38;5;241m.\u001b[39mmodels_dir \u001b[38;5;241m/\u001b[39m \u001b[38;5;124m\"\u001b[39m\u001b[38;5;124mpipeline_gradboost_knn_reduced.joblib\u001b[39m\u001b[38;5;124m\"\u001b[39m\n\u001b[0;32m    266\u001b[0m \u001b[38;5;28;01mif\u001b[39;00m \u001b[38;5;129;01mnot\u001b[39;00m model_path\u001b[38;5;241m.\u001b[39mexists():\n\u001b[1;32m--> 267\u001b[0m     \u001b[38;5;28;01mraise\u001b[39;00m \u001b[38;5;167;01mFileNotFoundError\u001b[39;00m(\u001b[38;5;124mf\u001b[39m\u001b[38;5;124m\"\u001b[39m\u001b[38;5;124mModèle non trouvé : \u001b[39m\u001b[38;5;132;01m{\u001b[39;00mmodel_path\u001b[38;5;132;01m}\u001b[39;00m\u001b[38;5;124m\"\u001b[39m)\n\u001b[0;32m    269\u001b[0m model \u001b[38;5;241m=\u001b[39m joblib\u001b[38;5;241m.\u001b[39mload(model_path)\n\u001b[0;32m    270\u001b[0m logger\u001b[38;5;241m.\u001b[39minfo(\u001b[38;5;124mf\u001b[39m\u001b[38;5;124m\"\u001b[39m\u001b[38;5;124mModèle chargé depuis : \u001b[39m\u001b[38;5;132;01m{\u001b[39;00mmodel_path\u001b[38;5;132;01m}\u001b[39;00m\u001b[38;5;124m\"\u001b[39m)\n",
      "\u001b[1;31mFileNotFoundError\u001b[0m: Modèle non trouvé : C:\\sta211-project\\models\\pipeline_gradboost_knn_reduced.joblib"
     ]
    }
   ],
   "source": [
    "from modules.utils import generate_final_predictions\n",
    "\n",
    "\n",
    "#meilleur model individuel\n",
    "individual_submission = generate_final_predictions(\n",
    "  use_stacking=False,\n",
    "  auto_select=True,\n",
    "  results_csv_path=\"outputs/evaluation_test/test_results_all_models.csv\",\n",
    "  base_dir=cfg.paths.root\n",
    ")\n",
    "\n",
    "# ou le meilleur stacking\n",
    "# # Utiliser le chemin absolu vers le répertoire racine du projet\n",
    "# stacking_submission = generate_final_predictions(\n",
    "#     use_stacking=True,\n",
    "#     auto_select=True,\n",
    "#     stacking_dir=\"artifacts/models/notebook3/stacking\",\n",
    "#     base_dir= cfg.paths.root # ou chemin absolue \"C:/sta211-project\"  \n",
    "# )"
   ]
  },
  {
   "cell_type": "markdown",
   "id": "c937bfa9",
   "metadata": {
    "id": "c937bfa9"
   },
   "source": [
    "### Prédictions Finales Générées\n",
    "\n",
    "**✅ PRÉDICTIONS FINALES GÉNÉRÉES AVEC SUCCÈS !**\n",
    "\n",
    "- **Modèle champion utilisé** : Stacking sans refit KNN (F1 ≈ 0.93)\n",
    "- **Seuil optimal appliqué** : 0.5700\n",
    "- **Fichier de soumission** : `predictions_stacking_knn_submission.csv`\n",
    "- **Distribution des prédictions** :\n",
    "  - Publicités (ad.) : 90 prédictions (11.0%)\n",
    "  - Non-publicités (noad.) : 730 prédictions (89.0%)\n",
    "- **Accord avec Gradient Boosting MICE** : 96.7% (excellent consensus)\n",
    "\n",
    "**📁 Fichiers créés :**\n",
    "- `predictions_stacking_knn_submission.csv` ← **SOUMISSION RECOMMANDÉE**\n",
    "- `predictions_gradboost_mice_submission.csv` ← Alternative\n",
    "- `predictions_finales_detailed.csv` ← Détails complets\n",
    "\n",
    "**🚀 Le projet STA211 est maintenant COMPLET et prêt pour la soumission !**"
   ]
  },
  {
   "cell_type": "markdown",
   "id": "8d254f4f",
   "metadata": {},
   "source": []
  }
 ],
 "metadata": {
  "colab": {
   "provenance": []
  },
  "kernelspec": {
   "display_name": "Python (sta211_colab)",
   "language": "python",
   "name": "sta211_colab"
  },
  "language_info": {
   "codemirror_mode": {
    "name": "ipython",
    "version": 3
   },
   "file_extension": ".py",
   "mimetype": "text/x-python",
   "name": "python",
   "nbconvert_exporter": "python",
   "pygments_lexer": "ipython3",
   "version": "3.10.18"
  },
  "widgets": {
   "application/vnd.jupyter.widget-state+json": {
    "state": {},
    "version_major": 2,
    "version_minor": 0
   }
  }
 },
 "nbformat": 4,
 "nbformat_minor": 5
}
